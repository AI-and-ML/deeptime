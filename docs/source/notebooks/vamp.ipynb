{
 "cells": [
  {
   "cell_type": "markdown",
   "metadata": {},
   "source": [
    "# VAMP\n",
    "\n",
    "For users already familiar with the VAMP interface: The corresponding [API docs](../api/generated/sktime.decomposition.VAMP.rst#sktime.decomposition.VAMP).\n",
    "\n",
    "VAMP is short for [V]ariational [A]pproach for [M]arkov [P]rocesses and was introduced in <cite data-cite=\"wu2020variational\">(Wu, 2020)</cite>. It can be used as linear dimensionality reduction tool and extends [TICA](tica.ipynb) in the sense that it gives rise to a systematic way to select input features as well as handles off-equilibrium data consistently.\n",
    "\n",
    "While the VAMP model possesses methods to project data into lower dimensions, it also is equipped with scoring functions (the so-called VAMP scores), which allow ranking of features. This has been demonstrated in, e.g., <cite data-cite=\"scherer2019variational\">(Scherer, 2019)</cite>."
   ]
  },
  {
   "cell_type": "code",
   "execution_count": null,
   "metadata": {},
   "outputs": [],
   "source": [
    "import numpy as np  # NumPy for general numerical operations\n",
    "import sktime"
   ]
  },
  {
   "cell_type": "markdown",
   "metadata": {},
   "source": [
    "In short, a VAMP model can be estimated by first creating an estimator"
   ]
  },
  {
   "cell_type": "code",
   "execution_count": null,
   "metadata": {},
   "outputs": [],
   "source": [
    "vamp_estimator = sktime.decomposition.VAMP(lagtime=1, dim=.9, scaling=\"kinetic_map\")"
   ]
  },
  {
   "cell_type": "code",
   "execution_count": null,
   "metadata": {},
   "outputs": [],
   "source": [
    "ellipsoids = sktime.data.ellipsoids(seed=17)  # create dataset instance\n",
    "discrete_trajectory = ellipsoids.discrete_trajectory(n_steps=1000)  # discrete transitions\n",
    "feature_trajectory = ellipsoids.map_discrete_to_observations(discrete_trajectory)  # corresponding observations"
   ]
  },
  {
   "cell_type": "code",
   "execution_count": null,
   "metadata": {},
   "outputs": [],
   "source": [
    "vamp = sktime.decomposition.VAMP(\n",
    "    lagtime=1,  # time shift is one step\n",
    "    dim=1,  # fix projection dimension explicitly\n",
    "    scaling=None,\n",
    "    right=False,\n",
    "    epsilon=1e-5,\n",
    "    ncov=5\n",
    ")"
   ]
  },
  {
   "cell_type": "code",
   "execution_count": null,
   "metadata": {},
   "outputs": [],
   "source": [
    "vamp.fit(feature_trajectory)"
   ]
  },
  {
   "cell_type": "code",
   "execution_count": null,
   "metadata": {},
   "outputs": [],
   "source": [
    "model = vamp.fetch_model()"
   ]
  },
  {
   "cell_type": "markdown",
   "metadata": {},
   "source": [
    "Model contains covariances model (from covariance estimator)"
   ]
  },
  {
   "cell_type": "code",
   "execution_count": null,
   "metadata": {},
   "outputs": [],
   "source": [
    "model.cov"
   ]
  },
  {
   "cell_type": "markdown",
   "metadata": {},
   "source": [
    "And also gives direct access to c00, c0t, ctt"
   ]
  },
  {
   "cell_type": "code",
   "execution_count": null,
   "metadata": {},
   "outputs": [],
   "source": [
    "model.cov_00, model.cov_0t, model.cov_tt"
   ]
  },
  {
   "cell_type": "markdown",
   "metadata": {},
   "source": [
    "Cumulative variance"
   ]
  },
  {
   "cell_type": "code",
   "execution_count": null,
   "metadata": {},
   "outputs": [],
   "source": [
    "model.cumvar"
   ]
  },
  {
   "cell_type": "markdown",
   "metadata": {},
   "source": [
    "Dimension parameter of estimator"
   ]
  },
  {
   "cell_type": "code",
   "execution_count": null,
   "metadata": {},
   "outputs": [],
   "source": [
    "model.dim"
   ]
  },
  {
   "cell_type": "markdown",
   "metadata": {},
   "source": [
    "Epsilon parameter of estimator"
   ]
  },
  {
   "cell_type": "code",
   "execution_count": null,
   "metadata": {},
   "outputs": [],
   "source": [
    "model.epsilon"
   ]
  },
  {
   "cell_type": "markdown",
   "metadata": {},
   "source": [
    "Compute future expectation of observable or covariance using the approximated Koopman operator."
   ]
  },
  {
   "cell_type": "code",
   "execution_count": null,
   "metadata": {},
   "outputs": [],
   "source": [
    "model.expectation  # currently broken"
   ]
  },
  {
   "cell_type": "code",
   "execution_count": null,
   "metadata": {},
   "outputs": [],
   "source": [
    "model.mean_0, model.mean_t"
   ]
  },
  {
   "cell_type": "code",
   "execution_count": null,
   "metadata": {},
   "outputs": [],
   "source": [
    "model.output_dimension"
   ]
  },
  {
   "cell_type": "code",
   "execution_count": null,
   "metadata": {},
   "outputs": [],
   "source": [
    "model.right"
   ]
  },
  {
   "cell_type": "code",
   "execution_count": null,
   "metadata": {},
   "outputs": [],
   "source": [
    "model.scaling"
   ]
  },
  {
   "cell_type": "code",
   "execution_count": null,
   "metadata": {},
   "outputs": [],
   "source": [
    "model.score(test_model=None, score_method=\"VAMP2\")  # todo: this can be reduced to method=\"VAMP2\""
   ]
  },
  {
   "cell_type": "code",
   "execution_count": null,
   "metadata": {},
   "outputs": [],
   "source": [
    "model.singular_values"
   ]
  },
  {
   "cell_type": "code",
   "execution_count": null,
   "metadata": {},
   "outputs": [],
   "source": [
    "model.singular_vectors_left, model.singular_vectors_right"
   ]
  },
  {
   "cell_type": "code",
   "execution_count": null,
   "metadata": {},
   "outputs": [],
   "source": [
    "projection = model.transform(feature_trajectory)"
   ]
  },
  {
   "cell_type": "code",
   "execution_count": null,
   "metadata": {},
   "outputs": [],
   "source": [
    "import matplotlib as mpl\n",
    "import matplotlib.animation as animation\n",
    "import matplotlib.pyplot as plt\n",
    "plt.plot(projection)"
   ]
  },
  {
   "cell_type": "code",
   "execution_count": null,
   "metadata": {},
   "outputs": [],
   "source": []
  },
  {
   "cell_type": "code",
   "execution_count": null,
   "metadata": {},
   "outputs": [],
   "source": []
  },
  {
   "cell_type": "code",
   "execution_count": null,
   "metadata": {},
   "outputs": [],
   "source": []
  },
  {
   "cell_type": "code",
   "execution_count": null,
   "metadata": {},
   "outputs": [],
   "source": []
  },
  {
   "cell_type": "code",
   "execution_count": null,
   "metadata": {},
   "outputs": [],
   "source": [
    "from sktime.data.pbf import PBF"
   ]
  },
  {
   "cell_type": "code",
   "execution_count": null,
   "metadata": {},
   "outputs": [],
   "source": [
    "interaction_distance = 1.5\n",
    "init_pos_x = np.arange(-24, 24, interaction_distance*.9).astype(np.float32)\n",
    "init_pos_y = np.arange(0, 24, interaction_distance*.9).astype(np.float32)\n",
    "init_pos = np.dstack(np.meshgrid(init_pos_x, init_pos_y)).reshape(-1, 2)\n",
    "n_particles = init_pos.shape[0]\n",
    "pbf = PBF(np.array([50, 50]), init_pos, interaction_distance, 8)"
   ]
  },
  {
   "cell_type": "code",
   "execution_count": null,
   "metadata": {},
   "outputs": [],
   "source": [
    "n_burn_in = 5000"
   ]
  },
  {
   "cell_type": "code",
   "execution_count": null,
   "metadata": {},
   "outputs": [],
   "source": [
    "traj = pbf.run(n_burn_in, 0);"
   ]
  },
  {
   "cell_type": "code",
   "execution_count": null,
   "metadata": {},
   "outputs": [],
   "source": []
  },
  {
   "cell_type": "code",
   "execution_count": null,
   "metadata": {},
   "outputs": [],
   "source": [
    "def make_animation(trajectory, stride, mode=\"scatter\"):\n",
    "    traj = trajectory.reshape((len(trajectory), -1, 2))\n",
    "    traj = traj[::stride]\n",
    "    \n",
    "    backend_ =  mpl.get_backend()\n",
    "    mpl.use(\"Agg\")  # Prevent showing stuff\n",
    "\n",
    "    fig, ax = plt.subplots()\n",
    "    ax.set_xlim((-25, 25))\n",
    "    ax.set_ylim((-25, 25))\n",
    "\n",
    "    s = np.empty((n_particles,))\n",
    "    s.fill(300)\n",
    "    c = np.empty((n_particles,))\n",
    "    c.fill(0.5)\n",
    "    \n",
    "    # needed for contourf\n",
    "    grid = None\n",
    "    gridx = None\n",
    "    gridy = None\n",
    "    contour_handle = []\n",
    "    \n",
    "    if mode == \"scatter\":\n",
    "        the_plot = ax.scatter(traj[0, :, 0], traj[0, :, 1], s=s, c=c, vmin=0, vmax=1, \n",
    "                              cmap=\"jet\", edgecolor=\"k\")\n",
    "    elif mode == \"contourf\":\n",
    "        gridx = np.arange(-25, 25, box_width).astype(np.float32)\n",
    "        gridy = np.arange(-25, 25, box_width).astype(np.float32)\n",
    "        grid = np.meshgrid(gridx, gridy)\n",
    "        the_plot = ax.contourf(grid[0], grid[1], traj[0].reshape((len(gridx), len(gridy))))\n",
    "        contour_handle.append(the_plot)\n",
    "    \n",
    "    def update_scatter(i):\n",
    "        X = traj[i]\n",
    "        the_plot.set_offsets(X)\n",
    "        return the_plot,\n",
    "        \n",
    "    def update_contourf(i):\n",
    "        X = traj[i]\n",
    "        for tp in contour_handle[0].collections:\n",
    "            tp.remove()\n",
    "        contour_handle[0] = ax.contourf(grid[0], grid[1], X.reshape((len(gridx), len(gridy))))\n",
    "        return contour_handle[0].collections\n",
    "    \n",
    "    update = update_scatter if mode == \"scatter\" else update_contourf\n",
    "    ani = animation.FuncAnimation(fig, update, interval=50, blit=True, repeat=False, \n",
    "                                  frames=len(traj))\n",
    "\n",
    "    mpl.use(backend_) # Reset backend\n",
    "    return ani"
   ]
  },
  {
   "cell_type": "code",
   "execution_count": null,
   "metadata": {},
   "outputs": [],
   "source": [
    "from tqdm.notebook import tqdm"
   ]
  },
  {
   "cell_type": "code",
   "execution_count": null,
   "metadata": {},
   "outputs": [],
   "source": [
    "n_steps = 350\n",
    "n_rounds = 40\n",
    "traj_total = np.empty((n_rounds*n_steps, n_particles*2))\n",
    "for i in tqdm(range(n_rounds)):\n",
    "    traj = pbf.run(n_steps, .7 if i % 2 != 0 else -.7);\n",
    "    traj_total[i*n_steps:(i+1)*n_steps] = traj"
   ]
  },
  {
   "cell_type": "code",
   "execution_count": null,
   "metadata": {},
   "outputs": [],
   "source": [
    "ani = make_animation(traj_total, 30)\n",
    "from IPython.display import HTML\n",
    "HTML(ani.to_html5_video())"
   ]
  },
  {
   "cell_type": "code",
   "execution_count": null,
   "metadata": {},
   "outputs": [],
   "source": [
    "from scipy.stats import gaussian_kde\n",
    "box_width = .7\n",
    "traj = traj_total.reshape(len(traj_total), -1, 2)"
   ]
  },
  {
   "cell_type": "code",
   "execution_count": null,
   "metadata": {},
   "outputs": [],
   "source": [
    "import multiprocessing as mp\n",
    "\n",
    "gridx = np.arange(-25, 25, box_width).astype(np.float32)\n",
    "gridy = np.arange(-25, 25, box_width).astype(np.float32)\n",
    "grid = np.meshgrid(gridx, gridy)\n",
    "kde_input = np.dstack(grid).reshape(-1, 2)\n",
    "traj_kde = np.empty((len(traj), len(kde_input)))\n",
    "\n",
    "def worker(args):\n",
    "    from scipy.stats import gaussian_kde\n",
    "    t, traj = args[0], args[1]\n",
    "    out = gaussian_kde(traj.T, bw_method=0.2).evaluate(kde_input.T)\n",
    "    out /= out.sum()\n",
    "    return t, out\n",
    "\n",
    "with mp.Pool(processes=8) as pool:\n",
    "    for result in tqdm(pool.imap_unordered(worker, zip(range(len(traj)), traj)), total=len(traj)):\n",
    "        traj_kde[result[0]] = result[1]"
   ]
  },
  {
   "cell_type": "code",
   "execution_count": null,
   "metadata": {},
   "outputs": [],
   "source": [
    "ani = make_animation(traj_kde, 30, \"contourf\")\n",
    "from IPython.display import HTML\n",
    "HTML(ani.to_html5_video())"
   ]
  },
  {
   "cell_type": "code",
   "execution_count": null,
   "metadata": {},
   "outputs": [],
   "source": [
    "for t in range(len(traj_kde)):\n",
    "    traj_kde[t] /= traj_kde[t].sum()"
   ]
  },
  {
   "cell_type": "code",
   "execution_count": null,
   "metadata": {},
   "outputs": [],
   "source": [
    "est = sktime.decomposition.VAMP(lagtime=250, dim=.95)  # 10\n",
    "est.fit(traj_kde, n_splits=10)\n",
    "model = est.fetch_model()\n",
    "print(\"dim:\", model.output_dimension)\n",
    "print(\"score:\", model.score())\n",
    "plt.plot(model.singular_values, '.')"
   ]
  },
  {
   "cell_type": "code",
   "execution_count": null,
   "metadata": {},
   "outputs": [],
   "source": [
    "n_sing = 4\n",
    "\n",
    "f, axes = plt.subplots(ncols=2, nrows=4, figsize=(12, 20))\n",
    "for i in range(n_sing):\n",
    "    ax = axes[i][0]\n",
    "    im = model.singular_vectors_left[:, i].reshape((len(gridx), len(gridy)))\n",
    "    cb = ax.imshow(im, origin=\"lower\", cmap=\"bwr\")\n",
    "    f.colorbar(cb, ax=ax)\n",
    "    ax.set_title(\"left eigenfunction {}\".format(i))\n",
    "    \n",
    "    ax = axes[i][1]\n",
    "    im = model.singular_vectors_right[:, i].reshape((len(gridx), len(gridy)))\n",
    "    cb = ax.imshow(im, origin=\"lower\", cmap=\"bwr\")\n",
    "    f.colorbar(cb, ax=ax)\n",
    "    ax.set_title(\"right eigenfunction {}\".format(i))"
   ]
  },
  {
   "cell_type": "code",
   "execution_count": null,
   "metadata": {},
   "outputs": [],
   "source": [
    "est = sktime.decomposition.VAMP(lagtime=100, dim=.95)  # 10\n",
    "est.fit(traj_kde, n_splits=10)\n",
    "model = est.fetch_model()\n",
    "print(\"dim:\", model.output_dimension)\n",
    "print(\"score:\", model.score())\n",
    "plt.plot(model.singular_values, '.')"
   ]
  },
  {
   "cell_type": "code",
   "execution_count": null,
   "metadata": {},
   "outputs": [],
   "source": [
    "n_sing = 4\n",
    "\n",
    "f, axes = plt.subplots(ncols=2, nrows=4, figsize=(12, 20))\n",
    "for i in range(n_sing):\n",
    "    ax = axes[i][0]\n",
    "    im = model.singular_vectors_left[:, i].reshape((len(gridx), len(gridy)))\n",
    "    cb = ax.imshow(im, origin=\"lower\", cmap=\"bwr\")\n",
    "    f.colorbar(cb, ax=ax)\n",
    "    ax.set_title(\"left eigenfunction {}\".format(i))\n",
    "    \n",
    "    ax = axes[i][1]\n",
    "    im = model.singular_vectors_right[:, i].reshape((len(gridx), len(gridy)))\n",
    "    cb = ax.imshow(im, origin=\"lower\", cmap=\"bwr\")\n",
    "    f.colorbar(cb, ax=ax)\n",
    "    ax.set_title(\"right eigenfunction {}\".format(i))"
   ]
  },
  {
   "cell_type": "code",
   "execution_count": null,
   "metadata": {},
   "outputs": [],
   "source": [
    "est = sktime.decomposition.VAMP(lagtime=50, dim=.95)  # 10\n",
    "est.fit(traj_kde, n_splits=10)\n",
    "model = est.fetch_model()\n",
    "print(\"dim:\", model.output_dimension)\n",
    "print(\"score:\", model.score())\n",
    "plt.plot(model.singular_values, '.')"
   ]
  },
  {
   "cell_type": "code",
   "execution_count": null,
   "metadata": {},
   "outputs": [],
   "source": [
    "n_sing = 4\n",
    "\n",
    "f, axes = plt.subplots(ncols=2, nrows=4, figsize=(12, 20))\n",
    "for i in range(n_sing):\n",
    "    ax = axes[i][0]\n",
    "    im = model.singular_vectors_left[:, i].reshape((len(gridx), len(gridy)))\n",
    "    cb = ax.imshow(im, origin=\"lower\", cmap=\"bwr\")\n",
    "    f.colorbar(cb, ax=ax)\n",
    "    ax.set_title(\"left eigenfunction {}\".format(i))\n",
    "    \n",
    "    ax = axes[i][1]\n",
    "    im = model.singular_vectors_right[:, i].reshape((len(gridx), len(gridy)))\n",
    "    cb = ax.imshow(im, origin=\"lower\", cmap=\"bwr\")\n",
    "    f.colorbar(cb, ax=ax)\n",
    "    ax.set_title(\"right eigenfunction {}\".format(i))"
   ]
  },
  {
   "cell_type": "code",
   "execution_count": null,
   "metadata": {},
   "outputs": [],
   "source": []
  }
 ],
 "metadata": {
  "kernelspec": {
   "display_name": "Python 3",
   "language": "python",
   "name": "python3"
  },
  "language_info": {
   "codemirror_mode": {
    "name": "ipython",
    "version": 3
   },
   "file_extension": ".py",
   "mimetype": "text/x-python",
   "name": "python",
   "nbconvert_exporter": "python",
   "pygments_lexer": "ipython3",
   "version": "3.8.2"
  }
 },
 "nbformat": 4,
 "nbformat_minor": 4
}
