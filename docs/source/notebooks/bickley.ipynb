{
 "cells": [
  {
   "cell_type": "markdown",
   "metadata": {},
   "source": [
    "# Finding coherent sets in the Bickley jet"
   ]
  },
  {
   "cell_type": "code",
   "execution_count": null,
   "metadata": {},
   "outputs": [],
   "source": [
    "import numpy as np\n",
    "from scipy.cluster.vq import kmeans2\n",
    "\n",
    "import matplotlib.pyplot as plt\n",
    "\n",
    "import sktime\n",
    "import sktime.decomposition.vampnet as vnet\n",
    "\n",
    "import torch\n",
    "import torch.nn as nn"
   ]
  },
  {
   "cell_type": "markdown",
   "metadata": {},
   "source": [
    "Dataset with 10000 particles and 401 timesteps in two dimensions."
   ]
  },
  {
   "cell_type": "code",
   "execution_count": null,
   "metadata": {},
   "outputs": [],
   "source": [
    "dataset = sktime.data.bickley_jet(n_particles=10000, n_jobs=16)"
   ]
  },
  {
   "cell_type": "code",
   "execution_count": null,
   "metadata": {},
   "outputs": [],
   "source": [
    "# just the endpoints, i.e., first and last timestep\n",
    "ds_2d = dataset.endpoints_dataset()\n",
    "\n",
    "# mapping this dataset to 3d onto the surface of a cylinder\n",
    "ds_3d = ds_2d.to_3d()\n",
    "\n",
    "# uniform clustering of the 3d space, binning the particles accordingly\n",
    "ds_3d_clusters = ds_3d.cluster(16)"
   ]
  },
  {
   "cell_type": "markdown",
   "metadata": {},
   "source": [
    "# VAMP on clustered 3d data\n",
    "\n",
    "This is the VAMP estimator applied to the binned 3d particles."
   ]
  },
  {
   "cell_type": "code",
   "execution_count": null,
   "metadata": {},
   "outputs": [],
   "source": [
    "cov_est = sktime.decomposition.VAMP.covariance_estimator(lagtime=1)\n",
    "cov_est.partial_fit((ds_3d_clusters.data, ds_3d_clusters.data_lagged))\n",
    "cov = cov_est.fetch_model()\n",
    "\n",
    "vamp_model_3d_cluster = sktime.decomposition.VAMP(dim=12).fit(cov).fetch_model()\n",
    "\n",
    "print(\"score:\", vamp_model_3d_cluster.score())\n",
    "lsf = vamp_model_3d_cluster.transform(ds_3d_clusters.data)"
   ]
  },
  {
   "cell_type": "code",
   "execution_count": null,
   "metadata": {},
   "outputs": [],
   "source": [
    "f, ax = plt.subplots(1, 1)\n",
    "ax.set_title('First 15 singular values')\n",
    "ax.plot(vamp_model_3d_cluster.singular_values[:15], 'x')\n",
    "\n",
    "f, axes = plt.subplots(4, 3, figsize=(15, 16))\n",
    "for i, ax in enumerate(axes.flatten()):\n",
    "    ax.set_title(f'left singular function {i}')\n",
    "    ax.scatter(*ds_2d.data.T, c=lsf[:, i])"
   ]
  },
  {
   "cell_type": "code",
   "execution_count": null,
   "metadata": {},
   "outputs": [],
   "source": [
    "f, ax = plt.subplots(1, 1)\n",
    "ax.set_title('Clustering in singular function space')\n",
    "c_ref, l_ref = kmeans2(lsf[:, :11], 14)\n",
    "plt.scatter(*ds_2d.data.T, c=l_ref)"
   ]
  },
  {
   "cell_type": "markdown",
   "metadata": {},
   "source": [
    "# VAMPNets and VAMP on raw 3d data"
   ]
  },
  {
   "cell_type": "code",
   "execution_count": null,
   "metadata": {},
   "outputs": [],
   "source": [
    "assert torch.cuda.is_available()\n",
    "device = torch.device(\"cuda:0\")\n",
    "torch.backends.cudnn.benchmark = True\n",
    "torch.set_num_threads(12)"
   ]
  },
  {
   "cell_type": "code",
   "execution_count": null,
   "metadata": {},
   "outputs": [],
   "source": [
    "train_data, val_data = torch.utils.data.random_split(ds_3d, [len(ds_3d) - 1000, 1000])"
   ]
  },
  {
   "cell_type": "code",
   "execution_count": null,
   "metadata": {},
   "outputs": [],
   "source": [
    "lobe = nn.Sequential(\n",
    "    nn.Linear(ds_3d[0][0].shape[0], 64), nn.ELU(),\n",
    "    nn.Linear(64, 32), nn.ELU(),\n",
    "    nn.Linear(32, 15)\n",
    ").to(device=device)"
   ]
  },
  {
   "cell_type": "code",
   "execution_count": null,
   "metadata": {},
   "outputs": [],
   "source": [
    "loader = torch.utils.data.DataLoader(train_data, batch_size=512, shuffle=True, num_workers=8)\n",
    "loader_val = torch.utils.data.DataLoader(val_data, batch_size=len(val_data), shuffle=False, num_workers=8)\n",
    "opt = torch.optim.Adam(lobe.parameters(), 1e-3)"
   ]
  },
  {
   "cell_type": "code",
   "execution_count": null,
   "metadata": {},
   "outputs": [],
   "source": [
    "losses = []\n",
    "losses_val = []"
   ]
  },
  {
   "cell_type": "code",
   "execution_count": null,
   "metadata": {
    "scrolled": false
   },
   "outputs": [],
   "source": [
    "mode = 'regularize'\n",
    "epsilon = 1e-8\n",
    "\n",
    "for epoch in range(1500):\n",
    "    lvals = []\n",
    "    \n",
    "    lobe.train()\n",
    "    \n",
    "    for batch_0, batch_t in loader:\n",
    "        batch_0 = batch_0.to(device=device)\n",
    "        batch_t = batch_t.to(device=device)\n",
    "        \n",
    "        opt.zero_grad()\n",
    "        \n",
    "        chi_0 = lobe(batch_0)\n",
    "        chi_t = lobe(batch_t)\n",
    "        \n",
    "        loss = vnet.loss(chi_0, chi_t, method='VAMP2', epsilon=epsilon, mode=mode)\n",
    "        loss.backward()\n",
    "        opt.step()\n",
    "        \n",
    "        lvals.append(loss.detach().cpu().numpy())\n",
    "    losses.append(np.mean(lvals))\n",
    "    \n",
    "    lobe.eval()\n",
    "    with torch.no_grad():\n",
    "        for batch_0, batch_t in loader_val:\n",
    "            batch_0 = batch_0.to(device=device)\n",
    "            batch_t = batch_t.to(device=device)\n",
    "           \n",
    "            chi_0 = lobe(batch_0)\n",
    "            chi_t = lobe(batch_t)\n",
    "\n",
    "            loss = vnet.loss(chi_0, chi_t, method='VAMP2', epsilon=epsilon, mode=mode)\n",
    "            \n",
    "            losses_val.append(loss.cpu().numpy())\n",
    "    \n",
    "    print(f\"Epoch {epoch+1}/{1500}: loss={losses[-1]:.3f}, validation loss={losses_val[-1]:.3f}\", \n",
    "          end='\\r')"
   ]
  },
  {
   "cell_type": "code",
   "execution_count": null,
   "metadata": {},
   "outputs": [],
   "source": [
    "plt.loglog(-np.array(losses), label='K train')\n",
    "plt.loglog(-np.array(losses_val), label='K val')\n",
    "plt.xlabel('step')\n",
    "plt.ylabel('score')\n",
    "plt.legend();"
   ]
  },
  {
   "cell_type": "code",
   "execution_count": null,
   "metadata": {},
   "outputs": [],
   "source": [
    "lobe.eval()\n",
    "with torch.no_grad():\n",
    "    chi_X = lobe(torch.from_numpy(ds_3d[...][0]).to(device=device))\n",
    "    chi_Y = lobe(torch.from_numpy(ds_3d[...][1]).to(device=device))\n",
    "    chi_X = chi_X.cpu().numpy()\n",
    "    chi_Y = chi_Y.cpu().numpy()"
   ]
  },
  {
   "cell_type": "code",
   "execution_count": null,
   "metadata": {},
   "outputs": [],
   "source": [
    "cov_est = sktime.decomposition.VAMP.covariance_estimator(lagtime=1)\n",
    "cov_est.partial_fit((chi_X, chi_Y))\n",
    "cov = cov_est.fetch_model()\n",
    "\n",
    "vampnet_model_3d = sktime.decomposition.VAMP(dim=12).fit(cov).fetch_model()\n",
    "\n",
    "print(\"score:\", vamp_model_3d_cluster.score())\n",
    "lsf = vampnet_model_3d.transform(chi_X)"
   ]
  },
  {
   "cell_type": "code",
   "execution_count": null,
   "metadata": {},
   "outputs": [],
   "source": [
    "f, ax = plt.subplots(1, 1)\n",
    "ax.set_title('First 15 singular values')\n",
    "ax.plot(vampnet_model_3d.singular_values[:15], 'x')\n",
    "\n",
    "f, axes = plt.subplots(4, 3, figsize=(15, 16))\n",
    "for i, ax in enumerate(axes.flatten()):\n",
    "    ax.set_title(f'left singular function {i}')\n",
    "    ax.scatter(*ds_2d.data.T, c=lsf[:, i])"
   ]
  },
  {
   "cell_type": "code",
   "execution_count": null,
   "metadata": {},
   "outputs": [],
   "source": [
    "f, ax = plt.subplots(1, 1)\n",
    "ax.set_title('Clustering in singular function space')\n",
    "c_ref, l_ref = kmeans2(lsf[:, :12], 10)\n",
    "plt.scatter(*ds_2d.data.T, c=l_ref)"
   ]
  },
  {
   "cell_type": "code",
   "execution_count": null,
   "metadata": {},
   "outputs": [],
   "source": [
    "animation = dataset.make_animation(c=l_ref.astype(np.float32) / float(np.max(l_ref)), cmap='viridis')\n",
    "from IPython.display import HTML\n",
    "HTML(animation.to_html5_video())"
   ]
  },
  {
   "cell_type": "markdown",
   "metadata": {},
   "source": [
    "# KVAD on 3d clustered data"
   ]
  },
  {
   "cell_type": "code",
   "execution_count": null,
   "metadata": {},
   "outputs": [],
   "source": [
    "from sktime.decomposition.kvad import kvad"
   ]
  },
  {
   "cell_type": "code",
   "execution_count": null,
   "metadata": {},
   "outputs": [],
   "source": [
    "kvad_3d_cluster_model = kvad(ds_3d_clusters.data, ds_3d_clusters.data_lagged, \n",
    "                             Y=ds_2d.data_lagged, bandwidth=1.0)\n",
    "u, s_kvad_3d_cluster, v = np.linalg.svd(kvad_3d_cluster_model.K)\n",
    "lsf = kvad_3d_cluster_model.fX @ u"
   ]
  },
  {
   "cell_type": "code",
   "execution_count": null,
   "metadata": {},
   "outputs": [],
   "source": [
    "f, ax = plt.subplots(1, 1)\n",
    "ax.set_title('First 15 singular values')\n",
    "ax.plot(s_kvad_3d_cluster[:15], 'x')\n",
    "\n",
    "f, axes = plt.subplots(4, 3, figsize=(15, 16))\n",
    "for i, ax in enumerate(axes.flatten()):\n",
    "    ax.set_title(f'left singular function {i}')\n",
    "    ax.scatter(*ds_2d.data.T, c=lsf[:, i])"
   ]
  },
  {
   "cell_type": "code",
   "execution_count": null,
   "metadata": {},
   "outputs": [],
   "source": [
    "f, ax = plt.subplots(1, 1)\n",
    "ax.set_title('Clustering in singular function space')\n",
    "c_ref, l_ref = kmeans2(lsf[:, :12], 10)\n",
    "plt.scatter(*ds_2d.data.T, c=l_ref)"
   ]
  },
  {
   "cell_type": "markdown",
   "metadata": {},
   "source": [
    "# KVAD with random basis functions on 2d data"
   ]
  },
  {
   "cell_type": "code",
   "execution_count": null,
   "metadata": {},
   "outputs": [],
   "source": [
    "def nonlinearity(x):\n",
    "    return np.exp(-x*x)\n",
    "\n",
    "n_basis = 500\n",
    "W = np.random.normal(size=(2, n_basis))\n",
    "b = np.random.uniform(-1, 1, size=(n_basis,))\n",
    "\n",
    "W2 = np.random.normal(size=(n_basis, n_basis))\n",
    "b2 = np.random.uniform(-1, 1, size=(n_basis,))\n",
    "\n",
    "chi_X = nonlinearity(ds_2d.data @ W + b) @ W2 + b2\n",
    "chi_Y = nonlinearity(ds_2d.data_lagged @ W + b) @ W2 + b2"
   ]
  },
  {
   "cell_type": "code",
   "execution_count": null,
   "metadata": {},
   "outputs": [],
   "source": [
    "kvad_2d_rnd_model = kvad(chi_X, chi_Y, Y=ds_2d.data_lagged, bandwidth=1.3)\n",
    "u, s_kvad_2d_rnd, v = np.linalg.svd(kvad_2d_rnd_model.K)\n",
    "lsf = kvad_2d_rnd_model.fX @ u"
   ]
  },
  {
   "cell_type": "code",
   "execution_count": null,
   "metadata": {},
   "outputs": [],
   "source": [
    "f, ax = plt.subplots(1, 1)\n",
    "ax.set_title('First 15 singular values')\n",
    "ax.plot(s_kvad_2d_rnd[:15], 'x')\n",
    "\n",
    "f, axes = plt.subplots(4, 3, figsize=(15, 16))\n",
    "for i, ax in enumerate(axes.flatten()):\n",
    "    ax.set_title(f'left singular function {i}')\n",
    "    ax.scatter(*ds_2d.data.T, c=lsf[:, i])"
   ]
  },
  {
   "cell_type": "code",
   "execution_count": null,
   "metadata": {},
   "outputs": [],
   "source": [
    "f, ax = plt.subplots(1, 1)\n",
    "ax.set_title('Clustering in singular function space')\n",
    "c_ref, l_ref = kmeans2(lsf[:, :12], 10)\n",
    "plt.scatter(*ds_2d.data.T, c=l_ref)"
   ]
  },
  {
   "cell_type": "code",
   "execution_count": null,
   "metadata": {},
   "outputs": [],
   "source": [
    "animation = dataset.make_animation(c=l_ref.astype(np.float32) / float(np.max(l_ref)), cmap='viridis')\n",
    "from IPython.display import HTML\n",
    "HTML(animation.to_html5_video())"
   ]
  },
  {
   "cell_type": "markdown",
   "metadata": {},
   "source": [
    "# VAMP on 2d DS w/ random basis fun"
   ]
  },
  {
   "cell_type": "code",
   "execution_count": null,
   "metadata": {},
   "outputs": [],
   "source": [
    "cov_est = sktime.decomposition.VAMP.covariance_estimator(lagtime=1)\n",
    "cov_est.partial_fit((chi_X, chi_Y))\n",
    "cov = cov_est.fetch_model()\n",
    "\n",
    "vamp_2d_rnd_model = sktime.decomposition.VAMP().fit(cov).fetch_model()\n",
    "\n",
    "s = vamp_2d_rnd_model.singular_values\n",
    "print(\"score:\", vamp_2d_rnd_model.score())\n",
    "lsf = vamp_2d_rnd_model.transform(chi_X)"
   ]
  },
  {
   "cell_type": "code",
   "execution_count": null,
   "metadata": {},
   "outputs": [],
   "source": [
    "f, ax = plt.subplots(1, 1)\n",
    "ax.set_title('First 15 singular values')\n",
    "ax.plot(vamp_2d_rnd_model.singular_values[:15], 'x')\n",
    "\n",
    "f, axes = plt.subplots(4, 3, figsize=(15, 16))\n",
    "for i, ax in enumerate(axes.flatten()):\n",
    "    ax.set_title(f'left singular function {i}')\n",
    "    ax.scatter(*ds_2d.data.T, c=lsf[:, i])"
   ]
  },
  {
   "cell_type": "code",
   "execution_count": null,
   "metadata": {},
   "outputs": [],
   "source": [
    "f, ax = plt.subplots(1, 1)\n",
    "ax.set_title('Clustering in singular function space')\n",
    "c_ref, l_ref = kmeans2(lsf[:, :12], 10)\n",
    "plt.scatter(*ds_2d.data.T, c=l_ref)"
   ]
  },
  {
   "cell_type": "markdown",
   "metadata": {},
   "source": [
    "# Comparison of estimated singular values"
   ]
  },
  {
   "cell_type": "code",
   "execution_count": null,
   "metadata": {},
   "outputs": [],
   "source": [
    "f, ax = plt.subplots(1, 1, figsize=(14, 14))\n",
    "ax.set_title('First 15 singular values')\n",
    "ax.plot(vamp_2d_rnd_model.singular_values[:15], marker='o', linestyle='dashed', \n",
    "        label='VAMP with random transformations on 2D')\n",
    "ax.plot(s_kvad_2d_rnd[:15], marker='o', linestyle='dashed', \n",
    "        label='KVAD with random transformations on 2D')\n",
    "ax.plot(s_kvad_3d_cluster[:15], marker='o', linestyle='dashed', label='KVAD on 3D bins')\n",
    "ax.plot(vampnet_model_3d.singular_values[:15], marker='o', linestyle='dashed', \n",
    "        label='VAMPNet + VAMP on 3D data')\n",
    "ax.plot(vamp_model_3d_cluster.singular_values[:15], marker='o', linestyle='dashed', \n",
    "        label='VAMP on 3D bins')\n",
    "ax.legend();"
   ]
  }
 ],
 "metadata": {
  "kernelspec": {
   "display_name": "Python 3",
   "language": "python",
   "name": "python3"
  },
  "language_info": {
   "codemirror_mode": {
    "name": "ipython",
    "version": 3
   },
   "file_extension": ".py",
   "mimetype": "text/x-python",
   "name": "python",
   "nbconvert_exporter": "python",
   "pygments_lexer": "ipython3",
   "version": "3.8.5"
  }
 },
 "nbformat": 4,
 "nbformat_minor": 4
}
