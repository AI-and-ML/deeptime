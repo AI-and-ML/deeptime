{
 "cells": [
  {
   "cell_type": "markdown",
   "metadata": {},
   "source": [
    "# Maximum-likelihood MSMs\n",
    "\n",
    "This kind of estimator tries to determine the most likely transition matrix $P\\in\\mathbb{R}^{n\\times n}$ given the [transition counts](./transition-counting.ipynb) $C\\in\\mathbb{R}^{n\\times n}$. For those already familiar with the interface: The corresponding [API docs](../api/generated/deeptime.markov.msm.MaximumLikelihoodMSM.rst#deeptime.markov.msm.MaximumLikelihoodMSM).\n",
    "\n",
    "The likelihood that a transition matrix $P$ belongs to a trajectory $S = (s_0,\\ldots,s_T)$ is given by\n",
    "\n",
    "$$ \\mathcal{L}(P) = \\mathbb{P}(P\\mid S) = \\prod_{i,j=1}^n P_{ij}^{C_{ij}}. $$\n",
    "\n",
    "After importing the package, such an estimator can be instantiated:"
   ]
  },
  {
   "cell_type": "code",
   "execution_count": null,
   "metadata": {
    "execution": {
     "iopub.execute_input": "2020-10-23T07:48:11.869668Z",
     "iopub.status.busy": "2020-10-23T07:48:11.869102Z",
     "iopub.status.idle": "2020-10-23T07:48:12.939364Z",
     "shell.execute_reply": "2020-10-23T07:48:12.939713Z"
    }
   },
   "outputs": [],
   "source": [
    "import deeptime\n",
    "\n",
    "estimator = deeptime.markov.msm.MaximumLikelihoodMSM(\n",
    "    reversible=True,\n",
    "    stationary_distribution_constraint=None\n",
    ")"
   ]
  },
  {
   "cell_type": "markdown",
   "metadata": {},
   "source": [
    "It has two main parameters:\n",
    "\n",
    "- `reversible` determines whether the estimated MSM should have a detailed balance symmetry, i.e.,\n",
    "  $$ \\pi_i P_{ij} = \\pi_j P_{ji}\\quad\\forall i,j=1,\\ldots,n, $$\n",
    "  where $\\pi$ is the stationary probability distribution vector. It is the probability vector which does not change under $P$, i.e., $P\\pi = \\pi$ and therefore is eigenvector for eigenvalue $\\lambda_0$ = 1. A sufficient condition for existence and uniqueness of $\\pi$ is the irreducibility of the markov chain, i.e., the count matrix must be connected.\n",
    "- `stationary_distribution_constraint`: In case the stationary distribution $\\pi$ is known a priori, the search space can be restricted to stochastic matrices which have $\\pi$ as stationary distribution."
   ]
  },
  {
   "cell_type": "markdown",
   "metadata": {},
   "source": [
    "To demonstrate the estimator, we can generate a sequence of observations from a markov state model. It has three states and a probability of $97\\%$ to stay in its current state. The remaining $3\\%$ are used as jump probabilities."
   ]
  },
  {
   "cell_type": "code",
   "execution_count": null,
   "metadata": {
    "execution": {
     "iopub.execute_input": "2020-10-23T07:48:12.944753Z",
     "iopub.status.busy": "2020-10-23T07:48:12.944250Z",
     "iopub.status.idle": "2020-10-23T07:48:12.946195Z",
     "shell.execute_reply": "2020-10-23T07:48:12.946703Z"
    }
   },
   "outputs": [],
   "source": [
    "import numpy as np\n",
    "\n",
    "p11 = 0.97\n",
    "p22 = 0.97\n",
    "p33 = 0.97\n",
    "P = np.array([[p11, 1 - p11, 0], [.5*(1 - p22), p22, 0.5*(1-p22)], [0, 1-p33, p33]])\n",
    "true_msm = deeptime.markov.msm.MarkovStateModel(P)"
   ]
  },
  {
   "cell_type": "markdown",
   "metadata": {},
   "source": [
    "A realization of this markov state model can be generated:"
   ]
  },
  {
   "cell_type": "code",
   "execution_count": null,
   "metadata": {
    "execution": {
     "iopub.execute_input": "2020-10-23T07:48:12.956940Z",
     "iopub.status.busy": "2020-10-23T07:48:12.956505Z",
     "iopub.status.idle": "2020-10-23T07:48:12.959087Z",
     "shell.execute_reply": "2020-10-23T07:48:12.958629Z"
    }
   },
   "outputs": [],
   "source": [
    "trajectory = true_msm.simulate(50000)"
   ]
  },
  {
   "cell_type": "markdown",
   "metadata": {},
   "source": [
    "And we can gather statistics about it"
   ]
  },
  {
   "cell_type": "code",
   "execution_count": null,
   "metadata": {
    "execution": {
     "iopub.execute_input": "2020-10-23T07:48:12.964014Z",
     "iopub.status.busy": "2020-10-23T07:48:12.963515Z",
     "iopub.status.idle": "2020-10-23T07:48:12.966866Z",
     "shell.execute_reply": "2020-10-23T07:48:12.967437Z"
    }
   },
   "outputs": [],
   "source": [
    "counts_estimator = deeptime.markov.TransitionCountEstimator(\n",
    "    lagtime=1, count_mode=\"sliding\"\n",
    ")\n",
    "counts = counts_estimator.fit(trajectory).fetch_model()"
   ]
  },
  {
   "cell_type": "markdown",
   "metadata": {},
   "source": [
    "as well as re-estimate an MSM."
   ]
  },
  {
   "cell_type": "code",
   "execution_count": null,
   "metadata": {
    "execution": {
     "iopub.execute_input": "2020-10-23T07:48:12.972763Z",
     "iopub.status.busy": "2020-10-23T07:48:12.972322Z",
     "iopub.status.idle": "2020-10-23T07:48:12.974383Z",
     "shell.execute_reply": "2020-10-23T07:48:12.974746Z"
    }
   },
   "outputs": [],
   "source": [
    "msm = estimator.fit(counts).fetch_model()"
   ]
  },
  {
   "cell_type": "markdown",
   "metadata": {},
   "source": [
    "The estimated transition matrix is reasonably close to the ground truth:"
   ]
  },
  {
   "cell_type": "code",
   "execution_count": null,
   "metadata": {
    "execution": {
     "iopub.execute_input": "2020-10-23T07:48:12.979612Z",
     "iopub.status.busy": "2020-10-23T07:48:12.979060Z",
     "iopub.status.idle": "2020-10-23T07:48:12.982902Z",
     "shell.execute_reply": "2020-10-23T07:48:12.982427Z"
    }
   },
   "outputs": [],
   "source": [
    "print(\"Estimated transition matrix:\", msm.transition_matrix)\n",
    "print(\"Estimated stationary distribution:\", msm.stationary_distribution)"
   ]
  },
  {
   "cell_type": "markdown",
   "metadata": {},
   "source": [
    "Now since we know the stationary distribution of the ground truth, we can restrict the estimator's optimization space to it:"
   ]
  },
  {
   "cell_type": "code",
   "execution_count": null,
   "metadata": {
    "execution": {
     "iopub.execute_input": "2020-10-23T07:48:12.987463Z",
     "iopub.status.busy": "2020-10-23T07:48:12.986649Z",
     "iopub.status.idle": "2020-10-23T07:48:12.990468Z",
     "shell.execute_reply": "2020-10-23T07:48:12.989701Z"
    }
   },
   "outputs": [],
   "source": [
    "print(\"True stationary vector:\", true_msm.stationary_distribution)"
   ]
  },
  {
   "cell_type": "code",
   "execution_count": null,
   "metadata": {
    "execution": {
     "iopub.execute_input": "2020-10-23T07:48:12.996991Z",
     "iopub.status.busy": "2020-10-23T07:48:12.996486Z",
     "iopub.status.idle": "2020-10-23T07:48:12.999250Z",
     "shell.execute_reply": "2020-10-23T07:48:12.999702Z"
    }
   },
   "outputs": [],
   "source": [
    "estimator.stationary_distribution_constraint = true_msm.stationary_distribution\n",
    "\n",
    "msm_statdist = estimator.fit(counts).fetch_model()"
   ]
  },
  {
   "cell_type": "code",
   "execution_count": null,
   "metadata": {
    "execution": {
     "iopub.execute_input": "2020-10-23T07:48:13.004283Z",
     "iopub.status.busy": "2020-10-23T07:48:13.003715Z",
     "iopub.status.idle": "2020-10-23T07:48:13.006853Z",
     "shell.execute_reply": "2020-10-23T07:48:13.006392Z"
    }
   },
   "outputs": [],
   "source": [
    "print(\"Estimated transition matrix:\", msm_statdist.transition_matrix)\n",
    "print(\"Estimated stationary distribution:\", msm_statdist.stationary_distribution)"
   ]
  },
  {
   "cell_type": "markdown",
   "metadata": {},
   "source": [
    "With the markov state model object one also has access to relaxation timescales $t_s = -\\tau / \\mathrm{ln} | \\lambda_i |, i = 2,...,k+1$:"
   ]
  },
  {
   "cell_type": "code",
   "execution_count": null,
   "metadata": {
    "execution": {
     "iopub.execute_input": "2020-10-23T07:48:13.013532Z",
     "iopub.status.busy": "2020-10-23T07:48:13.010562Z",
     "iopub.status.idle": "2020-10-23T07:48:13.405009Z",
     "shell.execute_reply": "2020-10-23T07:48:13.404596Z"
    }
   },
   "outputs": [],
   "source": [
    "import matplotlib.pyplot as plt\n",
    "\n",
    "plt.plot(true_msm.timescales(), 'o', label=\"Ground truth\")\n",
    "plt.plot(msm_statdist.timescales(), 'x', label=\"ML-MSM with statdist constraint\")\n",
    "plt.plot(msm.timescales(), 'v', label=\"ML-MSM without statdist constraint\")\n",
    "plt.xlabel(\"state\")\n",
    "plt.ylabel(\"timescale\")\n",
    "plt.legend();"
   ]
  },
  {
   "cell_type": "markdown",
   "metadata": {},
   "source": [
    "## Bayesian sampling\n",
    "\n",
    "While the maximum likelihood estimation is useful, it does not say anything about uncertainties. These can be obtained by estimating a Bayesian posterior with the [Bayesian MSM](../api/generated/deeptime.markov.msm.BayesianMSM.rst#deeptime.markov.msm.BayesianMSM) <cite data-cite=\"nbmlmsm-trendelkamp2015estimation\">(Trendelkamp-Schroer, 2015)</cite>. The posterior contains the prior around which sampling was performed as well as samples over which statistics can be collected. \n",
    "\n",
    "Similarly to the maximum-likelihood estimator it has the option to make estimation `reversible` as well as to introduce a `stationary_distribution_constraint`. Furthermore, it can be specified how many samples should be drawn as well as how many Gibbs sampling should be performed for each output sample."
   ]
  },
  {
   "cell_type": "code",
   "execution_count": null,
   "metadata": {
    "execution": {
     "iopub.execute_input": "2020-10-23T07:48:13.408076Z",
     "iopub.status.busy": "2020-10-23T07:48:13.407609Z",
     "iopub.status.idle": "2020-10-23T07:48:13.409817Z",
     "shell.execute_reply": "2020-10-23T07:48:13.409387Z"
    }
   },
   "outputs": [],
   "source": [
    "estimator = deeptime.markov.msm.BayesianMSM(\n",
    "    n_samples=100,\n",
    "    n_steps=10,\n",
    "    reversible=True,\n",
    "    stationary_distribution_constraint=None\n",
    ")"
   ]
  },
  {
   "cell_type": "markdown",
   "metadata": {},
   "source": [
    "To fit the model, an effective counting should be used as sliding window counting leads to wrong uncertainties."
   ]
  },
  {
   "cell_type": "code",
   "execution_count": null,
   "metadata": {
    "execution": {
     "iopub.execute_input": "2020-10-23T07:48:13.414308Z",
     "iopub.status.busy": "2020-10-23T07:48:13.413519Z",
     "iopub.status.idle": "2020-10-23T07:48:13.442810Z",
     "shell.execute_reply": "2020-10-23T07:48:13.443126Z"
    }
   },
   "outputs": [],
   "source": [
    "counts_estimator = deeptime.markov.TransitionCountEstimator(\n",
    "    lagtime=1, count_mode=\"effective\"\n",
    ")\n",
    "counts_effective = counts_estimator.fit(trajectory).fetch_model()"
   ]
  },
  {
   "cell_type": "markdown",
   "metadata": {},
   "source": [
    "With the estimated effective counts, we are ready to estimate the posterior."
   ]
  },
  {
   "cell_type": "code",
   "execution_count": null,
   "metadata": {
    "execution": {
     "iopub.execute_input": "2020-10-23T07:48:13.448927Z",
     "iopub.status.busy": "2020-10-23T07:48:13.448280Z",
     "iopub.status.idle": "2020-10-23T07:48:13.465107Z",
     "shell.execute_reply": "2020-10-23T07:48:13.464332Z"
    }
   },
   "outputs": [],
   "source": [
    "bmsm_posterior = estimator.fit(counts_effective).fetch_model()"
   ]
  },
  {
   "cell_type": "markdown",
   "metadata": {},
   "source": [
    "The prior can be accessed via the `prior` property, the samples can be accessed via the `samples` property. Both are just instances of [MarkovStateModel](../api/generated/deeptime.markov.msm.MarkovStateModel.rst#deeptime.markov.msm.MarkovStateModel) and a list thereof, respectively. "
   ]
  },
  {
   "cell_type": "code",
   "execution_count": null,
   "metadata": {
    "execution": {
     "iopub.execute_input": "2020-10-23T07:48:13.468406Z",
     "iopub.status.busy": "2020-10-23T07:48:13.467952Z",
     "iopub.status.idle": "2020-10-23T07:48:13.470754Z",
     "shell.execute_reply": "2020-10-23T07:48:13.470273Z"
    }
   },
   "outputs": [],
   "source": [
    "print(\"# samples:\", len(bmsm_posterior.samples))"
   ]
  },
  {
   "cell_type": "markdown",
   "metadata": {},
   "source": [
    "The posterior instance also offers a method to gather statistics over all evaluatable methods of the markov state model. Just put the name of method or property as a string, if it is a method of something that is returned by another method, just separate with a `/`. Below a few examples:"
   ]
  },
  {
   "cell_type": "code",
   "execution_count": null,
   "metadata": {
    "execution": {
     "iopub.execute_input": "2020-10-23T07:48:13.473884Z",
     "iopub.status.busy": "2020-10-23T07:48:13.473459Z",
     "iopub.status.idle": "2020-10-23T07:48:13.572687Z",
     "shell.execute_reply": "2020-10-23T07:48:13.573044Z"
    }
   },
   "outputs": [],
   "source": [
    "stats_P = bmsm_posterior.gather_stats(\"transition_matrix\")\n",
    "stats_timescales = bmsm_posterior.gather_stats(\"timescales\")\n",
    "stats_C = bmsm_posterior.gather_stats(\"count_model/count_matrix\")"
   ]
  },
  {
   "cell_type": "markdown",
   "metadata": {},
   "source": [
    "If a quantity evaluation requires arguments, they can be attached to the `gather_stats` method:"
   ]
  },
  {
   "cell_type": "code",
   "execution_count": null,
   "metadata": {
    "execution": {
     "iopub.execute_input": "2020-10-23T07:48:13.576354Z",
     "iopub.status.busy": "2020-10-23T07:48:13.575960Z",
     "iopub.status.idle": "2020-10-23T07:48:13.590033Z",
     "shell.execute_reply": "2020-10-23T07:48:13.590369Z"
    }
   },
   "outputs": [],
   "source": [
    "stats_mfpt = bmsm_posterior.gather_stats(\"mfpt\", A=0, B=1)"
   ]
  },
  {
   "cell_type": "markdown",
   "metadata": {},
   "source": [
    "These statistics contain mean, standard deviation, as well as confidence intervals."
   ]
  },
  {
   "cell_type": "code",
   "execution_count": null,
   "metadata": {
    "execution": {
     "iopub.execute_input": "2020-10-23T07:48:13.605805Z",
     "iopub.status.busy": "2020-10-23T07:48:13.605386Z",
     "iopub.status.idle": "2020-10-23T07:48:13.778192Z",
     "shell.execute_reply": "2020-10-23T07:48:13.777532Z"
    }
   },
   "outputs": [],
   "source": [
    "plt.plot([0, 1], stats_timescales.mean, label=\"bmsm timescales\")\n",
    "plt.fill_between([0, 1], stats_timescales.L, stats_timescales.R, color='b', alpha=.1)\n",
    "plt.plot([0, 1], bmsm_posterior.prior.timescales(), \"k--\", label=\"bmsm prior timescales\")\n",
    "plt.plot([0, 1], true_msm.timescales(), \"g-.\", label=\"ground truth timescales\")\n",
    "plt.legend();"
   ]
  },
  {
   "cell_type": "markdown",
   "metadata": {},
   "source": [
    "To, e.g., visualize samples differently or evaluate other kinds of moments, one can get access to the evaluated quantities directly by setting `store_samples` to `True`:"
   ]
  },
  {
   "cell_type": "code",
   "execution_count": null,
   "metadata": {
    "execution": {
     "iopub.execute_input": "2020-10-23T07:48:13.782504Z",
     "iopub.status.busy": "2020-10-23T07:48:13.781984Z",
     "iopub.status.idle": "2020-10-23T07:48:13.798326Z",
     "shell.execute_reply": "2020-10-23T07:48:13.797789Z"
    }
   },
   "outputs": [],
   "source": [
    "stats_mfpt = bmsm_posterior.gather_stats(\"mfpt\", store_samples=True, A=0, B=1)\n",
    "print(\"# samples:\", len(stats_mfpt.samples))"
   ]
  },
  {
   "cell_type": "raw",
   "metadata": {
    "raw_mimetype": "text/restructuredtext"
   },
   "source": [
    ".. rubric:: References\n",
    "\n",
    ".. bibliography:: /references.bib\n",
    "    :style: unsrt\n",
    "    :filter: docname in docnames\n",
    "    :keyprefix: nbmlmsm-"
   ]
  }
 ],
 "metadata": {
  "celltoolbar": "Raw Cell Format",
  "kernelspec": {
   "display_name": "Python 3",
   "language": "python",
   "name": "python3"
  },
  "language_info": {
   "codemirror_mode": {
    "name": "ipython",
    "version": 3
   },
   "file_extension": ".py",
   "mimetype": "text/x-python",
   "name": "python",
   "nbconvert_exporter": "python",
   "pygments_lexer": "ipython3",
   "version": "3.8.6"
  }
 },
 "nbformat": 4,
 "nbformat_minor": 4
}
