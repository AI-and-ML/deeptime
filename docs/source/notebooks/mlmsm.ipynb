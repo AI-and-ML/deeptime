{
 "cells": [
  {
   "cell_type": "markdown",
   "metadata": {},
   "source": [
    "# Maximum-likelihood MSMs\n",
    "\n",
    "This kind of estimator tries to determine the most likely transition matrix $P\\in\\mathbb{R}^{n\\times n}$ given the [transition counts](./transition-counting.ipynb) $C\\in\\mathbb{R}^{n\\times n}$. For those already familiar with the interface: The corresponding [API docs](../api/generated/deeptime.markov.msm.MaximumLikelihoodMSM.rst#deeptime.markov.msm.MaximumLikelihoodMSM).\n",
    "\n",
    "The likelihood that a transition matrix $P$ belongs to a trajectory $S = (s_0,\\ldots,s_T)$ is given by\n",
    "\n",
    "$$ \\mathcal{L}(P) = \\mathbb{P}(P\\mid S) = \\prod_{i,j=1}^n P_{ij}^{C_{ij}}. $$\n",
    "\n",
    "After importing the package, such an estimator can be instantiated:"
   ]
  },
  {
   "cell_type": "code",
   "execution_count": null,
   "metadata": {
    "execution": {
     "iopub.execute_input": "2020-10-26T12:01:23.381443Z",
     "iopub.status.busy": "2020-10-26T12:01:23.380918Z",
     "iopub.status.idle": "2020-10-26T12:01:24.131708Z",
     "shell.execute_reply": "2020-10-26T12:01:24.132037Z"
    }
   },
   "outputs": [],
   "source": [
    "import deeptime\n",
    "\n",
    "estimator = deeptime.markov.msm.MaximumLikelihoodMSM(\n",
    "    reversible=True,\n",
    "    stationary_distribution_constraint=None\n",
    ")"
   ]
  },
  {
   "cell_type": "markdown",
   "metadata": {},
   "source": [
    "It has two main parameters:\n",
    "\n",
    "- `reversible` determines whether the estimated MSM should have a detailed balance symmetry, i.e.,\n",
    "  $$ \\pi_i P_{ij} = \\pi_j P_{ji}\\quad\\forall i,j=1,\\ldots,n, $$\n",
    "  where $\\pi$ is the stationary probability distribution vector. It is the probability vector which does not change under $P$, i.e., $P\\pi = \\pi$ and therefore is eigenvector for eigenvalue $\\lambda_0$ = 1. A sufficient condition for existence and uniqueness of $\\pi$ is the irreducibility of the markov chain, i.e., the count matrix must be connected.\n",
    "- `stationary_distribution_constraint`: In case the stationary distribution $\\pi$ is known a priori, the search space can be restricted to stochastic matrices which have $\\pi$ as stationary distribution."
   ]
  },
  {
   "cell_type": "markdown",
   "metadata": {},
   "source": [
    "To demonstrate the estimator, we can generate a sequence of observations from a markov state model. It has three states and a probability of $97\\%$ to stay in its current state. The remaining $3\\%$ are used as jump probabilities."
   ]
  },
  {
   "cell_type": "code",
   "execution_count": null,
   "metadata": {
    "execution": {
     "iopub.execute_input": "2020-10-26T12:01:24.136973Z",
     "iopub.status.busy": "2020-10-26T12:01:24.136559Z",
     "iopub.status.idle": "2020-10-26T12:01:24.138159Z",
     "shell.execute_reply": "2020-10-26T12:01:24.138519Z"
    }
   },
   "outputs": [],
   "source": [
    "import numpy as np\n",
    "\n",
    "p11 = 0.97\n",
    "p22 = 0.97\n",
    "p33 = 0.97\n",
    "P = np.array([[p11, 1 - p11, 0], [.5*(1 - p22), p22, 0.5*(1-p22)], [0, 1-p33, p33]])\n",
    "true_msm = deeptime.markov.msm.MarkovStateModel(P)"
   ]
  },
  {
   "cell_type": "markdown",
   "metadata": {},
   "source": [
    "A realization of this markov state model can be generated:"
   ]
  },
  {
   "cell_type": "code",
   "execution_count": null,
   "metadata": {
    "execution": {
     "iopub.execute_input": "2020-10-26T12:01:24.146946Z",
     "iopub.status.busy": "2020-10-26T12:01:24.146535Z",
     "iopub.status.idle": "2020-10-26T12:01:24.149151Z",
     "shell.execute_reply": "2020-10-26T12:01:24.148587Z"
    }
   },
   "outputs": [],
   "source": [
    "trajectory = true_msm.simulate(50000)"
   ]
  },
  {
   "cell_type": "markdown",
   "metadata": {},
   "source": [
    "And we can gather statistics about it"
   ]
  },
  {
   "cell_type": "code",
   "execution_count": null,
   "metadata": {
    "execution": {
     "iopub.execute_input": "2020-10-26T12:01:24.152224Z",
     "iopub.status.busy": "2020-10-26T12:01:24.151826Z",
     "iopub.status.idle": "2020-10-26T12:01:24.155446Z",
     "shell.execute_reply": "2020-10-26T12:01:24.155036Z"
    }
   },
   "outputs": [],
   "source": [
    "counts_estimator = deeptime.markov.TransitionCountEstimator(\n",
    "    lagtime=1, count_mode=\"sliding\"\n",
    ")\n",
    "counts = counts_estimator.fit(trajectory).fetch_model()"
   ]
  },
  {
   "cell_type": "markdown",
   "metadata": {},
   "source": [
    "as well as re-estimate an MSM."
   ]
  },
  {
   "cell_type": "code",
   "execution_count": null,
   "metadata": {
    "execution": {
     "iopub.execute_input": "2020-10-26T12:01:24.160247Z",
     "iopub.status.busy": "2020-10-26T12:01:24.159834Z",
     "iopub.status.idle": "2020-10-26T12:01:24.161906Z",
     "shell.execute_reply": "2020-10-26T12:01:24.161539Z"
    }
   },
   "outputs": [],
   "source": [
    "msm = estimator.fit(counts).fetch_model()"
   ]
  },
  {
   "cell_type": "markdown",
   "metadata": {},
   "source": [
    "The estimated transition matrix is reasonably close to the ground truth:"
   ]
  },
  {
   "cell_type": "code",
   "execution_count": null,
   "metadata": {
    "execution": {
     "iopub.execute_input": "2020-10-26T12:01:24.166128Z",
     "iopub.status.busy": "2020-10-26T12:01:24.165675Z",
     "iopub.status.idle": "2020-10-26T12:01:24.168158Z",
     "shell.execute_reply": "2020-10-26T12:01:24.167735Z"
    }
   },
   "outputs": [],
   "source": [
    "print(\"Estimated transition matrix:\", msm.transition_matrix)\n",
    "print(\"Estimated stationary distribution:\", msm.stationary_distribution)"
   ]
  },
  {
   "cell_type": "markdown",
   "metadata": {},
   "source": [
    "Now since we know the stationary distribution of the ground truth, we can restrict the estimator's optimization space to it:"
   ]
  },
  {
   "cell_type": "code",
   "execution_count": null,
   "metadata": {
    "execution": {
     "iopub.execute_input": "2020-10-26T12:01:24.172073Z",
     "iopub.status.busy": "2020-10-26T12:01:24.171656Z",
     "iopub.status.idle": "2020-10-26T12:01:24.174191Z",
     "shell.execute_reply": "2020-10-26T12:01:24.173765Z"
    }
   },
   "outputs": [],
   "source": [
    "print(\"True stationary vector:\", true_msm.stationary_distribution)"
   ]
  },
  {
   "cell_type": "code",
   "execution_count": null,
   "metadata": {
    "execution": {
     "iopub.execute_input": "2020-10-26T12:01:24.178308Z",
     "iopub.status.busy": "2020-10-26T12:01:24.177817Z",
     "iopub.status.idle": "2020-10-26T12:01:24.179701Z",
     "shell.execute_reply": "2020-10-26T12:01:24.180163Z"
    }
   },
   "outputs": [],
   "source": [
    "estimator.stationary_distribution_constraint = true_msm.stationary_distribution\n",
    "\n",
    "msm_statdist = estimator.fit(counts).fetch_model()"
   ]
  },
  {
   "cell_type": "code",
   "execution_count": null,
   "metadata": {
    "execution": {
     "iopub.execute_input": "2020-10-26T12:01:24.184449Z",
     "iopub.status.busy": "2020-10-26T12:01:24.183950Z",
     "iopub.status.idle": "2020-10-26T12:01:24.186644Z",
     "shell.execute_reply": "2020-10-26T12:01:24.186166Z"
    }
   },
   "outputs": [],
   "source": [
    "print(\"Estimated transition matrix:\", msm_statdist.transition_matrix)\n",
    "print(\"Estimated stationary distribution:\", msm_statdist.stationary_distribution)"
   ]
  },
  {
   "cell_type": "markdown",
   "metadata": {},
   "source": [
    "With the markov state model object one also has access to relaxation timescales $t_s = -\\tau / \\mathrm{ln} | \\lambda_i |, i = 2,...,k+1$:"
   ]
  },
  {
   "cell_type": "code",
   "execution_count": null,
   "metadata": {
    "execution": {
     "iopub.execute_input": "2020-10-26T12:01:24.190192Z",
     "iopub.status.busy": "2020-10-26T12:01:24.189713Z",
     "iopub.status.idle": "2020-10-26T12:01:24.531812Z",
     "shell.execute_reply": "2020-10-26T12:01:24.531401Z"
    }
   },
   "outputs": [],
   "source": [
    "import matplotlib.pyplot as plt\n",
    "\n",
    "plt.plot(true_msm.timescales(), 'o', label=\"Ground truth\")\n",
    "plt.plot(msm_statdist.timescales(), 'x', label=\"ML-MSM with statdist constraint\")\n",
    "plt.plot(msm.timescales(), 'v', label=\"ML-MSM without statdist constraint\")\n",
    "plt.xlabel(\"state\")\n",
    "plt.ylabel(\"timescale\")\n",
    "plt.legend();"
   ]
  },
  {
   "cell_type": "markdown",
   "metadata": {},
   "source": [
    "## Bayesian sampling\n",
    "\n",
    "While the maximum likelihood estimation is useful, it does not say anything about uncertainties. These can be obtained by estimating a Bayesian posterior with the [Bayesian MSM](../api/generated/deeptime.markov.msm.BayesianMSM.rst#deeptime.markov.msm.BayesianMSM) <cite data-cite=\"nbmlmsm-trendelkamp2015estimation\">(Trendelkamp-Schroer, 2015)</cite>. The posterior contains the prior around which sampling was performed as well as samples over which statistics can be collected. \n",
    "\n",
    "Similarly to the maximum-likelihood estimator it has the option to make estimation `reversible` as well as to introduce a `stationary_distribution_constraint`. Furthermore, it can be specified how many samples should be drawn as well as how many Gibbs sampling should be performed for each output sample."
   ]
  },
  {
   "cell_type": "code",
   "execution_count": null,
   "metadata": {
    "execution": {
     "iopub.execute_input": "2020-10-26T12:01:24.535855Z",
     "iopub.status.busy": "2020-10-26T12:01:24.535442Z",
     "iopub.status.idle": "2020-10-26T12:01:24.537137Z",
     "shell.execute_reply": "2020-10-26T12:01:24.537521Z"
    }
   },
   "outputs": [],
   "source": [
    "estimator = deeptime.markov.msm.BayesianMSM(\n",
    "    n_samples=100,\n",
    "    n_steps=10,\n",
    "    reversible=True,\n",
    "    stationary_distribution_constraint=None\n",
    ")"
   ]
  },
  {
   "cell_type": "markdown",
   "metadata": {},
   "source": [
    "To fit the model, an effective counting should be used as sliding window counting leads to wrong uncertainties."
   ]
  },
  {
   "cell_type": "code",
   "execution_count": null,
   "metadata": {
    "execution": {
     "iopub.execute_input": "2020-10-26T12:01:24.540500Z",
     "iopub.status.busy": "2020-10-26T12:01:24.540104Z",
     "iopub.status.idle": "2020-10-26T12:01:24.568628Z",
     "shell.execute_reply": "2020-10-26T12:01:24.568198Z"
    }
   },
   "outputs": [],
   "source": [
    "counts_estimator = deeptime.markov.TransitionCountEstimator(\n",
    "    lagtime=1, count_mode=\"effective\"\n",
    ")\n",
    "counts_effective = counts_estimator.fit(trajectory).fetch_model()"
   ]
  },
  {
   "cell_type": "markdown",
   "metadata": {},
   "source": [
    "With the estimated effective counts, we are ready to estimate the posterior."
   ]
  },
  {
   "cell_type": "code",
   "execution_count": null,
   "metadata": {
    "execution": {
     "iopub.execute_input": "2020-10-26T12:01:24.573334Z",
     "iopub.status.busy": "2020-10-26T12:01:24.572793Z",
     "iopub.status.idle": "2020-10-26T12:01:24.588500Z",
     "shell.execute_reply": "2020-10-26T12:01:24.587786Z"
    }
   },
   "outputs": [],
   "source": [
    "bmsm_posterior = estimator.fit(counts_effective).fetch_model()"
   ]
  },
  {
   "cell_type": "markdown",
   "metadata": {},
   "source": [
    "The prior can be accessed via the `prior` property, the samples can be accessed via the `samples` property. Both are just instances of [MarkovStateModel](../api/generated/deeptime.markov.msm.MarkovStateModel.rst#deeptime.markov.msm.MarkovStateModel) and a list thereof, respectively. "
   ]
  },
  {
   "cell_type": "code",
   "execution_count": null,
   "metadata": {
    "execution": {
     "iopub.execute_input": "2020-10-26T12:01:24.592346Z",
     "iopub.status.busy": "2020-10-26T12:01:24.591879Z",
     "iopub.status.idle": "2020-10-26T12:01:24.594922Z",
     "shell.execute_reply": "2020-10-26T12:01:24.594409Z"
    }
   },
   "outputs": [],
   "source": [
    "print(\"# samples:\", len(bmsm_posterior.samples))"
   ]
  },
  {
   "cell_type": "markdown",
   "metadata": {},
   "source": [
    "The posterior instance also offers a method to gather statistics over all evaluatable methods of the markov state model. Just put the name of method or property as a string, if it is a method of something that is returned by another method, just separate with a `/`. Below a few examples:"
   ]
  },
  {
   "cell_type": "code",
   "execution_count": null,
   "metadata": {
    "execution": {
     "iopub.execute_input": "2020-10-26T12:01:24.599089Z",
     "iopub.status.busy": "2020-10-26T12:01:24.598441Z",
     "iopub.status.idle": "2020-10-26T12:01:24.695558Z",
     "shell.execute_reply": "2020-10-26T12:01:24.695097Z"
    }
   },
   "outputs": [],
   "source": [
    "stats_P = bmsm_posterior.gather_stats(\"transition_matrix\")\n",
    "stats_timescales = bmsm_posterior.gather_stats(\"timescales\")\n",
    "stats_C = bmsm_posterior.gather_stats(\"count_model/count_matrix\")"
   ]
  },
  {
   "cell_type": "markdown",
   "metadata": {},
   "source": [
    "If a quantity evaluation requires arguments, they can be attached to the `gather_stats` method:"
   ]
  },
  {
   "cell_type": "code",
   "execution_count": null,
   "metadata": {
    "execution": {
     "iopub.execute_input": "2020-10-26T12:01:24.700036Z",
     "iopub.status.busy": "2020-10-26T12:01:24.699525Z",
     "iopub.status.idle": "2020-10-26T12:01:24.713162Z",
     "shell.execute_reply": "2020-10-26T12:01:24.713595Z"
    }
   },
   "outputs": [],
   "source": [
    "stats_mfpt = bmsm_posterior.gather_stats(\"mfpt\", A=0, B=1)"
   ]
  },
  {
   "cell_type": "markdown",
   "metadata": {},
   "source": [
    "These statistics contain mean, standard deviation, as well as confidence intervals."
   ]
  },
  {
   "cell_type": "code",
   "execution_count": null,
   "metadata": {
    "execution": {
     "iopub.execute_input": "2020-10-26T12:01:24.737752Z",
     "iopub.status.busy": "2020-10-26T12:01:24.730686Z",
     "iopub.status.idle": "2020-10-26T12:01:24.865821Z",
     "shell.execute_reply": "2020-10-26T12:01:24.865197Z"
    }
   },
   "outputs": [],
   "source": [
    "plt.plot([0, 1], stats_timescales.mean, label=\"bmsm timescales\")\n",
    "plt.fill_between([0, 1], stats_timescales.L, stats_timescales.R, color='b', alpha=.1)\n",
    "plt.plot([0, 1], bmsm_posterior.prior.timescales(), \"k--\", label=\"bmsm prior timescales\")\n",
    "plt.plot([0, 1], true_msm.timescales(), \"g-.\", label=\"ground truth timescales\")\n",
    "plt.legend();"
   ]
  },
  {
   "cell_type": "markdown",
   "metadata": {},
   "source": [
    "To, e.g., visualize samples differently or evaluate other kinds of moments, one can get access to the evaluated quantities directly by setting `store_samples` to `True`:"
   ]
  },
  {
   "cell_type": "code",
   "execution_count": null,
   "metadata": {
    "execution": {
     "iopub.execute_input": "2020-10-26T12:01:24.869602Z",
     "iopub.status.busy": "2020-10-26T12:01:24.869121Z",
     "iopub.status.idle": "2020-10-26T12:01:24.883101Z",
     "shell.execute_reply": "2020-10-26T12:01:24.883478Z"
    }
   },
   "outputs": [],
   "source": [
    "stats_mfpt = bmsm_posterior.gather_stats(\"mfpt\", store_samples=True, A=0, B=1)\n",
    "print(\"# samples:\", len(stats_mfpt.samples))"
   ]
  },
  {
   "cell_type": "raw",
   "metadata": {
    "raw_mimetype": "text/restructuredtext"
   },
   "source": [
    ".. rubric:: References\n",
    "\n",
    ".. bibliography:: /references.bib\n",
    "    :style: unsrt\n",
    "    :filter: docname in docnames\n",
    "    :keyprefix: nbmlmsm-"
   ]
  }
 ],
 "metadata": {
  "celltoolbar": "Raw Cell Format",
  "kernelspec": {
   "display_name": "Python 3",
   "language": "python",
   "name": "python3"
  },
  "language_info": {
   "codemirror_mode": {
    "name": "ipython",
    "version": 3
   },
   "file_extension": ".py",
   "mimetype": "text/x-python",
   "name": "python",
   "nbconvert_exporter": "python",
   "pygments_lexer": "ipython3",
   "version": "3.8.6"
  }
 },
 "nbformat": 4,
 "nbformat_minor": 4
}
