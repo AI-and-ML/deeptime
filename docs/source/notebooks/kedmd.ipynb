{
 "cells": [
  {
   "cell_type": "markdown",
   "metadata": {},
   "source": [
    "# Kernel EDMD\n",
    "\n",
    "This notebook illustrates how to use kernel extended dynamic mode decomposition (kernel EDMD) to compute eigenfunctions of the Koopman operator and Perron-Frobenius operator.\n",
    "\n",
    "The original derivation of kernel EDMD for the Koopman operator, obtained by kernelizing EDMD, can be found in <cite data-cite=\"nbkedmd-williams2016kernel\">(Williams, 2016)</cite>. An alternative derivation using covariance and cross-covariance operators defined on reproducing kernel Hilbert spaces, highlighting also relationships with conditional mean embeddings of distributions and the Perron-Frobenius operator, is presented in <cite data-cite=\"nbkedmd-klus2019eigendecomposition\">(Klus, 2019)</cite>. High-dimensional molecular dynamics problems can be found in <cite data-cite=\"nbkedmd-klus2018kernel\">(Klus, 2018)</cite>.\n",
    "\n",
    "Given training data $\\{x_i\\}_{i=1}^m$ and $\\{y_i\\}_{i=1}^m$, where $y_i$ is a time-lagged version of $x_i$, let $\\varphi$ denote an eigenfunction and $\\lambda$ the corresponding eigenvalue. For the Perron-Frobenius operator, we obtain kernel-based approximations of eigenvalues and eigenfunctions by\n",
    "$$(G_{XX}+m\\varepsilon I)^{-1}G_{XY} \\mathbf{v} = \\lambda \\mathbf{v}, \\quad \\varphi = \\Phi G_{XX}^{-1} \\mathbf{v}$$\n",
    "and for the Koopman operator by\n",
    "$$(G_{XX} + m \\varepsilon I)^{-1} G_{YX} \\mathbf{v} = \\lambda \\mathbf{v}, \\quad \\varphi = \\Phi \\mathbf{v},$$\n",
    "where $\\Phi=[\\phi(x_1), \\dots, \\phi(x_m)]$ is the so-called *feature matrix* and $\\varepsilon$ a regularization parameter. The matrices $G_{XX}$ and $G_{XY}$ are the standard Gram matrix and the time-lagged Gram matrix, respectively, with entries $[G_{XX}]_{ij} = k(x_i, x_j)$ and $[G_{XY}]_{ij} = k(x_i, y_j)$. Moreover, $G_{YX}=G_{XY}^\\top$."
   ]
  },
  {
   "cell_type": "code",
   "execution_count": null,
   "metadata": {},
   "outputs": [],
   "source": [
    "import numpy as np\n",
    "import matplotlib.pyplot as plt\n",
    "\n",
    "import deeptime as dt\n",
    "import deeptime.data._data_bindings as systems"
   ]
  },
  {
   "cell_type": "markdown",
   "metadata": {},
   "source": [
    "First we define a dynamical system. We will use a quadruple-well problem as our guiding example, which is given by a stochastic differential equation of the form $$\\mathrm{d}X_t = -\\nabla V(X_t) \\mathrm{d}t + \\sqrt{2 \\beta^{-1}} \\mathrm{d}W_t.$$ The potential $V$ is defined by $$V(x) = (x_1^2 - 1)^2 + (x_2^2 - 1)^2 .$$ We define the inverse temperature to be $\\beta = 4$. Let us visualize the potential."
   ]
  },
  {
   "cell_type": "code",
   "execution_count": null,
   "metadata": {},
   "outputs": [],
   "source": [
    "xy = np.arange(-2, 2, 0.1)\n",
    "XX, YY = np.meshgrid(xy, xy)\n",
    "V = (XX**2 - 1)**2 + (YY**2 - 1)**2\n",
    "plt.contourf(xy, xy, V, levels=np.linspace(0.0, 3.0, 20))\n",
    "\n",
    "plt.colorbar();"
   ]
  },
  {
   "cell_type": "markdown",
   "metadata": {},
   "source": [
    "The dynamical system itself is implented in C++ for the sake of efficiency. The SDE is solved with the Euler-Maruyama method.\n",
    "\n",
    "To visualize the system's dynamics we generate one long trajectory and plot a histogram. The density is high where the potential is low and vice versa. A particle will typically stay in one well for a long time before it transitions to other wells. There are thus four metastable states corresponding to the four wells.\n",
    "\n",
    "We can load the model as follows."
   ]
  },
  {
   "cell_type": "code",
   "execution_count": null,
   "metadata": {},
   "outputs": [],
   "source": [
    "h = 1e-3 # step size of the Euler-Maruyama integrator\n",
    "n_steps = 10000 # number of steps, the lag time is thus tau = nSteps*h = 10\n",
    "x0 = np.zeros((1, 2)) # inital condition\n",
    "n = 10000 # number of evaluations of the  discretized dynamical system with lag time tau\n",
    "\n",
    "f = dt.data.quadruple_well(n_steps=n_steps, seed=42)  # loading the model\n",
    "traj = f.trajectory(x0, n)\n",
    "\n",
    "plt.hist2d(*traj.T, range=[[-2, 2], [-2, 2]], bins=50, density=True)\n",
    "plt.colorbar()"
   ]
  },
  {
   "cell_type": "markdown",
   "metadata": {},
   "source": [
    "To approximate the Koopman operator, we uniformly sample training data in $[-2, 2] \\times [-2, 2]$."
   ]
  },
  {
   "cell_type": "code",
   "execution_count": null,
   "metadata": {},
   "outputs": [],
   "source": [
    "m = 2500 # number of training data points\n",
    "X = np.random.uniform(-2, 2, size=(2500, 2)) # training data\n",
    "# X = 4*np.random.rand(2, m)-2 \n",
    "Y = f(X) # training data mapped forward by the dynamical system"
   ]
  },
  {
   "cell_type": "markdown",
   "metadata": {},
   "source": [
    "We define a Gaussian kernel with bandwidth $\\sigma=1$ and apply kernel EDMD to the data set."
   ]
  },
  {
   "cell_type": "code",
   "execution_count": null,
   "metadata": {},
   "outputs": [],
   "source": [
    "sigma = 1 # kernel bandwidth\n",
    "kernel = dt.kernels.GaussianKernel(sigma)\n",
    "\n",
    "n_eigs = 6 # number of eigenfunctions to be computed\n",
    "kedmd_estimator = dt.decomposition.KernelEDMD(kernel, n_eigs=n_eigs, epsilon=1e-3)\n",
    "kedmd_model = kedmd_estimator.fit((X, Y)).fetch_model()\n",
    "\n",
    "phi = np.real(kedmd_model.transform(X))\n",
    "\n",
    "# normalize\n",
    "for i in range(n_eigs):\n",
    "    phi[:, i] = phi[:, i] / np.max(np.abs(phi[:, i]))"
   ]
  },
  {
   "cell_type": "markdown",
   "metadata": {},
   "source": [
    "We expect four eigenvalues close to one. These dominant eigenvalues correspond to the slow dynamics. The eigenfunction of the Koopman operator associated with the eigenvalue $\\lambda=1$ is the constant function, and the eigenfunction of the Perron-Frobenius operator associated with this eigenvalue is the invariant density."
   ]
  },
  {
   "cell_type": "code",
   "execution_count": null,
   "metadata": {},
   "outputs": [],
   "source": [
    "d = np.real(kedmd_model.eigenvalues)\n",
    "plt.plot(d, '.')\n",
    "plt.title('Dominant eigenvalues')"
   ]
  },
  {
   "cell_type": "markdown",
   "metadata": {},
   "source": [
    "The eigenfunctions contain information about the metastable sets and slow transitions."
   ]
  },
  {
   "cell_type": "code",
   "execution_count": null,
   "metadata": {},
   "outputs": [],
   "source": [
    "fig = plt.figure(figsize=(8, 8))\n",
    "gs = fig.add_gridspec(ncols=2, nrows=2)\n",
    "\n",
    "ax = fig.add_subplot(gs[0, 0])\n",
    "ax.scatter(*X.T, c=phi[:, 0])\n",
    "ax.set_title('1st eigenfunction')\n",
    "\n",
    "ax = fig.add_subplot(gs[0, 1])\n",
    "ax.scatter(*X.T, c=phi[:, 1])\n",
    "ax.set_title('2nd eigenfunction')\n",
    "\n",
    "ax = fig.add_subplot(gs[1, 0])\n",
    "ax.scatter(*X.T, c=phi[:, 2])\n",
    "ax.set_title('3rd eigenfunction')\n",
    "\n",
    "ax = fig.add_subplot(gs[1, 1])\n",
    "ax.scatter(*X.T, c=phi[:, 3])\n",
    "ax.set_title('4th eigenfunction');"
   ]
  },
  {
   "cell_type": "markdown",
   "metadata": {},
   "source": [
    "We can now apply clustering techniques to the dominant eigenfunctions to obtain metastable sets."
   ]
  },
  {
   "cell_type": "code",
   "execution_count": null,
   "metadata": {},
   "outputs": [],
   "source": [
    "kmeans = dt.clustering.Kmeans(n_clusters=4, n_jobs=4).fit(phi[:, :4]).fetch_model()\n",
    "c = kmeans.transform(phi[:, :4])\n",
    "\n",
    "plt.scatter(*X.T, c=c)"
   ]
  },
  {
   "cell_type": "raw",
   "metadata": {
    "raw_mimetype": "text/restructuredtext"
   },
   "source": [
    ".. rubric:: References\n",
    "\n",
    ".. bibliography:: /references.bib\n",
    "    :style: unsrt\n",
    "    :filter: docname in docnames\n",
    "    :keyprefix: nbkedmd-"
   ]
  }
 ],
 "metadata": {
  "kernelspec": {
   "display_name": "Python 3",
   "language": "python",
   "name": "python3"
  },
  "language_info": {
   "codemirror_mode": {
    "name": "ipython",
    "version": 3
   },
   "file_extension": ".py",
   "mimetype": "text/x-python",
   "name": "python",
   "nbconvert_exporter": "python",
   "pygments_lexer": "ipython3",
   "version": "3.8.6"
  }
 },
 "nbformat": 4,
 "nbformat_minor": 4
}
