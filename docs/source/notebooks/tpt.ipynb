{
 "cells": [
  {
   "cell_type": "markdown",
   "metadata": {},
   "source": [
    "# Transition path theory\n",
    "\n",
    "Transition path theory (TPT) is a method to study the ensemble of reactive trajectories, i.e., trajectories which come from a defined set of states $A$ and go next to $B$. It can answer at which rate they occur, as well as depict parallel pathways, traps, sequences of events, etc. Furthermore it introduces the notion of 'committor functions', which deals with probabilities of ending up in set $A$ or $B$ given the trajectory starts at some state potentially outside $A\\cup B$.\n",
    "\n",
    "A mathematical description of TPT can be found in <cite data-cite=\"nbtpt-weinan2006towards\">(E, 2006) and </cite><cite data-cite=\"nbtpt-metzner2009transition\">(Metzner, 2009)</cite>. The implementation is based on <cite data-cite=\"nbtpt-noe2009constructing\">(Noe, 2009)</cite>. Coarse-graining by path decomposition is presented in <cite data-cite=\"nbtpt-noe2009constructing\">(Noe, 2009)</cite> and <cite data-cite=\"nbtpt-berezhkovskii2009reactive\">(Berezhokovskii, 2009)</cite>.\n",
    "    \n",
    "To demonstrate the TPT API ([API docs here](../api/generated/sktime.markov.ReactiveFlux.rst#sktime.markov.ReactiveFlux)), in the following the example of a drunkard's walk is presented. The example is motivated by <cite data-cite=\"nbtpt-doyle1984random\">(Doyle, 1984)</cite> and <cite data-cite=\"nbtpt-valleriani2015circular\">(Valleriani, 2015)</cite>, where a drunkard is placed on a network of states and two special states, home and the bar. When the drunkard reaches either of these special states the trajectory stays there with high probability.\n",
    "One can then ask which paths can be taken and also with which probability the drunkard is going to reach either of the states given a certain current position."
   ]
  },
  {
   "cell_type": "markdown",
   "metadata": {},
   "source": [
    "To this end, import sktime and numpy for general numerical operations."
   ]
  },
  {
   "cell_type": "code",
   "execution_count": null,
   "metadata": {},
   "outputs": [],
   "source": [
    "import numpy as np\n",
    "import sktime"
   ]
  },
  {
   "cell_type": "markdown",
   "metadata": {},
   "source": [
    "We can create a [DrunkardsWalk](../api/generated/sktime.data.drunkards_walk.rst#sktime.data.drunkards_walk) simulator by specifying bar and home locations. As the drunkard lives on a 2-dimensional grid, the locations are given in terms of integer coordinates. Internally, this is related back to $\\mathrm{width}\\times\\mathrm{height}$ states. \n",
    "\n",
    "There are four kinds of states:\n",
    "- home states: states which denote the location of the home\n",
    "- bar states: states which denote the location of the bar\n",
    "- barrier states: states which either cannot be crossed or can only be crossed by overcoming a potential (i.e., it is less likely to encounter these states in a trajectory)\n",
    "- normal states: the drunkard can move freely by taking a step onto one of the adjacent grid cells with uniform probability unless it is a barrier."
   ]
  },
  {
   "cell_type": "code",
   "execution_count": null,
   "metadata": {},
   "outputs": [],
   "source": [
    "sim = sktime.data.drunkards_walk(grid_size=(10, 10),\n",
    "                                 bar_location=[(0, 0), (0, 1), (1, 0), (1, 1)], \n",
    "                                 home_location=[(8, 8), (8, 9), (9, 8), (9, 9)])"
   ]
  },
  {
   "cell_type": "markdown",
   "metadata": {},
   "source": [
    "We can add hard and soft barriers by specifying start and end points of the barrier. If no weight is given, the barrier is `hard`, i.e., cannot be crossed by a trajectory. This enters the jump probabilities from adjacent cells $(i,j)$ as\n",
    "\n",
    "$$\n",
    "\\mathbb{P}(x_{t+1}=\\mathrm{barrier} \\mid x_t = (i, j)) = \\begin{cases} p \\leq 1/\\mathrm{weight} &\\text{, if weight positive,}\\\\ 0 &\\text{, otherwise.} \\end{cases}\n",
    "$$\n",
    "\n",
    "That means the larger the weight, the smaller the probability to cross the barrier."
   ]
  },
  {
   "cell_type": "code",
   "execution_count": null,
   "metadata": {},
   "outputs": [],
   "source": [
    "sim.add_barrier((5, 1), (5, 5))\n",
    "sim.add_barrier((0, 9), (5, 8))\n",
    "sim.add_barrier((9, 2), (7, 6))\n",
    "sim.add_barrier((2, 6), (5, 6))\n",
    "\n",
    "sim.add_barrier((7, 9), (7, 7), weight=5.)\n",
    "sim.add_barrier((8, 7), (9, 7), weight=5.)\n",
    "\n",
    "sim.add_barrier((0, 2), (2, 2), weight=5.)\n",
    "sim.add_barrier((2, 0), (2, 1), weight=5.)"
   ]
  },
  {
   "cell_type": "markdown",
   "metadata": {},
   "source": [
    "Now we can simulate a trajectory on this grid by specifying a starting point and a number of simulation steps. The effective length of the trajectory might be lower than the number of simulation steps as the simulation stops if the state is `home` or `bar`."
   ]
  },
  {
   "cell_type": "code",
   "execution_count": null,
   "metadata": {},
   "outputs": [],
   "source": [
    "start = (7, 2)\n",
    "walk = sim.walk(start=start, n_steps=250, seed=40)\n",
    "print(\"Number of steps in the walk:\", len(walk))"
   ]
  },
  {
   "cell_type": "markdown",
   "metadata": {},
   "source": [
    "The trajectory can be visualized with a few helper functions attached to the simulator:"
   ]
  },
  {
   "cell_type": "code",
   "execution_count": null,
   "metadata": {},
   "outputs": [],
   "source": [
    "import matplotlib as mpl\n",
    "import matplotlib.pyplot as plt\n",
    "from mpl_toolkits.axes_grid1 import make_axes_locatable\n",
    "\n",
    "fig, ax = plt.subplots(figsize=(10, 10))\n",
    "\n",
    "ax.scatter(*start, marker='*', label='Start', c='cyan', s=150, zorder=5)\n",
    "sim.plot_path(ax, walk)\n",
    "handles, labels = sim.plot_2d_map(ax)\n",
    "ax.legend(handles=handles, labels=labels);"
   ]
  },
  {
   "cell_type": "markdown",
   "metadata": {},
   "source": [
    "Here, the darker red squares denote hard barriers, the lighter red squares denote barriers which can be crossed. So one could imagine, that both home and bar are on a hill.\n",
    "\n",
    "The simulator internally holds a [MarkovStateModel](../api/generated/sktime.markov.msm.MarkovStateModel.rst#sktime.markov.msm.MarkovStateModel) on which one can call [reactive_flux(A, B)](../api/generated/sktime.markov.msm.MarkovStateModel.rst#sktime.markov.msm.MarkovStateModel.reactive_flux). This computes some quantities related to the ensemble of reactive trajectories between sets of states $A$ and $B$."
   ]
  },
  {
   "cell_type": "code",
   "execution_count": null,
   "metadata": {},
   "outputs": [],
   "source": [
    "print(f\"Internal Markov state model with {sim.msm.n_states} states to cover the {sim.grid_size} grid.\")\n",
    "print(f\"Compute reactive flux from A={sim.home_state} to B={sim.bar_state}\")\n",
    "flux = sim.msm.reactive_flux(sim.home_state, sim.bar_state)"
   ]
  },
  {
   "cell_type": "markdown",
   "metadata": {},
   "source": [
    "## The committor\n",
    "\n",
    "One of the questions that can be answered with TPT is: If the man is at some state $(i,j)$, what is the probability that he reaches the bar before home? If he is already already at the bar, the probability is $1$, i.e., \n",
    "\n",
    "$$\\mathbb{P}((i,j)) = 0\\;\\forall (i,j)\\in\\mathrm{Home}$$ \n",
    "\n",
    "and vice versa\n",
    "\n",
    "$$\\mathbb{P}((i,j)) = 1\\;\\forall (i,j)\\in\\mathrm{Bar}.$$\n",
    "\n",
    "The [law of total probability](https://en.wikipedia.org/wiki/Law_of_total_probability) tells us that to know the probability of an event $A$ with a known and at most countably infinite set of mutually exclusive events $\\{C_n : n\\in\\mathbb{N}\\}$ so that $\\sum_i \\mathbb{P}(C_i) = 1$, one can evaluate\n",
    "\n",
    "$$\n",
    "\\mathbb{P}(A) = \\sum_n \\mathbb{P}(A\\mid C_n)\\mathbb{P}(C_n).\n",
    "$$\n",
    "\n",
    "In our example and ignoring borders and barriers, this means that for a current state $s=(i,j)$ and $A=\\text{\"Home from state }s\\text{\"}$ the sample space consists of direct neighbor states, i.e.,\n",
    "\n",
    "$$\n",
    "C = \\{ \\text{move from }s\\text{ to }s+(k,l) : (k,l)\\in \\{ -1, 0, 1 \\}^2 \\text{ and } (k,l)\\neq (0, 0) \\} \\}.\n",
    "$$\n",
    "\n",
    "Then,\n",
    "$$\n",
    "\\mathbb{P}(\\text{Home from }s) = \\sum_{C_{(k,l)}\\in C} \\mathbb{P}(\\text{Home from }s+(k,l))\\mathbb{P}(C_{(k,l)}).\n",
    "$$\n",
    "\n",
    "But the $\\mathbb{P}(C_{(k,l)})$ are exactly the transition probabilities to move from state $s$ to $s+(k,l)$, giving rise to the _forward committor_\n",
    "\n",
    "$$\n",
    "q_s^{(+)} = q_{(i,j)}^{(+)} = \\sum_{(k,l)\\neq(0, 0)} q_{(i+k, j+l)}^{(+)}p_{(i,j),(i+k, j+l)},\n",
    "$$\n",
    "\n",
    "where $p_{(i,j),(i+k, j+l)}$ is the probability to transition from state $s=(i,j)$ to one of its neighboring states.\n",
    "\n",
    "**More formally**, the forward committor probability is the probability to reach set of states $A$ before $B$. Using the first hitting time of a set $S$ given by\n",
    "\n",
    "$$T_{S}=\\inf\\{t \\geq 0 : X_t \\in S \\},$$\n",
    "\n",
    "it can be defined as\n",
    "\n",
    "$$ q^{(+)}_i=\\mathbb{P}_{i}(T_{A}<T_{B}). $$\n",
    "\n",
    "It also satisfies the boundary value problem (BVP)\n",
    "\n",
    "$$\n",
    "\\begin{aligned}\n",
    "q_i^{(+)} &= 0 &&\\text{, for all }i\\in A,\\\\\n",
    "q_i^{(+)} &= 1 &&\\text{, for all }i\\in B,\\\\\n",
    "\\sum_j L_{ij} q^{(+)}_{j}&=0 &&\\text{, for all }i\\not\\in A\\cup B,\\\\\n",
    "\\end{aligned}\n",
    "$$\n",
    "\n",
    "where $L=P-\\mathbb{I}$ is the generator matrix and $P$ the transition matrix. The BVP-formulation is used to numerically find the forward committor.\n",
    "\n",
    "There is also the notion of a *backward committor*, which is the probability that given state $i$, the system has previously been in set $A$ rather than $B$. With detailed balance, the backward committor is given by $q_i^{(-)} = 1 - q_i^{(+)}$."
   ]
  },
  {
   "cell_type": "code",
   "execution_count": null,
   "metadata": {},
   "outputs": [],
   "source": [
    "fig, axes = plt.subplots(1, 2, figsize=(15, 10))\n",
    "dividers = [make_axes_locatable(axes[i]) for i in range(len(axes))]\n",
    "caxes = [divider.append_axes(\"right\", size=\"5%\", pad=0.05) for divider in dividers]\n",
    "titles = [\"Forward committor\", \"Backward committor\"]\n",
    "\n",
    "for i, ax in enumerate(axes):\n",
    "    ax.set_title(titles[i])\n",
    "    ax.scatter(*start, marker='*', label='Start', c='cyan', s=150, zorder=5)\n",
    "    handles, labels = sim.plot_2d_map(ax, barrier_mode='hollow')\n",
    "\n",
    "    if i == 0:\n",
    "        Q = flux.forward_committor.reshape(sim.grid_size)\n",
    "    else:\n",
    "        Q = flux.backward_committor.reshape(sim.grid_size)\n",
    "    cb = ax.imshow(Q, interpolation='nearest', origin='lower', cmap='coolwarm')\n",
    "    fig.colorbar(cb, cax=caxes[i])\n",
    "    if i == 0:\n",
    "        fig.delaxes(fig.axes[2])\n",
    "\n",
    "    ax.legend(handles=handles, labels=labels)\n",
    "\n",
    "\n",
    "plt.tight_layout()"
   ]
  },
  {
   "cell_type": "markdown",
   "metadata": {},
   "source": [
    "As one can observe, the forward committor probabilities increase gradually when moving from home to bar, vice versa for the backward committor. This is expected as the Markov state model is reversible."
   ]
  },
  {
   "cell_type": "markdown",
   "metadata": {},
   "source": [
    "## Reactive probability flux\n",
    "\n",
    "If one is interested in the current of trajectories making their way from a set of states $A$ to a set of states $B$ (without trajectories that, e.g., leave $A$ just to go back to $A$ and only then enter $B$), TPT offers the *reactive flux*. The relevant _gross flux_ between two states $i$ and $j$ is then given by\n",
    "\n",
    "$$\n",
    "f_{ij}^{AB} = \\begin{cases}q_i^{(-)}\\pi_i p_{ij}q_j^{(+)} &\\text{, if }i\\neq j,\\\\ 0 &\\text{, otherwise.}\\end{cases}\n",
    "$$\n",
    "\n",
    "The flux is conserved between intermediate states\n",
    "\n",
    "$$\n",
    "\\sum_j f_{ij}^{AB} - f_{ji}^{AB} = 0\\;\\forall i\\not\\in A\\cup B,\n",
    "$$\n",
    "\n",
    "and also throughout the entire network\n",
    "\n",
    "$$\n",
    "\\sum_{i\\in A,j\\not in A}f_{ij}^{AB} = \\sum_{i\\not\\in B, j\\in B} f_{ij}^{AB}.\n",
    "$$\n",
    "\n",
    "The considered _gross flux_ can include detours of the form $A\\rightarrow\\ldots\\rightarrow i\\rightarrow j\\rightarrow i\\rightarrow j\\rightarrow\\ldots\\rightarrow B$, which can be (in the case of detailed balance) excluded by considering the _net flux_\n",
    "\n",
    "$$\n",
    "f_{ij}^{AB,+} = \\max\\{ 0, f_{ij}^{AB}-f_{ji}^{AB} \\}.\n",
    "$$\n",
    "\n",
    "In general and without detailed balance, the net flux might still contain such detours."
   ]
  },
  {
   "cell_type": "markdown",
   "metadata": {},
   "source": [
    "In scikit-time, the gross and net flux are accessible from the [ReactiveFlux](../api/generated/sktime.markov.ReactiveFlux.rst) object as $(n_\\mathrm{states}\\times n_\\mathrm{states})$ numpy arrays, where the first dimension corresponds to state $i$, the second dimension corresponds to state $j$."
   ]
  },
  {
   "cell_type": "code",
   "execution_count": null,
   "metadata": {},
   "outputs": [],
   "source": [
    "print(f\"Gross flux shape {flux.gross_flux.shape}, net flux shape {flux.net_flux.shape}\")"
   ]
  },
  {
   "cell_type": "markdown",
   "metadata": {},
   "source": [
    "The example simulator offers plotting functionality so that the fluxes can be visualized:"
   ]
  },
  {
   "cell_type": "code",
   "execution_count": null,
   "metadata": {},
   "outputs": [],
   "source": [
    "fig, axes = plt.subplots(1, 2, figsize=(18, 10))\n",
    "dividers = [make_axes_locatable(axes[i]) for i in range(len(axes))]\n",
    "caxes = [divider.append_axes(\"right\", size=\"5%\", pad=0.05) for divider in dividers]\n",
    "\n",
    "titles = [\"Gross flux\", \"Net flux\"]\n",
    "fluxes = [flux.gross_flux, flux.net_flux]\n",
    "\n",
    "cmap = plt.cm.copper_r\n",
    "thresh = [0, 1e-12]\n",
    "\n",
    "for i in range(len(axes)):\n",
    "    ax = axes[i]\n",
    "    F = fluxes[i]\n",
    "    ax.set_title(titles[i])\n",
    "\n",
    "    vmin = np.min(F[np.nonzero(F)])\n",
    "    vmax = np.max(F)\n",
    "\n",
    "    sim.plot_2d_map(ax)\n",
    "    sim.plot_network(ax, F, cmap=cmap, connection_threshold=thresh[i])\n",
    "    norm = mpl.colors.LogNorm(vmin=vmin, vmax=vmax)\n",
    "    fig.colorbar(plt.cm.ScalarMappable(norm=norm, cmap=cmap), cax=caxes[i]);"
   ]
  },
  {
   "cell_type": "markdown",
   "metadata": {},
   "source": [
    "From the gross flux one can derive the _total flux_, the total number of reactive $A\\rightarrow B$ trajectories per time unit\n",
    "\n",
    "$$\n",
    "f_{\\mathrm{tot}}^{AB} = \\sum_{i\\in A, j\\not\\in A}f_{ij}^{AB},\n",
    "$$\n",
    "\n",
    "which can be accessed by:"
   ]
  },
  {
   "cell_type": "code",
   "execution_count": null,
   "metadata": {},
   "outputs": [],
   "source": [
    "print(f\"Total flux = {flux.total_flux:.3e}/step\")"
   ]
  },
  {
   "cell_type": "markdown",
   "metadata": {},
   "source": [
    "This quantity gives rise to the *total transition rate*, which is the number of events given we start in $A$\n",
    "\n",
    "$$\n",
    "k_{AB} = \\frac{f_\\mathrm{tot}^{AB}}{\\sum_i\\pi_iq_i^{(-)}}\n",
    "$$"
   ]
  },
  {
   "cell_type": "code",
   "execution_count": null,
   "metadata": {},
   "outputs": [],
   "source": [
    "print(f'Rate = {flux.rate:.3e}/step')"
   ]
  },
  {
   "cell_type": "markdown",
   "metadata": {},
   "source": [
    "which is also the inverse $A\\to B$ mean first passage time $\\mathrm{mfpt} = 1/k_{AB}$"
   ]
  },
  {
   "cell_type": "code",
   "execution_count": null,
   "metadata": {},
   "outputs": [],
   "source": [
    "print(f'MFPT = {flux.mfpt:.3f} steps')"
   ]
  },
  {
   "cell_type": "markdown",
   "metadata": {},
   "source": [
    "## Coarse-graining of fluxes\n",
    "\n",
    "For better interpretability, one can cluster microstates defined in a Markov state model into metastable sets using, e.g., [PCCA+](../notebooks/pcca.ipynb).\n",
    "\n",
    "In our example, we might select six clusters:"
   ]
  },
  {
   "cell_type": "code",
   "execution_count": null,
   "metadata": {},
   "outputs": [],
   "source": [
    "pcca = sim.msm.pcca(6)"
   ]
  },
  {
   "cell_type": "markdown",
   "metadata": {},
   "source": [
    "and depict the membership probabilities for each state"
   ]
  },
  {
   "cell_type": "code",
   "execution_count": null,
   "metadata": {},
   "outputs": [],
   "source": [
    "fig, axes = plt.subplots(2, 3, figsize=(15, 10), sharex=True, sharey=True)\n",
    "\n",
    "for i, ax in enumerate(axes.flatten()):\n",
    "    ax.set_title(f\"Memberships for metastable set {i+1}\")\n",
    "    handles, labels = sim.plot_2d_map(ax, barrier_mode='hollow')\n",
    "\n",
    "    Q = pcca.memberships[:, i].reshape(sim.grid_size)\n",
    "    cb = ax.imshow(Q, interpolation='nearest', origin='lower', cmap=plt.cm.Blues);\n",
    "norm = mpl.colors.Normalize(vmin=0, vmax=1)\n",
    "fig.colorbar(plt.cm.ScalarMappable(norm=norm, cmap=plt.cm.Blues), ax=axes, shrink=.8);"
   ]
  },
  {
   "cell_type": "markdown",
   "metadata": {},
   "source": [
    "Also reactive fluxes can be coarse-grained by lumping together states - without systematic error as in the PCCA case. For simplicity, we coarse grain onto $A$, $B$, and the remainder subdivided into the upper half ($j\\geq 5$) and the lower half."
   ]
  },
  {
   "cell_type": "code",
   "execution_count": null,
   "metadata": {},
   "outputs": [],
   "source": [
    "remainder_upper = []\n",
    "remainder_lower = []\n",
    "for i in range(sim.grid_size[0]):\n",
    "    for j in range(sim.grid_size[1]):\n",
    "        state = sim.coordinate_to_state((i, j))\n",
    "        if state not in sim.home_state + sim.bar_state:\n",
    "            if j >= 5:\n",
    "                remainder_upper.append(state)\n",
    "            else:\n",
    "                remainder_lower.append(state)"
   ]
  },
  {
   "cell_type": "code",
   "execution_count": null,
   "metadata": {},
   "outputs": [],
   "source": [
    "sets, tpt = flux.coarse_grain([sim.home_state, sim.bar_state, remainder_upper, remainder_lower])"
   ]
  },
  {
   "cell_type": "markdown",
   "metadata": {},
   "source": [
    "As expected we obtain four sets which are exactly the home states, the bar states, and the subdivided remainder."
   ]
  },
  {
   "cell_type": "code",
   "execution_count": null,
   "metadata": {},
   "outputs": [],
   "source": [
    "# enumerating assignments\n",
    "assignments = np.zeros(sim.n_states)\n",
    "for i, flux_set in enumerate(sets):\n",
    "    assignments[np.array(list(flux_set))] = i\n",
    "assignments = assignments.reshape(sim.grid_size)\n",
    "\n",
    "# plot assignments\n",
    "fig, ax = plt.subplots(1, 1)\n",
    "cmap = plt.cm.get_cmap('Spectral', 4)\n",
    "cb = ax.imshow(assignments, interpolation='nearest', origin='lower', \n",
    "               cmap=cmap, vmin=-.5, vmax=3.5)\n",
    "cbar = fig.colorbar(cb, ticks=np.arange(4))\n",
    "cbar.ax.set_yticklabels(['Set 0', 'Set 1', 'Set 2', 'Set 3']);"
   ]
  },
  {
   "cell_type": "markdown",
   "metadata": {},
   "source": [
    "The return value also contains the fluxes plus derived quantities: The gross flux has a forward-backward cycle between upper and lower set, while the net flux lacks this cycle."
   ]
  },
  {
   "cell_type": "code",
   "execution_count": null,
   "metadata": {},
   "outputs": [],
   "source": [
    "import networkx as nx\n",
    "\n",
    "fig, axes = plt.subplots(1, 2, figsize=(15, 10))\n",
    "graphs = [nx.DiGraph() for _ in range(len(axes))]\n",
    "\n",
    "for i in range(len(axes)):\n",
    "    ax = axes[i]\n",
    "    \n",
    "    ax.set_title(\"Gross flux\" if i == 0 else \"Net flux\")\n",
    "    \n",
    "    F = tpt.gross_flux if i == 0 else tpt.net_flux\n",
    "    G = graphs[i]\n",
    "    for i in range(len(sets)):\n",
    "        G.add_node(i, title=f\"Set {i+1}\")\n",
    "    for i in range(len(sets)):\n",
    "        for j in range(len(sets)):\n",
    "            if F[i, j] > 0:\n",
    "                G.add_edge(i, j, title=f\"{F[i, j]:.3e}\")\n",
    "\n",
    "    edge_labels = nx.get_edge_attributes(G, 'title')\n",
    "    pos = nx.circular_layout(G)\n",
    "    nx.draw_networkx_nodes(G, pos, ax=ax, node_size=1100)\n",
    "    nx.draw_networkx_labels(G, pos, ax=ax, labels=nx.get_node_attributes(G, 'title'));\n",
    "    fragments = nx.draw_networkx_edge_labels(G, pos, ax=ax, edge_labels=edge_labels)\n",
    "    nx.draw_networkx_edges(G, pos, ax=ax, arrowstyle='-|>', arrowsize=30,\n",
    "                           connectionstyle='arc3, rad=0.3');"
   ]
  },
  {
   "cell_type": "markdown",
   "metadata": {},
   "source": [
    "## Pathway decomposition\n",
    "\n",
    "A pathway is a sequence of states $P=(s_1,s_2,\\ldots,s_k)$ so that $s_1\\in A$ and $s_k\\in B$. One can associate a capacity (the minimal current) to a pathway via\n",
    "\n",
    "$$\n",
    "f(P) = \\min\\{ f_{s_i s_{i+1}}^{AB} : i=1,\\ldots, k-1\\}.\n",
    "$$\n",
    "\n",
    "A pathway decomposition is then the repeated choosing of a path and subsequent removal of its capacity along its edges until no flux remains.\n",
    "\n",
    "The decomposition is not unique and depends on the order in which the paths are choosen. In scikit-time, a pathway decomposition is implemented by iteratively removing the currently strongest pathway (i.e., with largest capacity)."
   ]
  },
  {
   "cell_type": "markdown",
   "metadata": {},
   "source": [
    "A call to [pathways()](../api/generated/sktime.markov.ReactiveFlux.rst#sktime.markov.ReactiveFlux.pathways) performs said operation. One can optionally give a fraction (default 1.0) which stops the decomposition when the given fraction of the total flux is reached with the decomposition. The default tries to the flux into all dominant pathways which can be computationally intensive for large networks. Furthermore one can set a hard limit on the number of computed pathways via the `maxiter` argument."
   ]
  },
  {
   "cell_type": "code",
   "execution_count": null,
   "metadata": {},
   "outputs": [],
   "source": [
    "paths, capacities = flux.pathways(fraction=.3, maxiter=1000)\n",
    "print(len(paths))"
   ]
  },
  {
   "cell_type": "markdown",
   "metadata": {},
   "source": [
    "In this example, we can represent $30\\%$ of the total flux with four pathways."
   ]
  },
  {
   "cell_type": "code",
   "execution_count": null,
   "metadata": {},
   "outputs": [],
   "source": [
    "import matplotlib as mpl\n",
    "import matplotlib.pyplot as plt\n",
    "from mpl_toolkits.axes_grid1 import make_axes_locatable\n",
    "\n",
    "fig, ax = plt.subplots(figsize=(10, 10))\n",
    "\n",
    "ax.scatter(*start, marker='*', label='Start', c='cyan', s=150, zorder=5)\n",
    "\n",
    "for capacity, path in zip((capacities / np.array(capacities).sum())[:10], paths[:10]):\n",
    "    path = np.array([sim.state_to_coordinate(state) for state in path])\n",
    "    sim.plot_path(ax, path, lw=capacity*10, intermediates=False, \n",
    "                  color_lerp=False, label=f\"Capacity {capacity:.2e}\")\n",
    "    ax.scatter(*path.T, marker='x')\n",
    "\n",
    "handles, labels = sim.plot_2d_map(ax)\n",
    "ax.legend(handles=handles, labels=labels);"
   ]
  },
  {
   "cell_type": "markdown",
   "metadata": {},
   "source": [
    "## Example from trajectories\n",
    "\n",
    "Using the same example we can generate timeseries which can be used to re-estimate a Markov state model and perform a TPT analysis. To this end, we simulate 1000 trajectories all starting from the same point and return the micro states directly rather than $(i, j)$ coordinates."
   ]
  },
  {
   "cell_type": "code",
   "execution_count": null,
   "metadata": {},
   "outputs": [],
   "source": [
    "trajs = []\n",
    "for _ in range(1000):\n",
    "    trajs.append(sim.walk(start=start, n_steps=2000, return_states=True, stop=False))"
   ]
  },
  {
   "cell_type": "markdown",
   "metadata": {},
   "source": [
    "From these trajectories we can count state transitions based on the prior knowledge that there are actually $100$ states and select the largest connected submodel - which due to the barriers does not contain all the states."
   ]
  },
  {
   "cell_type": "code",
   "execution_count": null,
   "metadata": {},
   "outputs": [],
   "source": [
    "count_model = sktime.markov.TransitionCountEstimator(1, 'sliding', n_states=sim.n_states) \\\n",
    "    .fit(trajs).fetch_model()\n",
    "count_model = count_model.submodel_largest()"
   ]
  },
  {
   "cell_type": "code",
   "execution_count": null,
   "metadata": {},
   "outputs": [],
   "source": [
    "print(f\"States not included in the count model: \"\n",
    "      f\"{set(range(count_model.n_states_full)) - set(count_model.state_symbols)}\")"
   ]
  },
  {
   "cell_type": "markdown",
   "metadata": {},
   "source": [
    "Based on this we can estimate a Markov state model:"
   ]
  },
  {
   "cell_type": "code",
   "execution_count": null,
   "metadata": {},
   "outputs": [],
   "source": [
    "mlmsm = sktime.markov.msm.MaximumLikelihoodMSM().fit(count_model).fetch_model()"
   ]
  },
  {
   "cell_type": "markdown",
   "metadata": {},
   "source": [
    "While we represent all counts in the markov state model, only a fraction of the states is represented - as expected:"
   ]
  },
  {
   "cell_type": "code",
   "execution_count": null,
   "metadata": {},
   "outputs": [],
   "source": [
    "print(\"Count fraction:\", mlmsm.count_fraction)\n",
    "print(\"State fraction:\", mlmsm.state_fraction)"
   ]
  },
  {
   "cell_type": "markdown",
   "metadata": {},
   "source": [
    "On this we can compute the reactive flux:"
   ]
  },
  {
   "cell_type": "code",
   "execution_count": null,
   "metadata": {},
   "outputs": [],
   "source": [
    "flux = mlmsm.reactive_flux(\n",
    "     mlmsm.count_model.symbols_to_states(sim.home_state), \n",
    "     mlmsm.count_model.symbols_to_states(sim.bar_state))"
   ]
  },
  {
   "cell_type": "markdown",
   "metadata": {},
   "source": [
    "And perform the above described analyses, for example a pathway decomposition and the forward committor:"
   ]
  },
  {
   "cell_type": "code",
   "execution_count": null,
   "metadata": {},
   "outputs": [],
   "source": [
    "paths, capacities = flux.pathways(.3)\n",
    "\n",
    "fig, ax = plt.subplots(figsize=(10, 10))\n",
    "\n",
    "ax.set_title(\"Forward committor and pathway decomposition.\")\n",
    "\n",
    "for capacity, path in zip((capacities / np.array(capacities).sum())[:10], paths[:10]):\n",
    "    path = mlmsm.count_model.states_to_symbols(path)\n",
    "    path = np.array([sim.state_to_coordinate(state) for state in path])\n",
    "    sim.plot_path(ax, path, lw=capacity*10, label=f\"Capacity {capacity:.2e}\",\n",
    "                  intermediates=False, color_lerp=False)\n",
    "    ax.scatter(*path.T, marker='x')\n",
    "\n",
    "handles, labels = sim.plot_2d_map(ax, barriers=False)\n",
    "    \n",
    "Q = np.ones((sim.n_states))*np.nan\n",
    "Q[mlmsm.state_symbols()] = flux.forward_committor\n",
    "Q = Q.reshape(sim.grid_size)\n",
    "    \n",
    "cb = ax.imshow(Q, interpolation='nearest', origin='lower')\n",
    "fig.colorbar(cb, ax=ax)\n",
    "\n",
    "ax.legend(handles=handles, labels=labels);"
   ]
  },
  {
   "cell_type": "markdown",
   "metadata": {},
   "source": [
    "Comparing this plot with the ones above one can notice that the hard barriers are 'missing', meaning that they were not sampled in the trajectories and now show up as white cubes due to the image being initialized as $10\\times 10$ array filled with `np.nan`."
   ]
  },
  {
   "cell_type": "raw",
   "metadata": {
    "raw_mimetype": "text/restructuredtext"
   },
   "source": [
    ".. rubric:: References\n",
    "\n",
    ".. bibliography:: /references.bib\n",
    "    :style: unsrt\n",
    "    :filter: docname in docnames\n",
    "    :keyprefix: nbtpt-"
   ]
  }
 ],
 "metadata": {
  "celltoolbar": "Raw Cell Format",
  "kernelspec": {
   "display_name": "Python 3",
   "language": "python",
   "name": "python3"
  },
  "language_info": {
   "codemirror_mode": {
    "name": "ipython",
    "version": 3
   },
   "file_extension": ".py",
   "mimetype": "text/x-python",
   "name": "python",
   "nbconvert_exporter": "python",
   "pygments_lexer": "ipython3",
   "version": "3.8.5"
  }
 },
 "nbformat": 4,
 "nbformat_minor": 4
}
