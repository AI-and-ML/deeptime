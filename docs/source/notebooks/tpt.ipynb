{
 "cells": [
  {
   "cell_type": "markdown",
   "metadata": {},
   "source": [
    "# Transition path theory\n",
    "\n",
    "TPT\n",
    "\n",
    "https://www.nature.com/articles/srep17986"
   ]
  },
  {
   "cell_type": "code",
   "execution_count": null,
   "metadata": {},
   "outputs": [],
   "source": [
    "start = (7, 2)"
   ]
  },
  {
   "cell_type": "code",
   "execution_count": null,
   "metadata": {},
   "outputs": [],
   "source": [
    "import sktime\n",
    "import numpy as np\n",
    "sim = sktime.data.drunkards_walk(bar_location=(0, 0), home_location=(9, 9))\n",
    "walk = sim.walk(start=start, n_steps=250, seed=17)\n",
    "\n",
    "import matplotlib.pyplot as plt\n",
    "from matplotlib.collections import LineCollection\n",
    "from matplotlib.patches import FancyArrowPatch\n",
    "import scipy\n",
    "from scipy.interpolate import CubicSpline\n",
    "\n",
    "fig, ax = plt.subplots(figsize=(10, 10))\n",
    "\n",
    "ax.scatter(*sim.home_location, marker='*', label='Home', c='red', s=150, zorder=5)\n",
    "ax.scatter(*sim.bar_location, marker='*', label='Bar', c='orange', s=150, zorder=5)\n",
    "ax.scatter(*start, marker='*', label='Start', c='black', s=150, zorder=5)\n",
    "\n",
    "x = np.r_[walk[:, 0]]\n",
    "y = np.r_[walk[:, 1]]\n",
    "f, u = scipy.interpolate.splprep([x, y], s=0, per=False)\n",
    "xint, yint = scipy.interpolate.splev(np.linspace(0, 1, 50000), f)\n",
    "ax.scatter(x, y, label='Visited intermediates')\n",
    "\n",
    "points = np.stack([xint, yint]).T.reshape(-1, 1, 2)\n",
    "segments = np.concatenate([points[:-1], points[1:]], axis=1)\n",
    "coll = LineCollection(segments, cmap='cool', linestyle='dotted')\n",
    "coll.set_array(np.linspace(0, 1, num=len(points), endpoint=True))\n",
    "coll.set_linewidth(2)\n",
    "ax.add_collection(coll)\n",
    "\n",
    "ax.set_xticks(np.arange(10))\n",
    "ax.set_yticks(np.arange(10))\n",
    "ax.set_xlabel('coordinate x')\n",
    "ax.set_ylabel('coordinate y')\n",
    "ax.grid()\n",
    "ax.legend()"
   ]
  },
  {
   "cell_type": "code",
   "execution_count": null,
   "metadata": {},
   "outputs": [],
   "source": [
    "plt.matshow(sim.msm.transition_matrix)"
   ]
  },
  {
   "cell_type": "code",
   "execution_count": null,
   "metadata": {},
   "outputs": [],
   "source": [
    "flux = sim.msm.reactive_flux([sim.coordinate_to_state(start)], [sim.bar_state, sim.home_state])"
   ]
  },
  {
   "cell_type": "code",
   "execution_count": null,
   "metadata": {},
   "outputs": [],
   "source": [
    "net_flux = flux.net_flux.m"
   ]
  },
  {
   "cell_type": "code",
   "execution_count": null,
   "metadata": {},
   "outputs": [],
   "source": [
    "height, width = sim.grid_size"
   ]
  },
  {
   "cell_type": "code",
   "execution_count": null,
   "metadata": {},
   "outputs": [],
   "source": [
    "from scipy import ndimage"
   ]
  },
  {
   "cell_type": "code",
   "execution_count": null,
   "metadata": {},
   "outputs": [],
   "source": [
    "ff = ndimage.gaussian_filter(net_flux, sigma=5, order=1, mode='wrap')"
   ]
  },
  {
   "cell_type": "code",
   "execution_count": null,
   "metadata": {},
   "outputs": [],
   "source": [
    "Q = sim.msm.committor_forward([sim.coordinate_to_state(start)], \n",
    "                              [sim.home_state, sim.bar_state]).reshape(sim.grid_size)"
   ]
  },
  {
   "cell_type": "code",
   "execution_count": null,
   "metadata": {},
   "outputs": [],
   "source": [
    "import sktime\n",
    "import numpy as np\n",
    "sim = sktime.data.drunkards_walk(bar_location=(0, 0), home_location=(9, 9))\n",
    "walk = sim.walk(start=start, n_steps=250, seed=17)\n",
    "\n",
    "import matplotlib.pyplot as plt\n",
    "from matplotlib.collections import LineCollection\n",
    "from matplotlib.patches import FancyArrowPatch\n",
    "import scipy\n",
    "from scipy.interpolate import CubicSpline\n",
    "\n",
    "fig, ax = plt.subplots(figsize=(10, 10))\n",
    "\n",
    "ax.scatter(*sim.home_location, marker='*', label='Home', c='red', s=150, zorder=5)\n",
    "ax.scatter(*sim.bar_location, marker='*', label='Bar', c='orange', s=150, zorder=5)\n",
    "ax.scatter(*start, marker='*', label='Start', c='black', s=150, zorder=5)\n",
    "\n",
    "x = np.r_[walk[:, 0]]\n",
    "y = np.r_[walk[:, 1]]\n",
    "f, u = scipy.interpolate.splprep([x, y], s=0, per=False)\n",
    "xint, yint = scipy.interpolate.splev(np.linspace(0, 1, 50000), f)\n",
    "ax.scatter(x, y, label='Visited intermediates')\n",
    "ax.plot(xint, yint, color='black')\n",
    "\n",
    "ax.imshow(Q, interpolation='nearest', origin='lower')\n",
    "\n",
    "ax.set_xticks(np.arange(10))\n",
    "ax.set_yticks(np.arange(10))\n",
    "ax.set_xlabel('coordinate x')\n",
    "ax.set_ylabel('coordinate y')\n",
    "ax.grid()\n",
    "ax.legend()\n",
    "# ax.invert_yaxis()"
   ]
  },
  {
   "cell_type": "code",
   "execution_count": null,
   "metadata": {
    "scrolled": false
   },
   "outputs": [],
   "source": [
    "X = []\n",
    "Y = []\n",
    "U = []\n",
    "V = []\n",
    "for i in range(0,height-1):\n",
    "    for j in range(0,width-1):\n",
    "        X.append(j)\n",
    "        Y.append(i)\n",
    "        state_i = sim.coordinate_to_state((i, j))\n",
    "        f_east = net_flux[i*width+j, i*width+j+1]\n",
    "        f_south = net_flux[i*width+j, (i+1)*width+j]\n",
    "        f_west = net_flux[i*width+j, i*width+j-1]\n",
    "        f_north =  net_flux[i*width+j, (i-1)*width+j]\n",
    "        U.append(f_east-f_west)\n",
    "        V.append(f_north-f_south)\n",
    "\n",
    "C = np.linalg.norm(np.vstack((U,V)),axis=0)        \n",
    "plt.figure(figsize=(10, 10))\n",
    "plt.quiver(X, Y, U, V, C)\n",
    "# plt.imshow(ff)\n",
    "# plt.gca().invert_yaxis()\n",
    "plt.gca().set_aspect('equal')    "
   ]
  },
  {
   "cell_type": "code",
   "execution_count": null,
   "metadata": {},
   "outputs": [],
   "source": []
  }
 ],
 "metadata": {
  "kernelspec": {
   "display_name": "Python 3",
   "language": "python",
   "name": "python3"
  },
  "language_info": {
   "codemirror_mode": {
    "name": "ipython",
    "version": 3
   },
   "file_extension": ".py",
   "mimetype": "text/x-python",
   "name": "python",
   "nbconvert_exporter": "python",
   "pygments_lexer": "ipython3",
   "version": "3.7.6"
  }
 },
 "nbformat": 4,
 "nbformat_minor": 4
}
