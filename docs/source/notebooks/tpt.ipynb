{
 "cells": [
  {
   "cell_type": "markdown",
   "metadata": {},
   "source": [
    "# Transition path theory\n",
    "\n",
    "Transition path theory (TPT) is a method to study the ensemble of reactive trajectories, i.e., trajectories which come from a defined set of states $A$ and go next to $B$. It can answer at which rate they occur, as well as depict parallel pathways, traps, sequences of events, etc. Furthermore it introduces the notion of 'committor functions', which deals with probabilities of ending up in set $A$ or $B$ given the trajectory starts at some state potentially outside $A\\cup B$.\n",
    "\n",
    "A mathematical description of TPT can be found in <cite data-cite=\"nbtpt-weinan2006towards\">(Weinan, 2006) and </cite><cite data-cite=\"nbtpt-metzner2009transition\">(Metzner, 2009)</cite>. The implementation is based on <cite data-cite=\"nbtpt-noe2009constructing\">(Noe, 2009)</cite>. Coarse-graining by path decomposition is presented in <cite data-cite=\"nbtpt-noe2009constructing\">(Noe, 2009)</cite> and <cite data-cite=\"nbtpt-berezhkovskii2009reactive\">(Berezhokovskii, 2009)</cite>.\n",
    "    \n",
    "To demonstrate the TPT API ([API docs here](../api/generated/sktime.markov.ReactiveFlux.rst#sktime.markov.ReactiveFlux)), in the following the example of a drunkard's walk is presented. The example is motivated by <cite data-cite=\"nbtpt-doyle1984random\">(Doyle, 1984)</cite> and <cite data-cite=\"nbtpt-valleriani2015circular\">(Valleriani, 2015)</cite>, where a drunkard is placed on a network of states and two special states, home and the bar. When the drunkard reaches either of these special states the trajectory stays there with high probability.\n",
    "One can then ask which paths can be taken and also with which probability the drunkard is going to reach either of the states given a certain current position."
   ]
  },
  {
   "cell_type": "markdown",
   "metadata": {},
   "source": [
    "To this end, import sktime and numpy for general numerical operations."
   ]
  },
  {
   "cell_type": "code",
   "execution_count": null,
   "metadata": {},
   "outputs": [],
   "source": [
    "import numpy as np\n",
    "import sktime"
   ]
  },
  {
   "cell_type": "markdown",
   "metadata": {},
   "source": [
    "We can create a [DrunkardsWalk](../api/generated/sktime.data.drunkards_walk.rst#sktime.data.drunkards_walk) simulator by specifying bar and home locations. As the drunkard lives on a 2-dimensional surface, the locations are given in terms of integer coordinates. Internally, this is related back to $\\mathrm{width}\\times\\mathrm{height}$ states."
   ]
  },
  {
   "cell_type": "code",
   "execution_count": null,
   "metadata": {},
   "outputs": [],
   "source": [
    "sim = sktime.data.drunkards_walk(grid_size=(10, 10),\n",
    "                                 bar_location=[(0, 0), (0, 1), (1, 0), (1, 1)], \n",
    "                                 home_location=[(8, 8), (8, 9), (9, 8), (9, 9)])"
   ]
  },
  {
   "cell_type": "markdown",
   "metadata": {},
   "source": [
    "To make the scenario a bit more interesting, we can add hard and soft barriers by specifying start and end points of the barrier. If no weight is given, the barrier is `hard`, i.e., cannot be crossed by a trajectory."
   ]
  },
  {
   "cell_type": "code",
   "execution_count": null,
   "metadata": {},
   "outputs": [],
   "source": [
    "sim.add_barrier((5, 1), (5, 5))\n",
    "sim.add_barrier((0, 9), (5, 8))\n",
    "sim.add_barrier((9, 2), (7, 6))\n",
    "sim.add_barrier((2, 6), (5, 6))\n",
    "\n",
    "sim.add_barrier((7, 9), (7, 7), weight=5.)\n",
    "sim.add_barrier((8, 7), (9, 7), weight=5.)\n",
    "\n",
    "sim.add_barrier((0, 2), (2, 2), weight=5.)\n",
    "sim.add_barrier((2, 0), (2, 1), weight=5.)"
   ]
  },
  {
   "cell_type": "markdown",
   "metadata": {},
   "source": [
    "Now we can simulate a trajectory on this grid by specifying a starting point and a number of simulation steps. The effective length of the trajectory might be lower than the number of simulation steps as the simulation stops if the state is `home` or `bar`."
   ]
  },
  {
   "cell_type": "code",
   "execution_count": null,
   "metadata": {},
   "outputs": [],
   "source": [
    "start = (7, 2)\n",
    "walk = sim.walk(start=start, n_steps=250, seed=40)\n",
    "print(\"Number of steps in the walk:\", len(walk))"
   ]
  },
  {
   "cell_type": "markdown",
   "metadata": {},
   "source": [
    "The trajectory can be visualized with a few helper functions attached to the simulator:"
   ]
  },
  {
   "cell_type": "code",
   "execution_count": null,
   "metadata": {},
   "outputs": [],
   "source": [
    "import matplotlib as mpl\n",
    "import matplotlib.pyplot as plt\n",
    "from mpl_toolkits.axes_grid1 import make_axes_locatable\n",
    "\n",
    "fig, ax = plt.subplots(figsize=(10, 10))\n",
    "\n",
    "ax.scatter(*start, marker='*', label='Start', c='cyan', s=150, zorder=5)\n",
    "handles, labels = sim.plot_2d_map(ax)\n",
    "sim.plot_path(ax, walk)\n",
    "ax.legend(handles=handles, labels=labels);"
   ]
  },
  {
   "cell_type": "code",
   "execution_count": null,
   "metadata": {},
   "outputs": [],
   "source": [
    "flux = sim.msm.reactive_flux([sim.coordinate_to_state(start)], \n",
    "                             np.concatenate([sim.home_state, sim.bar_state]))\n",
    "flux = sim.msm.reactive_flux(sim.home_state, \n",
    "                             sim.bar_state)"
   ]
  },
  {
   "cell_type": "code",
   "execution_count": null,
   "metadata": {},
   "outputs": [],
   "source": [
    "fig, axes = plt.subplots(1, 2, figsize=(18, 10))\n",
    "dividers = [make_axes_locatable(axes[i]) for i in range(len(axes))]\n",
    "caxes = [divider.append_axes(\"right\", size=\"5%\", pad=0.05) for divider in dividers]\n",
    "\n",
    "titles = [\"Gross flux\", \"Net flux\"]\n",
    "fluxes = [flux.gross_flux.m, flux.net_flux.m]\n",
    "\n",
    "cmap = plt.cm.copper_r\n",
    "thresh = [0, 1e-12]\n",
    "\n",
    "for i in range(len(axes)):\n",
    "    ax = axes[i]\n",
    "    F = fluxes[i]\n",
    "    ax.set_title(titles[i])\n",
    "\n",
    "    vmin = np.min(F[np.nonzero(F)])\n",
    "    vmax = np.max(F)\n",
    "\n",
    "    sim.plot_2d_map(ax)\n",
    "    sim.plot_network(ax, F, cmap=cmap, connection_threshold=thresh[i])\n",
    "    norm = mpl.colors.LogNorm(vmin=vmin, vmax=vmax)\n",
    "    fig.colorbar(plt.cm.ScalarMappable(norm=norm, cmap=cmap), cax=caxes[i]);"
   ]
  },
  {
   "cell_type": "code",
   "execution_count": null,
   "metadata": {},
   "outputs": [],
   "source": []
  },
  {
   "cell_type": "code",
   "execution_count": null,
   "metadata": {},
   "outputs": [],
   "source": []
  },
  {
   "cell_type": "code",
   "execution_count": null,
   "metadata": {},
   "outputs": [],
   "source": [
    "paths, capacities = flux.pathways()"
   ]
  },
  {
   "cell_type": "code",
   "execution_count": null,
   "metadata": {},
   "outputs": [],
   "source": [
    "fig, axes = plt.subplots(1, 2, figsize=(15, 10))\n",
    "dividers = [make_axes_locatable(axes[i]) for i in range(len(axes))]\n",
    "caxes = [divider.append_axes(\"right\", size=\"5%\", pad=0.05) for divider in dividers]\n",
    "titles = [\"Forward committor\", \"Backward committor\"]\n",
    "\n",
    "for i, ax in enumerate(axes):\n",
    "    ax.set_title(titles[i])\n",
    "    ax.scatter(*start, marker='*', label='Start', c='cyan', s=150, zorder=5)\n",
    "    handles, labels = sim.plot_2d_map(ax, barrier_mode='hollow')\n",
    "\n",
    "    for capacity, path in zip((capacities / np.array(capacities).sum())[:10], paths[:10]):\n",
    "        path = np.array([sim.state_to_coordinate(state) for state in path])\n",
    "        sim.plot_path(ax, path, lw=1., intermediates=False, color_lerp=False)\n",
    "        ax.scatter(*path.T, marker='x')\n",
    "    \n",
    "    if i == 0:\n",
    "        Q = flux.forward_committor.reshape(sim.grid_size)\n",
    "    else:\n",
    "        Q = flux.backward_committor.reshape(sim.grid_size)\n",
    "    cb = ax.imshow(Q, interpolation='nearest', origin='lower', cmap='coolwarm')\n",
    "    fig.colorbar(cb, cax=caxes[i])\n",
    "    if i == 0:\n",
    "        fig.delaxes(fig.axes[2])\n",
    "\n",
    "    ax.legend(handles=handles, labels=labels)\n",
    "\n",
    "\n",
    "plt.tight_layout()"
   ]
  },
  {
   "cell_type": "code",
   "execution_count": null,
   "metadata": {},
   "outputs": [],
   "source": [
    "gross_flux = flux.gross_flux.m"
   ]
  },
  {
   "cell_type": "code",
   "execution_count": null,
   "metadata": {},
   "outputs": [],
   "source": [
    "gross_flux.shape"
   ]
  },
  {
   "cell_type": "code",
   "execution_count": null,
   "metadata": {},
   "outputs": [],
   "source": [
    "x = np.arange(-1/2, sim.grid_size[0]-1 + 1/2, 1/2.)\n",
    "y = np.arange(-1/2, sim.grid_size[1]-1 + 1/2, 1/2.)\n",
    "X, Y = np.meshgrid(x, y, indexing='ij')\n",
    "U = np.zeros_like(X)\n",
    "V = np.zeros_like(X)"
   ]
  },
  {
   "cell_type": "code",
   "execution_count": null,
   "metadata": {},
   "outputs": [],
   "source": [
    "F = flux.net_flux.m"
   ]
  },
  {
   "cell_type": "code",
   "execution_count": null,
   "metadata": {},
   "outputs": [],
   "source": [
    "for i in range(sim.grid_size[0]):\n",
    "    for j in range(sim.grid_size[1]):\n",
    "        i_grid = 2*i + 1\n",
    "        j_grid = 2*j + 1\n",
    "        coord = (i, j)\n",
    "        state = sim.coordinate_to_state(coord)\n",
    "        \n",
    "        for offset_i in [-1, 0, 1]:\n",
    "            for offset_j in [-1, 0, 1]:\n",
    "                neighbor_coord = (i + offset_i, j + offset_j)\n",
    "                if sim.is_valid_coordinate(neighbor_coord):\n",
    "                    neighbor_state = sim.coordinate_to_state(neighbor_coord)\n",
    "                    neighbor_F = F[state, neighbor_state]\n",
    "                    U[i_grid + offset_i, j_grid + offset_j] += offset_i * neighbor_F\n",
    "                    V[i_grid + offset_i, j_grid + offset_j] += offset_j * neighbor_F"
   ]
  },
  {
   "cell_type": "code",
   "execution_count": null,
   "metadata": {},
   "outputs": [],
   "source": [
    "fig, ax = plt.subplots(1, 1, figsize=(10, 10))\n",
    "\n",
    "ax.scatter(*start, marker='*', label='Start', c='cyan', s=150, zorder=5)\n",
    "\n",
    "sim.plot_2d_map(ax)\n",
    "\n",
    "for capacity, path in zip(capacities[:15], paths[:15]):\n",
    "    path = np.array([sim.state_to_coordinate(state) for state in path])\n",
    "    sim.plot_path(ax, path, intermediates=False, color_lerp=False, alpha=.3)\n",
    "\n",
    "C = np.linalg.norm(np.vstack((U.flatten(),V.flatten())),axis=0)\n",
    "ax.quiver(X, Y, U, V, C, scale=8*flux.total_flux.m)\n",
    "ax.set_xlim([-.5, sim.grid_size[0]-.5])\n",
    "ax.set_ylim([-.5, sim.grid_size[1]-.5])"
   ]
  },
  {
   "cell_type": "code",
   "execution_count": null,
   "metadata": {},
   "outputs": [],
   "source": []
  },
  {
   "cell_type": "code",
   "execution_count": null,
   "metadata": {},
   "outputs": [],
   "source": []
  },
  {
   "cell_type": "code",
   "execution_count": null,
   "metadata": {},
   "outputs": [],
   "source": [
    "pcca = sim.msm.pcca(6)"
   ]
  },
  {
   "cell_type": "code",
   "execution_count": null,
   "metadata": {},
   "outputs": [],
   "source": [
    "fig, axes = plt.subplots(2, 3, figsize=(15, 10), sharex=True, sharey=True)\n",
    "\n",
    "for i, ax in enumerate(axes.flatten()):\n",
    "\n",
    "    handles, labels = sim.plot_2d_map(ax, barrier_mode='hollow')\n",
    "\n",
    "    Q = pcca.memberships[:, i].reshape(sim.grid_size)\n",
    "    cb = ax.imshow(Q, interpolation='nearest', origin='lower');"
   ]
  },
  {
   "cell_type": "code",
   "execution_count": null,
   "metadata": {},
   "outputs": [],
   "source": []
  },
  {
   "cell_type": "code",
   "execution_count": null,
   "metadata": {},
   "outputs": [],
   "source": []
  },
  {
   "cell_type": "code",
   "execution_count": null,
   "metadata": {},
   "outputs": [],
   "source": []
  },
  {
   "cell_type": "code",
   "execution_count": null,
   "metadata": {},
   "outputs": [],
   "source": []
  },
  {
   "cell_type": "code",
   "execution_count": null,
   "metadata": {},
   "outputs": [],
   "source": [
    "from tqdm.notebook import tqdm\n",
    "trajs = []\n",
    "for _ in tqdm(range(1000)):\n",
    "    trajs.append(sim.walk(start=start, n_steps=2000, return_states=True, stop=False))"
   ]
  },
  {
   "cell_type": "code",
   "execution_count": null,
   "metadata": {},
   "outputs": [],
   "source": [
    "count_model = sktime.markov.TransitionCountEstimator(1, 'sliding', n_states=sim.n_states) \\\n",
    "    .fit(trajs).fetch_model()"
   ]
  },
  {
   "cell_type": "code",
   "execution_count": null,
   "metadata": {},
   "outputs": [],
   "source": [
    "count_model = count_model.submodel_largest()"
   ]
  },
  {
   "cell_type": "code",
   "execution_count": null,
   "metadata": {},
   "outputs": [],
   "source": [
    "mlmsm = sktime.markov.msm.MaximumLikelihoodMSM().fit(count_model).fetch_model()"
   ]
  },
  {
   "cell_type": "code",
   "execution_count": null,
   "metadata": {},
   "outputs": [],
   "source": [
    "flux = mlmsm.reactive_flux(\n",
    "     mlmsm.count_model.symbols_to_states(sim.coordinate_to_state(start)), \n",
    "     mlmsm.count_model.symbols_to_states(np.concatenate([sim.home_state, sim.bar_state])))\n",
    "flux = mlmsm.reactive_flux(\n",
    "     mlmsm.count_model.symbols_to_states(sim.home_state), \n",
    "     mlmsm.count_model.symbols_to_states(sim.bar_state))"
   ]
  },
  {
   "cell_type": "code",
   "execution_count": null,
   "metadata": {},
   "outputs": [],
   "source": [
    "print(\"Count fraction:\", mlmsm.count_fraction)\n",
    "print(\"State fraction:\", mlmsm.state_fraction)"
   ]
  },
  {
   "cell_type": "code",
   "execution_count": null,
   "metadata": {},
   "outputs": [],
   "source": [
    "paths, capacities = flux.pathways()"
   ]
  },
  {
   "cell_type": "code",
   "execution_count": null,
   "metadata": {},
   "outputs": [],
   "source": [
    "fig, ax = plt.subplots(figsize=(10, 10))\n",
    "\n",
    "ax.scatter(*start, marker='*', label='Start', c='cyan', s=150, zorder=5)\n",
    "handles, labels = sim.plot_2d_map(ax, barriers=False)\n",
    "\n",
    "for capacity, path in zip((capacities / np.array(capacities).sum())[:10], paths[:10]):\n",
    "    path = mlmsm.count_model.states_to_symbols(path)\n",
    "    path = np.array([sim.state_to_coordinate(state) for state in path])\n",
    "    sim.plot_path(ax, path, lw=1., intermediates=False, color_lerp=False)\n",
    "    ax.scatter(*path.T, marker='x')\n",
    "\n",
    "Q = np.ones((sim.n_states))*np.nan\n",
    "Q[mlmsm.state_symbols()] = flux.forward_committor\n",
    "Q = Q.reshape(sim.grid_size)\n",
    "    \n",
    "cb = ax.imshow(Q, interpolation='nearest', origin='lower')\n",
    "fig.colorbar(cb, ax=ax)\n",
    "\n",
    "ax.legend(handles=handles, labels=labels);"
   ]
  },
  {
   "cell_type": "raw",
   "metadata": {
    "raw_mimetype": "text/restructuredtext"
   },
   "source": [
    ".. rubric:: References\n",
    "\n",
    ".. bibliography:: /references.bib\n",
    "    :style: unsrt\n",
    "    :filter: docname in docnames\n",
    "    :keyprefix: nbtpt-"
   ]
  }
 ],
 "metadata": {
  "celltoolbar": "Raw Cell Format",
  "kernelspec": {
   "display_name": "Python 3",
   "language": "python",
   "name": "python3"
  },
  "language_info": {
   "codemirror_mode": {
    "name": "ipython",
    "version": 3
   },
   "file_extension": ".py",
   "mimetype": "text/x-python",
   "name": "python",
   "nbconvert_exporter": "python",
   "pygments_lexer": "ipython3",
   "version": "3.7.6"
  }
 },
 "nbformat": 4,
 "nbformat_minor": 4
}
