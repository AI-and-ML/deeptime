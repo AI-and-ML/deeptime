{
 "cells": [
  {
   "cell_type": "markdown",
   "metadata": {},
   "source": [
    "# Coarse-graining with PCCA+\n",
    "\n",
    "Robust Perron Cluster Analysis (PCCA+) <cite data-cite=\"nbpcca-roblitz2013fuzzy\">(Röblitz, 2013)</cite> is a successor the method PCCA in <cite data-cite=\"nbpcca-deuflhard2000identification\">(Deuflhard, 2000)</cite>, a spectral clustering algorithm which crisply assigns microstates to clusters. The assignments in PCCA are based on signs of components of eigenvectors, which behaves instably if they are close to zero. That behavior lead to the development of PCCA+, which uses fuzzy assignments rather than crisp ones. Given a [Markov state model](../index_msm.rst) with transition matrix $P\\in\\mathbb{R}^{n\\times n}$, PCCA+ can cluster together (sometimes also referred to as coarse-grain) the $n$ *micro*states into $m<n$ *metastable sets* of states between which also a transition matrix \n",
    "\n",
    "$$ P_\\mathrm{macro}\\in\\mathbb{R}^{m\\times m} $$\n",
    "\n",
    "is defined. The method works off of the assumption that the underlying Markov chain is reversible, i.e., given the stationary distribution $\\pi$ it obeys the detailed balance condition\n",
    "\n",
    "$$ \\pi_i P_{ij} = \\pi_j P_{ji}. $$ \n",
    "\n",
    "The result of the clustering is not only the coarse-grained transition matrix\n",
    "but one also obtains membership probabilities $M\\in\\mathbb{R}^{n\\times m}$ giving a probability distribution of membership for each macrostate to each microstate."
   ]
  },
  {
   "cell_type": "markdown",
   "metadata": {},
   "source": [
    "To illustrate the API (API docs [here](../api/generated/deeptime.markov.msm.MarkovStateModel.rst#deeptime.markov.msm.MarkovStateModel.pcca) to cluster an existing MSM and [here](../api/generated/deeptime.markov.pcca.rst) for a direct and functional interface), let us consider a jump process between two ellipsoids in a two-dimensional space:"
   ]
  },
  {
   "cell_type": "code",
   "execution_count": null,
   "metadata": {},
   "outputs": [],
   "source": [
    "import numpy as np\n",
    "import deeptime\n",
    "\n",
    "data = deeptime.data.ellipsoids(laziness=0.97, seed=32).observations(n_steps=5000)"
   ]
  },
  {
   "cell_type": "markdown",
   "metadata": {},
   "source": [
    "We can visualize the time series as follows. Note that the probability to jump from one ellipsoid to the other  is at $3\\%$ for each frame/data point."
   ]
  },
  {
   "cell_type": "code",
   "execution_count": null,
   "metadata": {},
   "outputs": [],
   "source": [
    "import matplotlib as mpl\n",
    "import matplotlib.pyplot as plt\n",
    "\n",
    "f, ax = plt.subplots(1, 1, figsize=(12, 5))\n",
    "ax.scatter(*data.T);"
   ]
  },
  {
   "cell_type": "markdown",
   "metadata": {},
   "source": [
    "To arrive at a [Markov state model](../api/generated/deeptime.markov.msm.MarkovStateModel.rst#deeptime.markov.msm.MarkovStateModel), let us [cluster](../notebooks/clustering.ipynb) the data and assign the frames to the cluster centers."
   ]
  },
  {
   "cell_type": "code",
   "execution_count": null,
   "metadata": {},
   "outputs": [],
   "source": [
    "clustering = deeptime.clustering.KmeansClustering(n_clusters=50, fixed_seed=13) \\\n",
    "    .fit(data).fetch_model()\n",
    "assignments = clustering.transform(data)"
   ]
  },
  {
   "cell_type": "code",
   "execution_count": null,
   "metadata": {},
   "outputs": [],
   "source": [
    "f, ax = plt.subplots(1, 1, figsize=(18, 5))\n",
    "ax.scatter(*data.T, c=assignments/np.max(assignments), cmap=plt.cm.rainbow)\n",
    "ax.scatter(*clustering.cluster_centers.T, marker=\"o\", c='black', label='Cluster centers')\n",
    "for i in range(clustering.n_clusters):\n",
    "    ax.annotate(f\"{i}\", clustering.cluster_centers[i], \n",
    "                xytext=clustering.cluster_centers[i]+.1)\n",
    "ax.set_title('cluster center assignments')"
   ]
  },
  {
   "cell_type": "markdown",
   "metadata": {},
   "source": [
    "A Markov state model can be estimated from the assignments which has as many states as there are cluster centers."
   ]
  },
  {
   "cell_type": "code",
   "execution_count": null,
   "metadata": {},
   "outputs": [],
   "source": [
    "msm = deeptime.markov.msm.MaximumLikelihoodMSM() \\\n",
    "    .fit(assignments, lagtime=1).fetch_model()\n",
    "\n",
    "print(f\"Number of states: {msm.n_states}\")"
   ]
  },
  {
   "cell_type": "markdown",
   "metadata": {},
   "source": [
    "Plotting the transition matrix with a connectivity threshold discarding weaker connections, one can guess that there are two metastable sets based on the degree of connectedness within one metastable being much higher than in between - but this is not always possible and also not very rigorous."
   ]
  },
  {
   "cell_type": "code",
   "execution_count": null,
   "metadata": {},
   "outputs": [],
   "source": [
    "import networkx as nx\n",
    "\n",
    "fig, ax = plt.subplots(1, 1, figsize=(10, 10))\n",
    "\n",
    "threshold = 1e-2\n",
    "title = f\"Transition matrix with connectivity threshold {threshold:.0e}\"\n",
    "G = nx.DiGraph()\n",
    "ax.set_title(title)    \n",
    "for i in range(msm.n_states):\n",
    "    G.add_node(i, title=f\"{i+1}\")\n",
    "for i in range(msm.n_states):\n",
    "    for j in range(msm.n_states):\n",
    "        if msm.transition_matrix[i, j] > threshold:\n",
    "            G.add_edge(i, j, title=f\"{msm.transition_matrix[i, j]:.3e}\")\n",
    "\n",
    "edge_labels = nx.get_edge_attributes(G, 'title')\n",
    "pos = nx.fruchterman_reingold_layout(G)\n",
    "nx.draw_networkx_nodes(G, pos, ax=ax)\n",
    "nx.draw_networkx_labels(G, pos, ax=ax, labels=nx.get_node_attributes(G, 'title'));\n",
    "nx.draw_networkx_edges(G, pos, ax=ax, arrowstyle='-|>',\n",
    "                       connectionstyle='arc3, rad=0.3');"
   ]
  },
  {
   "cell_type": "markdown",
   "metadata": {},
   "source": [
    "To make it rigorous, let us apply PCCA+ with two metastable sets (in general there might be more, this highly depends on the data):"
   ]
  },
  {
   "cell_type": "code",
   "execution_count": null,
   "metadata": {},
   "outputs": [],
   "source": [
    "pcca = msm.pcca(n_metastable_sets=2)"
   ]
  },
  {
   "cell_type": "markdown",
   "metadata": {},
   "source": [
    "We obtain a coarse transition matrix, where the jump probability between the two sets is roughly $3\\%$:"
   ]
  },
  {
   "cell_type": "code",
   "execution_count": null,
   "metadata": {},
   "outputs": [],
   "source": [
    "pcca.coarse_grained_transition_matrix"
   ]
  },
  {
   "cell_type": "markdown",
   "metadata": {},
   "source": [
    "The membership probabilities can be accessed via `pcca.memberships`, where each column corresponds to a metastable set defining a probability distribution over the microstates:"
   ]
  },
  {
   "cell_type": "code",
   "execution_count": null,
   "metadata": {},
   "outputs": [],
   "source": [
    "print(f\"Memberships: {pcca.memberships.shape}\")"
   ]
  },
  {
   "cell_type": "code",
   "execution_count": null,
   "metadata": {},
   "outputs": [],
   "source": [
    "fig, axes = plt.subplots(1, 2, figsize=(15, 10))\n",
    "\n",
    "for i in range(len(axes)):\n",
    "    ax = axes[i]\n",
    "    ax.set_title(f\"Metastable set {i+1} assignment probabilities\")\n",
    "    \n",
    "    ax.scatter(*data.T, c=pcca.memberships[assignments, i], cmap=plt.cm.Blues)\n",
    "norm = mpl.colors.Normalize(vmin=0, vmax=1)\n",
    "fig.colorbar(plt.cm.ScalarMappable(norm=norm, cmap=plt.cm.Blues), ax=axes, shrink=.8);"
   ]
  },
  {
   "cell_type": "markdown",
   "metadata": {},
   "source": [
    "As expected, the assignments nicely disentangle the two ellipsoids.\n",
    "\n",
    "One as also access to a coarse-grained stationary probability vector"
   ]
  },
  {
   "cell_type": "code",
   "execution_count": null,
   "metadata": {},
   "outputs": [],
   "source": [
    "pcca.coarse_grained_stationary_probability"
   ]
  },
  {
   "cell_type": "markdown",
   "metadata": {},
   "source": [
    "Another offered quantity are the metastable distributions, i.e., the probability of metastable states to visit a micro state by PCCA+ $\\mathbb{P}(\\text{state}_{\\text{micro}} | \\text{state}_\\text{pcca})$:"
   ]
  },
  {
   "cell_type": "code",
   "execution_count": null,
   "metadata": {},
   "outputs": [],
   "source": [
    "print(\"Metastable distributions shape:\", pcca.metastable_distributions.shape)"
   ]
  },
  {
   "cell_type": "code",
   "execution_count": null,
   "metadata": {},
   "outputs": [],
   "source": [
    "ix = np.argsort(pcca.assignments)\n",
    "plt.figure(figsize=(18, 5))\n",
    "plt.plot(np.arange(msm.n_states)+1, pcca.metastable_distributions[0][ix], 'o', label=\"Metastable set 1\")\n",
    "plt.plot(np.arange(msm.n_states)+1, pcca.metastable_distributions[1][ix], 'x', label=\"Metastable set 2\")\n",
    "plt.xticks(np.arange(msm.n_states)+1, [f\"{i}\" for i in ix])\n",
    "plt.title(\"Metastable distributions\")\n",
    "plt.legend()\n",
    "plt.xlabel('micro state')\n",
    "plt.ylabel('probability');"
   ]
  },
  {
   "cell_type": "markdown",
   "metadata": {},
   "source": [
    "For all micro states one of the distribution values is approximately zero whereas the other one is greater than zero. This is because micro states were separated well enough in the coarse-graining."
   ]
  },
  {
   "cell_type": "markdown",
   "metadata": {},
   "source": [
    "For visualization purposes - as in the plot above - one can obtain the crisp assignments of microstates to macrostates through:"
   ]
  },
  {
   "cell_type": "code",
   "execution_count": null,
   "metadata": {},
   "outputs": [],
   "source": [
    "pcca.assignments"
   ]
  },
  {
   "cell_type": "markdown",
   "metadata": {},
   "source": [
    "However caution is appropriate, one *cannot* compute any actual quantity of the coarse-grained kinetics without employing the fuzzy memberships."
   ]
  },
  {
   "cell_type": "raw",
   "metadata": {
    "raw_mimetype": "text/restructuredtext"
   },
   "source": [
    ".. rubric:: References\n",
    "\n",
    ".. bibliography:: /references.bib\n",
    "    :style: unsrt\n",
    "    :filter: docname in docnames\n",
    "    :keyprefix: nbpcca-"
   ]
  }
 ],
 "metadata": {
  "celltoolbar": "Raw Cell Format",
  "kernelspec": {
   "display_name": "Python 3",
   "language": "python",
   "name": "python3"
  },
  "language_info": {
   "codemirror_mode": {
    "name": "ipython",
    "version": 3
   },
   "file_extension": ".py",
   "mimetype": "text/x-python",
   "name": "python",
   "nbconvert_exporter": "python",
   "pygments_lexer": "ipython3",
   "version": "3.8.5"
  }
 },
 "nbformat": 4,
 "nbformat_minor": 4
}