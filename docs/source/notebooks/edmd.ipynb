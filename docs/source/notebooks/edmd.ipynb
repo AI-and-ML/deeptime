{
 "cells": [
  {
   "cell_type": "markdown",
   "metadata": {},
   "source": [
    "## EDMD\n",
    "\n",
    "For people already familiar with the method and interface, the [API docs](../api/generated/deeptime.decomposition.EDMD.rst).\n",
    "\n",
    "Similarly to DMD, extended DMD (EDMD) <cite data-cite=\"nbedmd-williams2015data\">(Williams, 2015)</cite> is a data-driven method to approximate the Koopman operator. The Koopman operator $\\mathcal{K}$ describes how an observable of an (potentially stochastic) dynamical system evolves in time. In a discrete-time setting with $x_{t+1} = T(x_t)$ and an observable $g$, the Koopman operator is defined as\n",
    "\n",
    "$$\n",
    "(\\mathcal{K} g)(x) = g(T(x)).\n",
    "$$\n",
    "\n",
    "Given observation data $X$ and $Y$, where $y_i = T(x_i)$ and a basis set of functions or observables\n",
    "\n",
    "$$\n",
    "B = \\{ \\psi_1,\\psi_2,\\ldots,\\psi_k \\},\n",
    "$$\n",
    "\n",
    "one can define the transformed data $\\Psi_X$ and $\\Psi_Y$ with \n",
    "\n",
    "$$(\\Psi_*)_i = (\\psi_1(*_i),\\ldots, \\psi_k(*_i))^\\top, $$\n",
    "\n",
    "yielding\n",
    "\n",
    "$$\n",
    "\\Psi_Y^\\top = \\Psi_X^\\top K.\n",
    "$$\n",
    "\n",
    "Here, $K^\\top\\in\\mathbb{R}^{k\\times k}$ acting from the left is the projection of the true Koopman operator $\\mathcal{K}$ into the basis $B$.\n",
    "\n",
    "Usually one performs rank-truncation or has over-/underdetermined systems. In such cases, $K$ is determined via the pseudo-inverse $K=\\Psi_Y\\Psi_X^\\dagger$.\n",
    "\n",
    "In case of a basis $B$ which just contains the identity, EDMD reduces back to DMD."
   ]
  },
  {
   "cell_type": "markdown",
   "metadata": {},
   "source": [
    "To demonstrate EDMD and deeptime's API, we consider a [two-dimensional triple-well potential](../api/generated/deeptime.data.triple_well_2d.rst#deeptime.data.triple_well_2d) <cite data-cite=\"nbedmd-schutte2013metastability\">(Schütte, 2013)</cite>. It is defined on $[-2,2]\\times [-1, 2]$ and looks like the following:"
   ]
  },
  {
   "cell_type": "code",
   "execution_count": null,
   "metadata": {},
   "outputs": [],
   "source": [
    "import deeptime as dt\n",
    "import numpy as np\n",
    "import matplotlib.pyplot as plt\n",
    "\n",
    "system = dt.data.triple_well_2d()\n",
    "\n",
    "x = np.linspace(-2, 2, num=100)\n",
    "y = np.linspace(-1, 2, num=100)\n",
    "XX, YY = np.meshgrid(x, y)\n",
    "coords = np.dstack((XX, YY)).reshape(-1, 2)\n",
    "V = system.potential(coords).reshape(XX.shape)\n",
    "\n",
    "plt.contourf(x, y, V, levels=np.linspace(-4.5, 4.5, 20), cmap='coolwarm');"
   ]
  },
  {
   "cell_type": "markdown",
   "metadata": {},
   "source": [
    "Inside this potential landscape we integrate particles subject to the stochastic differential equation\n",
    "\n",
    "$$ \\mathrm{d}X_t = \\nabla V(X_t) \\mathrm{d}t + \\sigma(t, X_t)\\mathrm{d}W_t $$\n",
    "\n",
    "with $\\sigma=1.09$, using an Euler-Maruyama integrator."
   ]
  },
  {
   "cell_type": "code",
   "execution_count": null,
   "metadata": {},
   "outputs": [],
   "source": [
    "traj = system.trajectory(x0=[[-1, 0]], n_evaluations=200, seed=66)\n",
    "\n",
    "plt.contourf(x, y, V, levels=np.linspace(-4.5, 4.5, 20), cmap='coolwarm')\n",
    "plt.plot(*traj.T, c='black', lw=.5);"
   ]
  },
  {
   "cell_type": "markdown",
   "metadata": {},
   "source": [
    "To approximate the Koopman operator, we first select 25000 random points inside the domain and integrate them for 10000 steps under an integration step of $h=10^{-5}$:"
   ]
  },
  {
   "cell_type": "code",
   "execution_count": null,
   "metadata": {},
   "outputs": [],
   "source": [
    "N = 25000\n",
    "state = np.random.RandomState(seed=42)\n",
    "X = np.stack([state.uniform(-2, 2, size=(N,)), state.uniform(-1, 2, size=(N,))]).T\n",
    "Y = system(X, n_jobs=8)"
   ]
  },
  {
   "cell_type": "markdown",
   "metadata": {},
   "source": [
    "Now we pick a basis $B$ to be all monomials up to and including degree $\\mathrm{deg}=10$."
   ]
  },
  {
   "cell_type": "code",
   "execution_count": null,
   "metadata": {},
   "outputs": [],
   "source": [
    "basis = dt.basis.Monomials(10)"
   ]
  },
  {
   "cell_type": "markdown",
   "metadata": {},
   "source": [
    "Using this basis, we can fit an EDMD estimator and obtain the corresponding model."
   ]
  },
  {
   "cell_type": "code",
   "execution_count": null,
   "metadata": {},
   "outputs": [],
   "source": [
    "edmd_estimator = dt.decomposition.EDMD(basis, n_eigs=8)\n",
    "edmd_model = edmd_estimator.fit((X, Y)).fetch_model()"
   ]
  },
  {
   "cell_type": "markdown",
   "metadata": {},
   "source": [
    "We can obtain the dominant eigenvalues associated to processes in the system."
   ]
  },
  {
   "cell_type": "code",
   "execution_count": null,
   "metadata": {},
   "outputs": [],
   "source": [
    "plt.plot(np.real(edmd_model.eigenvalues), 'x')\n",
    "plt.title('Dominant eigenvalues');"
   ]
  },
  {
   "cell_type": "markdown",
   "metadata": {},
   "source": [
    "We project our input data $X$ using the eigenfunctions:"
   ]
  },
  {
   "cell_type": "code",
   "execution_count": null,
   "metadata": {},
   "outputs": [],
   "source": [
    "phi = np.real(edmd_model.transform(X))\n",
    "\n",
    "# normalize\n",
    "for i in range(len(edmd_model.eigenvalues)):\n",
    "    phi[:, i] = phi[:, i] / np.max(np.abs(phi[:, i]))"
   ]
  },
  {
   "cell_type": "markdown",
   "metadata": {},
   "source": [
    "And visualize the first four eigenfunctions. They contain information about metastable regions and slow transitions."
   ]
  },
  {
   "cell_type": "code",
   "execution_count": null,
   "metadata": {},
   "outputs": [],
   "source": [
    "fig = plt.figure(figsize=(8, 8))\n",
    "gs = fig.add_gridspec(ncols=2, nrows=2)\n",
    "\n",
    "ax = fig.add_subplot(gs[0, 0])\n",
    "ax.scatter(*X.T, c=phi[:, 0], cmap='coolwarm')\n",
    "ax.set_title('1st eigenfunction')\n",
    "\n",
    "ax = fig.add_subplot(gs[0, 1])\n",
    "ax.scatter(*X.T, c=phi[:, 1], cmap='coolwarm')\n",
    "ax.set_title('2nd eigenfunction')\n",
    "\n",
    "ax = fig.add_subplot(gs[1, 0])\n",
    "ax.scatter(*X.T, c=phi[:, 2], cmap='coolwarm')\n",
    "ax.set_title('3rd eigenfunction')\n",
    "\n",
    "ax = fig.add_subplot(gs[1, 1])\n",
    "ax.scatter(*X.T, c=phi[:, 3], cmap='coolwarm')\n",
    "ax.set_title('4th eigenfunction');"
   ]
  },
  {
   "cell_type": "markdown",
   "metadata": {},
   "source": [
    "Using a clustering can reveal temporally coherent structures."
   ]
  },
  {
   "cell_type": "code",
   "execution_count": null,
   "metadata": {},
   "outputs": [],
   "source": [
    "kmeans = dt.clustering.Kmeans(n_clusters=6, n_jobs=4).fit(np.real(phi)).fetch_model()\n",
    "c = kmeans.transform(np.real(phi))\n",
    "\n",
    "f, (ax1, ax2) = plt.subplots(1, 2, figsize=(12, 6))\n",
    "ax1.scatter(*X.T, c=c)\n",
    "ax1.set_title(r\"$t = 0$\")\n",
    "ax1.set_aspect('equal')\n",
    "ax1.set_xlim([-2.5, 2.5])\n",
    "ax1.set_ylim([-1.5, 2.5])\n",
    "ax1.contour(x, y, V, levels=np.linspace(-4.5, 4.5, 20), colors='black')\n",
    "\n",
    "ax2.scatter(*Y.T, c=c)\n",
    "ax2.set_title(r\"$t = 0.1$\")\n",
    "ax2.set_aspect('equal')\n",
    "ax2.set_xlim([-2.5, 2.5])\n",
    "ax2.set_ylim([-1.5, 2.5])\n",
    "ax2.contour(x, y, V, levels=np.linspace(-4.5, 4.5, 20), colors='black');"
   ]
  },
  {
   "cell_type": "raw",
   "metadata": {
    "raw_mimetype": "text/restructuredtext"
   },
   "source": [
    ".. rubric:: References\n",
    "\n",
    ".. bibliography:: /references.bib\n",
    "    :style: unsrt\n",
    "    :filter: docname in docnames\n",
    "    :keyprefix: nbedmd-"
   ]
  }
 ],
 "metadata": {
  "celltoolbar": "Raw Cell Format",
  "kernelspec": {
   "display_name": "Python 3",
   "language": "python",
   "name": "python3"
  },
  "language_info": {
   "codemirror_mode": {
    "name": "ipython",
    "version": 3
   },
   "file_extension": ".py",
   "mimetype": "text/x-python",
   "name": "python",
   "nbconvert_exporter": "python",
   "pygments_lexer": "ipython3",
   "version": "3.8.6"
  }
 },
 "nbformat": 4,
 "nbformat_minor": 4
}
