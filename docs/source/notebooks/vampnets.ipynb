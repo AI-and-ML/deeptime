{
 "cells": [
  {
   "cell_type": "markdown",
   "metadata": {},
   "source": [
    "# VAMPNets"
   ]
  },
  {
   "cell_type": "code",
   "execution_count": null,
   "metadata": {},
   "outputs": [],
   "source": [
    "import numpy as np\n",
    "from tqdm.notebook import tqdm\n",
    "\n",
    "import sktime\n",
    "import sktime.decomposition.vampnet as vnet\n",
    "\n",
    "import torch\n",
    "import torch.nn as nn\n",
    "\n",
    "from sklearn.model_selection import train_test_split"
   ]
  },
  {
   "cell_type": "code",
   "execution_count": null,
   "metadata": {},
   "outputs": [],
   "source": [
    "assert torch.cuda.is_available()\n",
    "device = torch.device(\"cuda:0\")\n",
    "torch.backends.cudnn.benchmark = True\n",
    "torch.set_num_threads(12)"
   ]
  },
  {
   "cell_type": "markdown",
   "metadata": {},
   "source": [
    "## Ellipsoids dataset"
   ]
  },
  {
   "cell_type": "code",
   "execution_count": null,
   "metadata": {},
   "outputs": [],
   "source": [
    "data_source = sktime.data.ellipsoids()\n",
    "data_source.msm.update_transition_matrix([[.95, .05], [.09, .91]])\n",
    "data = data_source.observations(50000, n_dim=2).astype(np.float32)\n",
    "\n",
    "dataset = sktime.data.TimeLaggedDataset.from_trajectory(lagtime=1, data=data)"
   ]
  },
  {
   "cell_type": "markdown",
   "metadata": {},
   "source": [
    "The dataset in two dimensions: Jump process between two metastable states where each of the states is observed in form of an ellipsoid."
   ]
  },
  {
   "cell_type": "code",
   "execution_count": null,
   "metadata": {
    "scrolled": false
   },
   "outputs": [],
   "source": [
    "import matplotlib.pyplot as plt\n",
    "import matplotlib as mpl\n",
    "from scipy.stats import multivariate_normal\n",
    "\n",
    "x = np.linspace(-8,8,500)\n",
    "y = np.linspace(-6,10,500)\n",
    "X, Y = np.meshgrid(x,y)\n",
    "pos = np.empty(X.shape + (2,))\n",
    "pos[:, :, 0] = X\n",
    "pos[:, :, 1] = Y\n",
    "rv1 = multivariate_normal(data_source.state_0_mean, data_source.covariance_matrix)\n",
    "rv2 = multivariate_normal(data_source.state_1_mean, data_source.covariance_matrix)\n",
    "\n",
    "fig = plt.figure()\n",
    "ax = fig.gca()\n",
    "\n",
    "ax.contourf(X, Y, (rv1.pdf(pos) + rv2.pdf(pos)).reshape(len(x), len(y)))\n",
    "ax.autoscale(False)\n",
    "ax.scatter(*(data_source.observations(100).T), color='cyan', marker='x',label='samples')\n",
    "plt.legend()\n",
    "plt.show()"
   ]
  },
  {
   "cell_type": "markdown",
   "metadata": {},
   "source": [
    "Split data into train and validation set, move the validation set into a torch tensor and onto the appropriate device."
   ]
  },
  {
   "cell_type": "code",
   "execution_count": null,
   "metadata": {},
   "outputs": [],
   "source": [
    "n_val = int(len(dataset)*.3)\n",
    "train_data, val_data = torch.utils.data.random_split(dataset, [len(dataset) - n_val, n_val])"
   ]
  },
  {
   "cell_type": "markdown",
   "metadata": {},
   "source": [
    "The network lobe. Optionally one can use two lobes, one for the instantaneous and one for the time-shifted data."
   ]
  },
  {
   "cell_type": "code",
   "execution_count": null,
   "metadata": {},
   "outputs": [],
   "source": [
    "lobe = vnet.MLPLobe(units=[data.shape[1], 20, 15, 10, 6, 1], nonlinearity=lambda: nn.PReLU(),\n",
    "                    output_nonlinearity=nn.Sigmoid)"
   ]
  },
  {
   "cell_type": "markdown",
   "metadata": {},
   "source": [
    "The optimizer to train the brain as well as some hyperparameters."
   ]
  },
  {
   "cell_type": "code",
   "execution_count": null,
   "metadata": {},
   "outputs": [],
   "source": [
    "vampnet = vnet.VAMPNet(lagtime=1, lobe=lobe, device=device, learning_rate=1e-3, score_mode='clamp',\n",
    "                      score_method='VAMPE')"
   ]
  },
  {
   "cell_type": "code",
   "execution_count": null,
   "metadata": {},
   "outputs": [],
   "source": [
    "train_scores = []\n",
    "val_scores = []\n",
    "\n",
    "def train_callback(step, score):\n",
    "    train_scores.append((step, score.cpu().numpy()))\n",
    "def val_callback(step, score):\n",
    "    np_score = score.cpu().numpy()\n",
    "    print(f\"Validation step {step}: {np_score:.5f}\")\n",
    "    val_scores.append((step, np_score))"
   ]
  },
  {
   "cell_type": "code",
   "execution_count": null,
   "metadata": {},
   "outputs": [],
   "source": [
    "vampnet_model = vampnet.fit(train_data, batch_size=32, n_epochs=20, \n",
    "                            validation_data=val_data, \n",
    "                            train_score_callback=train_callback,\n",
    "                            validation_score_callback=val_callback\n",
    "                           ).fetch_model()"
   ]
  },
  {
   "cell_type": "code",
   "execution_count": null,
   "metadata": {},
   "outputs": [],
   "source": [
    "vampnet_model = vampnet.fetch_model()\n",
    "featurization = vampnet_model.transform(data)"
   ]
  },
  {
   "cell_type": "code",
   "execution_count": null,
   "metadata": {},
   "outputs": [],
   "source": [
    "featurization.shape"
   ]
  },
  {
   "cell_type": "code",
   "execution_count": null,
   "metadata": {},
   "outputs": [],
   "source": [
    "plt.plot(featurization[:1000]);"
   ]
  },
  {
   "cell_type": "code",
   "execution_count": null,
   "metadata": {},
   "outputs": [],
   "source": [
    "f, ax = plt.subplots(1, 1)\n",
    "cm = ax.scatter(*data.T, c=featurization, cmap='coolwarm')\n",
    "f.colorbar(cm, ax=ax);"
   ]
  },
  {
   "cell_type": "code",
   "execution_count": null,
   "metadata": {},
   "outputs": [],
   "source": [
    "koopman_model = sktime.decomposition.VAMP(lagtime=1).fit(featurization).fetch_model()"
   ]
  },
  {
   "cell_type": "code",
   "execution_count": null,
   "metadata": {},
   "outputs": [],
   "source": [
    "plt.plot(koopman_model.transform(featurization)[:1000, 0])"
   ]
  },
  {
   "cell_type": "code",
   "execution_count": null,
   "metadata": {},
   "outputs": [],
   "source": [
    "koopman_model_direct = sktime.decomposition.VAMP(lagtime=1).fit(data).fetch_model()\n",
    "\n",
    "print(koopman_model.score())\n",
    "print(koopman_model_direct.score())"
   ]
  },
  {
   "cell_type": "code",
   "execution_count": null,
   "metadata": {},
   "outputs": [],
   "source": [
    "plt.semilogy(*np.array(train_scores).T)\n",
    "plt.semilogy(*np.array(val_scores).T)"
   ]
  },
  {
   "cell_type": "code",
   "execution_count": null,
   "metadata": {},
   "outputs": [],
   "source": [
    "projection = koopman_model.transform(featurization)\n",
    "dtraj = sktime.clustering.KmeansClustering(2).fit(projection).transform(projection)\n",
    "msm = sktime.markov.msm.MaximumLikelihoodMSM().fit(dtraj, lagtime=1).fetch_model()"
   ]
  },
  {
   "cell_type": "code",
   "execution_count": null,
   "metadata": {},
   "outputs": [],
   "source": [
    "print(\"estimated transition matrix\", msm.transition_matrix)\n",
    "print(\"reference transition matrix\", data_source.msm.transition_matrix)"
   ]
  },
  {
   "cell_type": "code",
   "execution_count": null,
   "metadata": {},
   "outputs": [],
   "source": [
    "def print_states_pie_chart():\n",
    "    coors = []\n",
    "    n_states = np.max(dtraj)+1\n",
    "\n",
    "    for i in range(n_states):\n",
    "        coors.append(np.sum(dtraj==i))\n",
    "    total = len(dtraj)\n",
    "    \n",
    "    fig1, ax1 = plt.subplots()\n",
    "    ax1.pie(np.array(coors), autopct='%1.2f%%', startangle=90)\n",
    "    ax1.axis('equal')\n",
    "    print('States population: '+str(np.array(coors)/total*100)+'%')\n",
    "    plt.show()\n",
    "\n",
    "print_states_pie_chart()"
   ]
  },
  {
   "cell_type": "code",
   "execution_count": null,
   "metadata": {},
   "outputs": [],
   "source": [
    "linear_model = sktime.decomposition.VAMP(lagtime=1, dim=1).fit(data).fetch_model()"
   ]
  },
  {
   "cell_type": "code",
   "execution_count": null,
   "metadata": {},
   "outputs": [],
   "source": [
    "plt.plot(projection[:200][:, 0], label='VAMPNet estimator');\n",
    "plt.plot(linear_model.transform(data)[:200][:, 0], label='VAMP estimator', linestyle='dotted')\n",
    "plt.legend();"
   ]
  },
  {
   "cell_type": "code",
   "execution_count": null,
   "metadata": {},
   "outputs": [],
   "source": [
    "print('Ground truth timescale:', data_source.msm.timescales()[0])\n",
    "print('VAMPNet timescale:', koopman_model.timescales()[0])\n",
    "print('VAMP timescale:', koopman_model_direct.timescales()[0])"
   ]
  },
  {
   "cell_type": "code",
   "execution_count": null,
   "metadata": {},
   "outputs": [],
   "source": [
    "print('VAMPNet score:', koopman_model.score())\n",
    "print('VAMP score:', koopman_model_direct.score())"
   ]
  },
  {
   "cell_type": "markdown",
   "metadata": {},
   "source": [
    "## Alanine dipeptide"
   ]
  },
  {
   "cell_type": "code",
   "execution_count": null,
   "metadata": {},
   "outputs": [],
   "source": [
    "import mdshare"
   ]
  },
  {
   "cell_type": "code",
   "execution_count": null,
   "metadata": {},
   "outputs": [],
   "source": [
    "dihedrals = np.load(mdshare.fetch('alanine-dipeptide-3x250ns-backbone-dihedrals.npz'))['arr_0']\n",
    "coordinates = np.load(mdshare.fetch('alanine-dipeptide-3x250ns-heavy-atom-positions.npz'))['arr_0']"
   ]
  },
  {
   "cell_type": "code",
   "execution_count": null,
   "metadata": {},
   "outputs": [],
   "source": [
    "# Tau, how much is the timeshift of the two datasets\n",
    "tau = 1\n",
    "\n",
    "# Batch size for Stochastic Gradient descent\n",
    "batch_size = 768\n",
    "\n",
    "# Which trajectory points percentage is used as training\n",
    "train_ratio = 0.9\n",
    "\n",
    "# How many output states the network has\n",
    "output_size = 6\n",
    "\n",
    "# Iteration over the training set in the fitting process\n",
    "nb_epoch = 60"
   ]
  },
  {
   "cell_type": "code",
   "execution_count": null,
   "metadata": {},
   "outputs": [],
   "source": [
    "n_train = int(np.floor(len(coordinates) * train_ratio))\n",
    "n_validation = len(coordinates) - tau - n_train"
   ]
  },
  {
   "cell_type": "code",
   "execution_count": null,
   "metadata": {},
   "outputs": [],
   "source": [
    "dataset = sktime.data.TimeLaggedDataset.from_trajectory(1, coordinates.astype(np.float32))\n",
    "traj_data_train, traj_data_validation = torch.utils.data.random_split(dataset, [n_train, n_validation])"
   ]
  },
  {
   "cell_type": "code",
   "execution_count": null,
   "metadata": {},
   "outputs": [],
   "source": [
    "lobe = nn.Sequential(\n",
    "    nn.Linear(coordinates.shape[1], 128), nn.ELU(),\n",
    "    nn.Linear(128, 128), nn.ELU(),\n",
    "    nn.Linear(128, 128), nn.ELU(),\n",
    "    nn.Linear(128, 128), nn.ELU(),\n",
    "    nn.Linear(128, 6), nn.Softmax(dim=1)  # output a probability distribution over 6 states\n",
    ")"
   ]
  },
  {
   "cell_type": "code",
   "execution_count": null,
   "metadata": {},
   "outputs": [],
   "source": [
    "vampnet = vnet.VAMPNet(lagtime=tau, lobe=lobe, device=device, learning_rate=5e-4, score_method='VAMPE', \n",
    "                       score_mode='clamp', dtype=np.float32, epsilon=1e-6)"
   ]
  },
  {
   "cell_type": "code",
   "execution_count": null,
   "metadata": {},
   "outputs": [],
   "source": [
    "train_scores = []\n",
    "val_scores = []\n",
    "\n",
    "def train_callback(step, score):\n",
    "    train_scores.append((step, score.cpu().numpy()))\n",
    "def val_callback(step, score):\n",
    "    np_score = score.cpu().numpy()\n",
    "    val_scores.append((step, np_score))"
   ]
  },
  {
   "cell_type": "code",
   "execution_count": null,
   "metadata": {},
   "outputs": [],
   "source": [
    "vampnet.fit(traj_data_train, batch_size=batch_size, n_epochs=60, \n",
    "            validation_data=traj_data_validation,\n",
    "            train_score_callback=train_callback, validation_score_callback=val_callback);"
   ]
  },
  {
   "cell_type": "code",
   "execution_count": null,
   "metadata": {},
   "outputs": [],
   "source": [
    "plt.loglog(*np.array(train_scores).T, label='train')\n",
    "plt.loglog(*np.array(val_scores).T, label='val')\n",
    "plt.xlabel('training step')\n",
    "plt.ylabel('score [a.u.]')\n",
    "plt.legend();"
   ]
  },
  {
   "cell_type": "code",
   "execution_count": null,
   "metadata": {},
   "outputs": [],
   "source": [
    "vampnet_model = vampnet.fetch_model()"
   ]
  },
  {
   "cell_type": "code",
   "execution_count": null,
   "metadata": {},
   "outputs": [],
   "source": [
    "# Transform the input trajectory using the network\n",
    "states_prob = vampnet_model.transform(coordinates)\n",
    "# and transform into discrete states\n",
    "dtraj = states_prob.argmax(axis=-1)"
   ]
  },
  {
   "cell_type": "code",
   "execution_count": null,
   "metadata": {},
   "outputs": [],
   "source": [
    "cb = plt.scatter(*dihedrals.T, c=dtraj, cmap=plt.cm.get_cmap('plasma', output_size), \n",
    "                 alpha=.5, s=5, vmin=-.5, vmax=output_size-.5)\n",
    "cbar = plt.colorbar(cb, ticks=np.arange(output_size))\n",
    "cbar.ax.set_yticklabels([f\"State {i+1}\" for i in range(output_size)]);\n",
    "plt.axes = [[-np.pi, np.pi],[-np.pi, np.pi]]\n",
    "plt.xlabel(r'$\\varphi$ [rad]')\n",
    "plt.ylabel(r'$\\psi$ [rad]')\n",
    "plt.title('State assignments on Ramachandran plot');"
   ]
  },
  {
   "cell_type": "code",
   "execution_count": null,
   "metadata": {},
   "outputs": [],
   "source": [
    "plt.pie([np.sum(dtraj==i) for i in range(output_size)], autopct='%1.2f%%', \n",
    "        labels=[f\"State {i+1}\" for i in range(output_size)])\n",
    "plt.title('State populations');"
   ]
  },
  {
   "cell_type": "code",
   "execution_count": null,
   "metadata": {
    "scrolled": false
   },
   "outputs": [],
   "source": [
    "fig, axes = plt.subplots(2, 3, figsize=(15, 10), sharex=True, sharey=True)\n",
    "fig.suptitle('State probabilities for each of the output states')\n",
    "\n",
    "for i, ax in enumerate(axes.flatten()):\n",
    "    im = ax.hexbin(*dihedrals.T, C=states_prob[:,i], vmin=0, vmax=1, cmap=plt.cm.coolwarm)\n",
    "    ax.set_title(f\"State {i+1}\")\n",
    "\n",
    "    ax.set_xlim([-np.pi, np.pi]);\n",
    "    ax.set_ylim([-np.pi, np.pi]);\n",
    "    \n",
    "    ax.set_xlabel(r'$\\varphi$ [rad]')\n",
    "    ax.set_ylabel(r'$\\psi$ [rad]')\n",
    "\n",
    "norm = mpl.colors.Normalize(vmin=0, vmax=1)\n",
    "fig.colorbar(plt.cm.ScalarMappable(norm=norm, cmap=plt.cm.coolwarm), ax=axes, shrink=.8);"
   ]
  }
 ],
 "metadata": {
  "kernelspec": {
   "display_name": "Python 3",
   "language": "python",
   "name": "python3"
  },
  "language_info": {
   "codemirror_mode": {
    "name": "ipython",
    "version": 3
   },
   "file_extension": ".py",
   "mimetype": "text/x-python",
   "name": "python",
   "nbconvert_exporter": "python",
   "pygments_lexer": "ipython3",
   "version": "3.8.5"
  },
  "widgets": {
   "application/vnd.jupyter.widget-state+json": {
    "state": {
     "3d47a89e44fa4e1cb0cdf57eb4fcc7a8": {
      "model_module": "@jupyter-widgets/controls",
      "model_module_version": "1.5.0",
      "model_name": "FloatProgressModel",
      "state": {
       "_dom_classes": [],
       "_model_module": "@jupyter-widgets/controls",
       "_model_module_version": "1.5.0",
       "_model_name": "FloatProgressModel",
       "_view_count": null,
       "_view_module": "@jupyter-widgets/controls",
       "_view_module_version": "1.5.0",
       "_view_name": "ProgressView",
       "bar_style": "success",
       "description": "100%",
       "description_tooltip": null,
       "layout": "IPY_MODEL_e8d59b64e45e46e586551704bd8c5df0",
       "max": 50,
       "min": 0,
       "orientation": "horizontal",
       "style": "IPY_MODEL_475e23a726c04861bfd9c05da51ae8d9",
       "value": 50
      }
     },
     "475e23a726c04861bfd9c05da51ae8d9": {
      "model_module": "@jupyter-widgets/controls",
      "model_module_version": "1.5.0",
      "model_name": "ProgressStyleModel",
      "state": {
       "_model_module": "@jupyter-widgets/controls",
       "_model_module_version": "1.5.0",
       "_model_name": "ProgressStyleModel",
       "_view_count": null,
       "_view_module": "@jupyter-widgets/base",
       "_view_module_version": "1.2.0",
       "_view_name": "StyleView",
       "bar_color": null,
       "description_width": "initial"
      }
     },
     "a9cd6a6d14784508978bbd6f802473c2": {
      "model_module": "@jupyter-widgets/base",
      "model_module_version": "1.2.0",
      "model_name": "LayoutModel",
      "state": {
       "_model_module": "@jupyter-widgets/base",
       "_model_module_version": "1.2.0",
       "_model_name": "LayoutModel",
       "_view_count": null,
       "_view_module": "@jupyter-widgets/base",
       "_view_module_version": "1.2.0",
       "_view_name": "LayoutView",
       "align_content": null,
       "align_items": null,
       "align_self": null,
       "border": null,
       "bottom": null,
       "display": null,
       "flex": null,
       "flex_flow": null,
       "grid_area": null,
       "grid_auto_columns": null,
       "grid_auto_flow": null,
       "grid_auto_rows": null,
       "grid_column": null,
       "grid_gap": null,
       "grid_row": null,
       "grid_template_areas": null,
       "grid_template_columns": null,
       "grid_template_rows": null,
       "height": null,
       "justify_content": null,
       "justify_items": null,
       "left": null,
       "margin": null,
       "max_height": null,
       "max_width": null,
       "min_height": null,
       "min_width": null,
       "object_fit": null,
       "object_position": null,
       "order": null,
       "overflow": null,
       "overflow_x": null,
       "overflow_y": null,
       "padding": null,
       "right": null,
       "top": null,
       "visibility": null,
       "width": null
      }
     },
     "ce10968ffb1842fe8ad5a23f91c4672e": {
      "model_module": "@jupyter-widgets/base",
      "model_module_version": "1.2.0",
      "model_name": "LayoutModel",
      "state": {
       "_model_module": "@jupyter-widgets/base",
       "_model_module_version": "1.2.0",
       "_model_name": "LayoutModel",
       "_view_count": null,
       "_view_module": "@jupyter-widgets/base",
       "_view_module_version": "1.2.0",
       "_view_name": "LayoutView",
       "align_content": null,
       "align_items": null,
       "align_self": null,
       "border": null,
       "bottom": null,
       "display": null,
       "flex": null,
       "flex_flow": null,
       "grid_area": null,
       "grid_auto_columns": null,
       "grid_auto_flow": null,
       "grid_auto_rows": null,
       "grid_column": null,
       "grid_gap": null,
       "grid_row": null,
       "grid_template_areas": null,
       "grid_template_columns": null,
       "grid_template_rows": null,
       "height": null,
       "justify_content": null,
       "justify_items": null,
       "left": null,
       "margin": null,
       "max_height": null,
       "max_width": null,
       "min_height": null,
       "min_width": null,
       "object_fit": null,
       "object_position": null,
       "order": null,
       "overflow": null,
       "overflow_x": null,
       "overflow_y": null,
       "padding": null,
       "right": null,
       "top": null,
       "visibility": null,
       "width": null
      }
     },
     "d429d0391d8c4f9fa1cd9efd420adc04": {
      "model_module": "@jupyter-widgets/controls",
      "model_module_version": "1.5.0",
      "model_name": "DescriptionStyleModel",
      "state": {
       "_model_module": "@jupyter-widgets/controls",
       "_model_module_version": "1.5.0",
       "_model_name": "DescriptionStyleModel",
       "_view_count": null,
       "_view_module": "@jupyter-widgets/base",
       "_view_module_version": "1.2.0",
       "_view_name": "StyleView",
       "description_width": ""
      }
     },
     "e3abadc31f6343c286d61e9443186073": {
      "model_module": "@jupyter-widgets/controls",
      "model_module_version": "1.5.0",
      "model_name": "HTMLModel",
      "state": {
       "_dom_classes": [],
       "_model_module": "@jupyter-widgets/controls",
       "_model_module_version": "1.5.0",
       "_model_name": "HTMLModel",
       "_view_count": null,
       "_view_module": "@jupyter-widgets/controls",
       "_view_module_version": "1.5.0",
       "_view_name": "HTMLView",
       "description": "",
       "description_tooltip": null,
       "layout": "IPY_MODEL_ce10968ffb1842fe8ad5a23f91c4672e",
       "placeholder": "​",
       "style": "IPY_MODEL_d429d0391d8c4f9fa1cd9efd420adc04",
       "value": " 50/50 [00:28&lt;00:00,  1.78it/s]"
      }
     },
     "e8d59b64e45e46e586551704bd8c5df0": {
      "model_module": "@jupyter-widgets/base",
      "model_module_version": "1.2.0",
      "model_name": "LayoutModel",
      "state": {
       "_model_module": "@jupyter-widgets/base",
       "_model_module_version": "1.2.0",
       "_model_name": "LayoutModel",
       "_view_count": null,
       "_view_module": "@jupyter-widgets/base",
       "_view_module_version": "1.2.0",
       "_view_name": "LayoutView",
       "align_content": null,
       "align_items": null,
       "align_self": null,
       "border": null,
       "bottom": null,
       "display": null,
       "flex": null,
       "flex_flow": null,
       "grid_area": null,
       "grid_auto_columns": null,
       "grid_auto_flow": null,
       "grid_auto_rows": null,
       "grid_column": null,
       "grid_gap": null,
       "grid_row": null,
       "grid_template_areas": null,
       "grid_template_columns": null,
       "grid_template_rows": null,
       "height": null,
       "justify_content": null,
       "justify_items": null,
       "left": null,
       "margin": null,
       "max_height": null,
       "max_width": null,
       "min_height": null,
       "min_width": null,
       "object_fit": null,
       "object_position": null,
       "order": null,
       "overflow": null,
       "overflow_x": null,
       "overflow_y": null,
       "padding": null,
       "right": null,
       "top": null,
       "visibility": null,
       "width": null
      }
     },
     "f438f1c90e2a4df0840250aa274e08f0": {
      "model_module": "@jupyter-widgets/controls",
      "model_module_version": "1.5.0",
      "model_name": "HBoxModel",
      "state": {
       "_dom_classes": [],
       "_model_module": "@jupyter-widgets/controls",
       "_model_module_version": "1.5.0",
       "_model_name": "HBoxModel",
       "_view_count": null,
       "_view_module": "@jupyter-widgets/controls",
       "_view_module_version": "1.5.0",
       "_view_name": "HBoxView",
       "box_style": "",
       "children": [
        "IPY_MODEL_3d47a89e44fa4e1cb0cdf57eb4fcc7a8",
        "IPY_MODEL_e3abadc31f6343c286d61e9443186073"
       ],
       "layout": "IPY_MODEL_a9cd6a6d14784508978bbd6f802473c2"
      }
     }
    },
    "version_major": 2,
    "version_minor": 0
   }
  }
 },
 "nbformat": 4,
 "nbformat_minor": 4
}
