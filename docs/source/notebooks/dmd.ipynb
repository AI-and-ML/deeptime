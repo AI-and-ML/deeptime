{
 "cells": [
  {
   "cell_type": "markdown",
   "metadata": {},
   "source": [
    "# Dynamic mode decomposition\n",
    "\n",
    "Here we present the basic ideas behind a family of dynamic mode decomposition (DMD) methods. The principle idea is that DMD should be able to characterize / decompose potentially highly nonlinear dynamics by solving linear systems of equations and studying their spectral properties."
   ]
  },
  {
   "cell_type": "markdown",
   "metadata": {},
   "source": [
    "## Standard and exact DMD\n",
    "\n",
    "For people already familiar with the method and interface, the [API docs](../api/generated/deeptime.decomposition.DMD.rst).\n",
    "\n",
    "Considering a sequential set of data vectors $\\{z_1,\\ldots,z_m\\}$ with $z_i\\in\\mathbb{R}^n$ and assuming that \n",
    "\n",
    "$$ z_{k+1} = Az_k $$\n",
    "\n",
    "for some usually unknown matrix $A$, one can define standard DMD as follows (following the presentation of <cite data-cite=\"nbdmd-tu2013dynamic\">(Tu, 2013)</cite>, originally introduced as DMD in <cite data-cite=\"nbdmd-schmid2010dynamic\">(Schmid, 2010)</cite>).\n",
    "\n",
    "1. The data is arranged into matrices $X, Y$ of matching pairs of time-shifted datapoints, i.e., $Y_{i+1} = X_{i}$ for $i \\geq 1$.\n",
    "2. Compute the (optionally truncated) SVD of $X$ to obtain $X = U\\Sigma V^*$.\n",
    "3. Define $\\tilde{A} = U^*YV\\Sigma^{-1}$.\n",
    "4. Compute eigenvalues and eigenvectors $\\tilde A w = \\lambda w$.\n",
    "5. The DMD mode corresponding to the DMD eigenvalue $\\lambda$ is given by $\\hat\\varphi = Uw$.\n",
    "\n",
    "It should be remarked that even if the data-generating dynamics are nonlinear, it is assumed that there exists some linear operator $A$ which approximates these.\n",
    "\n",
    "The notion of \"exact\" DMD <cite data-cite=\"nbdmd-tu2013dynamic\">(Tu, 2013)</cite> weakens the assumptions and only requires that the data vectors are corresponding pairs of data. The operator $A$ is defined as the solution to the best-approximation of $\\| AX - Y\\|_F$.\n",
    "This leads to exact DMD modes corresponding to eigenvalue $\\lambda$ of the form\n",
    "\n",
    "$$ \\varphi = \\frac{1}{\\lambda}YV\\Sigma^{-1}w. $$"
   ]
  },
  {
   "cell_type": "markdown",
   "metadata": {},
   "source": [
    "Both estimation modes are united within the same estimator in Deeptime:"
   ]
  },
  {
   "cell_type": "code",
   "execution_count": null,
   "metadata": {},
   "outputs": [],
   "source": [
    "import deeptime as dt\n",
    "\n",
    "standard_dmd = dt.decomposition.DMD(mode='standard')\n",
    "exact_dmd = dt.decomposition.DMD(mode='exact')"
   ]
  },
  {
   "cell_type": "markdown",
   "metadata": {},
   "source": [
    "The standard DMD is sometimes also referred to as projected DMD <cite data-cite=\"tu2013dynamic\">(Tu, 2013)</cite> since the modes $\\hat\\varphi$ are eigenvectors of $\\mathbb{P}_XA$, where $\\mathbb{P}_X = UU^*$ is the orthogonal projection onto the image of $X$. If data vectors $y_i$ are in the $\\mathrm{span}\\{x_i\\}$, then $\\mathbb{P}_X = \\mathrm{Id}$; projected/standard and exact DMD modes coincide.\n",
    "\n",
    "This can be especially relevant if there are more dimensions than datapoints."
   ]
  },
  {
   "cell_type": "markdown",
   "metadata": {},
   "source": [
    "We demonstrate the methods using a random orthogonal matrix $A$ which serves as out propagator plus some normal distributed noise, i.e.,\n",
    "\n",
    "$$ x_{t+1} = Ax_t + \\mathcal{N}(0, 10^{-4}). $$"
   ]
  },
  {
   "cell_type": "code",
   "execution_count": null,
   "metadata": {},
   "outputs": [],
   "source": [
    "import numpy as np\n",
    "\n",
    "state = np.random.RandomState(45)\n",
    "\n",
    "A = np.linalg.qr(state.normal(size=(2, 2)))[0]\n",
    "x0 = state.uniform(-1, 1, size=(A.shape[0],))\n",
    "\n",
    "data = np.empty((500, A.shape[0]))\n",
    "data[0] = x0\n",
    "for t in range(1, len(data)):\n",
    "    data[t] = A @ data[t - 1] + state.normal(scale=1e-4, size=(2,))"
   ]
  },
  {
   "cell_type": "markdown",
   "metadata": {},
   "source": [
    "Visualizing the generated data we can see that it is a jumping process between two wells."
   ]
  },
  {
   "cell_type": "code",
   "execution_count": null,
   "metadata": {},
   "outputs": [],
   "source": [
    "import matplotlib.pyplot as plt\n",
    "plt.scatter(*data.T);"
   ]
  },
  {
   "cell_type": "markdown",
   "metadata": {},
   "source": [
    "Fitting the models to this dataset reveals that the eigenvalues are identical:"
   ]
  },
  {
   "cell_type": "code",
   "execution_count": null,
   "metadata": {},
   "outputs": [],
   "source": [
    "standard_model = standard_dmd.fit((data[:-1], data[1:])).fetch_model()\n",
    "exact_model = exact_dmd.fit((data[:-1], data[1:])).fetch_model()"
   ]
  },
  {
   "cell_type": "code",
   "execution_count": null,
   "metadata": {},
   "outputs": [],
   "source": [
    "print(f\"Eigenvalues standard {standard_model.eigenvalues}, exact {exact_model.eigenvalues}\")"
   ]
  },
  {
   "cell_type": "markdown",
   "metadata": {},
   "source": [
    "We propagate the first ten datapoints using our estimated models:"
   ]
  },
  {
   "cell_type": "code",
   "execution_count": null,
   "metadata": {},
   "outputs": [],
   "source": [
    "traj_standard = standard_model.transform(data)\n",
    "traj_exact = exact_model.transform(data)"
   ]
  },
  {
   "cell_type": "markdown",
   "metadata": {},
   "source": [
    "A scatter plot reveals that all data points get mapped to the same two wells and the propagator was approximated almost perfectly."
   ]
  },
  {
   "cell_type": "code",
   "execution_count": null,
   "metadata": {},
   "outputs": [],
   "source": [
    "plt.scatter(*data.T, alpha=.5, marker='x', label='ground truth')\n",
    "plt.scatter(*np.real(traj_standard)[::5].T, marker='*',alpha=.5, label='standard DMD')\n",
    "plt.scatter(*np.real(traj_exact)[::5].T, alpha=.1, label='exact DMD')\n",
    "plt.legend();"
   ]
  },
  {
   "cell_type": "markdown",
   "metadata": {},
   "source": [
    "## EDMD"
   ]
  },
  {
   "cell_type": "code",
   "execution_count": null,
   "metadata": {},
   "outputs": [],
   "source": [
    "import deeptime as dt\n",
    "\n",
    "import deeptime.data._data_bindings as bd"
   ]
  },
  {
   "cell_type": "code",
   "execution_count": null,
   "metadata": {},
   "outputs": [],
   "source": [
    ".1/1e-5"
   ]
  },
  {
   "cell_type": "code",
   "execution_count": null,
   "metadata": {},
   "outputs": [],
   "source": [
    "tw = bd.TripleWell2D()"
   ]
  },
  {
   "cell_type": "code",
   "execution_count": null,
   "metadata": {},
   "outputs": [],
   "source": [
    "N = 55000\n",
    "X = np.stack([np.random.uniform(-2, 2, size=(N,)), np.random.uniform(-1, 2, size=(N,))]).T"
   ]
  },
  {
   "cell_type": "code",
   "execution_count": null,
   "metadata": {},
   "outputs": [],
   "source": [
    "print(X.shape)"
   ]
  },
  {
   "cell_type": "code",
   "execution_count": null,
   "metadata": {},
   "outputs": [],
   "source": [
    "Y = tw(X, n_threads=8)"
   ]
  },
  {
   "cell_type": "code",
   "execution_count": null,
   "metadata": {},
   "outputs": [],
   "source": [
    "Y.shape"
   ]
  },
  {
   "cell_type": "code",
   "execution_count": null,
   "metadata": {},
   "outputs": [],
   "source": [
    "basis = dt.basis.Monomials(10)\n",
    "edmd_estimator = dt.decomposition.EDMD(basis, n_eigs=None)\n",
    "edmd_model = edmd_estimator.fit((X, Y)).fetch_model()"
   ]
  },
  {
   "cell_type": "code",
   "execution_count": null,
   "metadata": {},
   "outputs": [],
   "source": [
    "edmd_model.eigenvalues.shape"
   ]
  },
  {
   "cell_type": "code",
   "execution_count": null,
   "metadata": {},
   "outputs": [],
   "source": [
    "plt.plot(np.real(edmd_model.eigenvalues), 'x')"
   ]
  },
  {
   "cell_type": "code",
   "execution_count": null,
   "metadata": {},
   "outputs": [],
   "source": [
    "edmd_model.modes.shape"
   ]
  },
  {
   "cell_type": "code",
   "execution_count": null,
   "metadata": {},
   "outputs": [],
   "source": [
    "edmd_model.basis(X).shape"
   ]
  },
  {
   "cell_type": "code",
   "execution_count": null,
   "metadata": {},
   "outputs": [],
   "source": [
    "phi = np.real(edmd_model.transform(X))\n",
    "\n",
    "# normalize\n",
    "for i in range(len(edmd_model.eigenvalues)):\n",
    "    phi[:, i] = phi[:, i] / np.max(np.abs(phi[:, i]))"
   ]
  },
  {
   "cell_type": "code",
   "execution_count": null,
   "metadata": {},
   "outputs": [],
   "source": [
    "fig = plt.figure(figsize=(8, 8))\n",
    "gs = fig.add_gridspec(ncols=2, nrows=2)\n",
    "\n",
    "ax = fig.add_subplot(gs[0, 0])\n",
    "ax.scatter(*X.T, c=phi[:, 0])\n",
    "ax.set_title('1st eigenfunction')\n",
    "\n",
    "ax = fig.add_subplot(gs[0, 1])\n",
    "ax.scatter(*X.T, c=phi[:, 1])\n",
    "ax.set_title('2nd eigenfunction')\n",
    "\n",
    "ax = fig.add_subplot(gs[1, 0])\n",
    "ax.scatter(*X.T, c=phi[:, 2])\n",
    "ax.set_title('3rd eigenfunction')\n",
    "\n",
    "ax = fig.add_subplot(gs[1, 1])\n",
    "ax.scatter(*X.T, c=phi[:, 3])\n",
    "ax.set_title('4th eigenfunction');"
   ]
  },
  {
   "cell_type": "code",
   "execution_count": null,
   "metadata": {},
   "outputs": [],
   "source": [
    "phi.shape"
   ]
  },
  {
   "cell_type": "code",
   "execution_count": null,
   "metadata": {},
   "outputs": [],
   "source": [
    "pp = phi[..., :8]"
   ]
  },
  {
   "cell_type": "code",
   "execution_count": null,
   "metadata": {},
   "outputs": [],
   "source": [
    "kmeans = dt.clustering.Kmeans(n_clusters=3, n_jobs=4).fit(np.real(pp)).fetch_model()\n",
    "c = kmeans.transform(np.real(pp))\n",
    "\n",
    "f, (ax1, ax2) = plt.subplots(1, 2, figsize=(12, 6))\n",
    "ax1.scatter(*X.T, c=c)\n",
    "ax1.set_aspect('equal')\n",
    "ax2.scatter(*Y.T, c=c)\n",
    "ax2.set_aspect('equal')"
   ]
  },
  {
   "cell_type": "raw",
   "metadata": {
    "raw_mimetype": "text/restructuredtext"
   },
   "source": [
    ".. rubric:: References\n",
    "\n",
    ".. bibliography:: /references.bib\n",
    "    :style: unsrt\n",
    "    :filter: docname in docnames\n",
    "    :keyprefix: nbdmd-"
   ]
  }
 ],
 "metadata": {
  "celltoolbar": "Raw Cell Format",
  "kernelspec": {
   "display_name": "Python 3",
   "language": "python",
   "name": "python3"
  },
  "language_info": {
   "codemirror_mode": {
    "name": "ipython",
    "version": 3
   },
   "file_extension": ".py",
   "mimetype": "text/x-python",
   "name": "python",
   "nbconvert_exporter": "python",
   "pygments_lexer": "ipython3",
   "version": "3.8.6"
  }
 },
 "nbformat": 4,
 "nbformat_minor": 4
}
