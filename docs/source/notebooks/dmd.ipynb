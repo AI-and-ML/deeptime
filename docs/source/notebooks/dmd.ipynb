{
 "cells": [
  {
   "cell_type": "markdown",
   "metadata": {},
   "source": [
    "# Dynamic mode decomposition\n",
    "\n",
    "Here we present the basic ideas behind a family of dynamic mode decomposition (DMD) methods. In particular the original \"standard DMD\"<cite data-cite=\"nbdmd-schmid2010dynamic\">(Schmid, 2010)</cite>, its variant \"exact DMD\"<cite data-cite=\"nbdmd-tu2013dynamic\">(Tu, 2013)</cite>, as well as \"extended DMD\" <cite data-cite=\"nbdmd-williams2015data\">(Williams, 2015)</cite>. The principle idea is that DMD should be able to characterize / decompose potentially highly nonlinear dynamics by solving linear systems of equations and studying their spectral properties."
   ]
  },
  {
   "cell_type": "markdown",
   "metadata": {},
   "source": [
    "## Standard and exact DMD\n",
    "\n",
    "For people already familiar with the method and interface, the [API docs](../api/generated/deeptime.decomposition.DMD.rst).\n",
    "\n",
    "Considering a sequential set of data vectors $\\{z_1,\\ldots,z_m\\}$ with $z_i\\in\\mathbb{R}^n$ and assuming that \n",
    "\n",
    "$$ z_{k+1} = Az_k $$\n",
    "\n",
    "for some usually unknown matrix $A$, one can define standard DMD as follows (following the presentation of <cite data-cite=\"nbdmd-tu2013dynamic\">(Tu, 2013)</cite>, originally introduced as DMD in <cite data-cite=\"nbdmd-schmid2010dynamic\">(Schmid, 2010)</cite>).\n",
    "\n",
    "1. The data is arranged into matrices $X, Y$ of matching pairs of time-shifted datapoints, i.e., $Y_{i+1} = X_{i}$ for $i \\geq 1$.\n",
    "2. Compute the (optionally truncated) SVD of $X$ to obtain $X = U\\Sigma V^*$.\n",
    "3. Define $\\tilde{A} = U^*YV\\Sigma^{-1}$.\n",
    "4. Compute eigenvalues and eigenvectors $\\tilde A w = \\lambda w$.\n",
    "5. The DMD mode corresponding to the DMD eigenvalue $\\lambda$ is given by $\\hat\\varphi = Uw$.\n",
    "\n",
    "It should be remarked that even if the data-generating dynamics are nonlinear, it is assumed that there exists some linear operator $A$ which approximates these.\n",
    "\n",
    "The notion of \"exact\" DMD <cite data-cite=\"nbdmd-tu2013dynamic\">(Tu, 2013)</cite> weakens the assumptions and only requires that the data vectors are corresponding pairs of data. The operator $A$ is defined as the solution to the best-approximation of $\\| AX - Y\\|_F$.\n",
    "This leads to exact DMD modes corresponding to eigenvalue $\\lambda$ of the form\n",
    "\n",
    "$$ \\varphi = \\frac{1}{\\lambda}YV\\Sigma^{-1}w. $$"
   ]
  },
  {
   "cell_type": "markdown",
   "metadata": {},
   "source": [
    "Both estimation modes are united within the same estimator in Deeptime:"
   ]
  },
  {
   "cell_type": "code",
   "execution_count": null,
   "metadata": {
    "execution": {
     "iopub.execute_input": "2020-12-02T13:40:40.500084Z",
     "iopub.status.busy": "2020-12-02T13:40:40.498172Z",
     "iopub.status.idle": "2020-12-02T13:40:41.495100Z",
     "shell.execute_reply": "2020-12-02T13:40:41.494618Z"
    }
   },
   "outputs": [],
   "source": [
    "import deeptime as dt\n",
    "\n",
    "standard_dmd = dt.decomposition.DMD(mode='standard')\n",
    "exact_dmd = dt.decomposition.DMD(mode='exact')"
   ]
  },
  {
   "cell_type": "markdown",
   "metadata": {},
   "source": [
    "The standard DMD is sometimes also referred to as projected DMD <cite data-cite=\"nbdmd-tu2013dynamic\">(Tu, 2013)</cite> since the modes $\\hat\\varphi$ are eigenvectors of $\\mathbb{P}_XA$, where $\\mathbb{P}_X = UU^*$ is the orthogonal projection onto the image of $X$. If data vectors $y_i$ are in the $\\mathrm{span}\\{x_i\\}$, then $\\mathbb{P}_X = \\mathrm{Id}$; projected/standard and exact DMD modes coincide.\n",
    "\n",
    "This can be especially relevant if there are more dimensions than datapoints."
   ]
  },
  {
   "cell_type": "markdown",
   "metadata": {},
   "source": [
    "We demonstrate the methods using a random orthogonal matrix $A$ which serves as out propagator plus some normal distributed noise, i.e.,\n",
    "\n",
    "$$ x_{t+1} = Ax_t + \\mathcal{N}(0, 10^{-4}). $$"
   ]
  },
  {
   "cell_type": "code",
   "execution_count": null,
   "metadata": {
    "execution": {
     "iopub.execute_input": "2020-12-02T13:40:41.505087Z",
     "iopub.status.busy": "2020-12-02T13:40:41.504640Z",
     "iopub.status.idle": "2020-12-02T13:40:41.510467Z",
     "shell.execute_reply": "2020-12-02T13:40:41.509990Z"
    }
   },
   "outputs": [],
   "source": [
    "import numpy as np\n",
    "\n",
    "state = np.random.RandomState(45)\n",
    "\n",
    "A = np.linalg.qr(state.normal(size=(2, 2)))[0]\n",
    "x0 = state.uniform(-1, 1, size=(A.shape[0],))\n",
    "\n",
    "data = np.empty((500, A.shape[0]))\n",
    "data[0] = x0\n",
    "for t in range(1, len(data)):\n",
    "    data[t] = A @ data[t - 1] + state.normal(scale=1e-4, size=(2,))"
   ]
  },
  {
   "cell_type": "markdown",
   "metadata": {},
   "source": [
    "Visualizing the generated data we can see that it is a jumping process between two wells."
   ]
  },
  {
   "cell_type": "code",
   "execution_count": null,
   "metadata": {
    "execution": {
     "iopub.execute_input": "2020-12-02T13:40:41.513933Z",
     "iopub.status.busy": "2020-12-02T13:40:41.513407Z",
     "iopub.status.idle": "2020-12-02T13:40:41.947311Z",
     "shell.execute_reply": "2020-12-02T13:40:41.946769Z"
    }
   },
   "outputs": [],
   "source": [
    "import matplotlib.pyplot as plt\n",
    "plt.scatter(*data.T);"
   ]
  },
  {
   "cell_type": "markdown",
   "metadata": {},
   "source": [
    "Fitting the models to this dataset reveals that the eigenvalues are identical:"
   ]
  },
  {
   "cell_type": "code",
   "execution_count": null,
   "metadata": {
    "execution": {
     "iopub.execute_input": "2020-12-02T13:40:41.954406Z",
     "iopub.status.busy": "2020-12-02T13:40:41.953796Z",
     "iopub.status.idle": "2020-12-02T13:40:41.956570Z",
     "shell.execute_reply": "2020-12-02T13:40:41.955988Z"
    }
   },
   "outputs": [],
   "source": [
    "standard_model = standard_dmd.fit((data[:-1], data[1:])).fetch_model()\n",
    "exact_model = exact_dmd.fit((data[:-1], data[1:])).fetch_model()"
   ]
  },
  {
   "cell_type": "code",
   "execution_count": null,
   "metadata": {
    "execution": {
     "iopub.execute_input": "2020-12-02T13:40:41.960968Z",
     "iopub.status.busy": "2020-12-02T13:40:41.960426Z",
     "iopub.status.idle": "2020-12-02T13:40:41.963284Z",
     "shell.execute_reply": "2020-12-02T13:40:41.962743Z"
    }
   },
   "outputs": [],
   "source": [
    "print(f\"Eigenvalues standard {standard_model.eigenvalues}, exact {exact_model.eigenvalues}\")"
   ]
  },
  {
   "cell_type": "markdown",
   "metadata": {},
   "source": [
    "We propagate the first ten datapoints using our estimated models:"
   ]
  },
  {
   "cell_type": "code",
   "execution_count": null,
   "metadata": {
    "execution": {
     "iopub.execute_input": "2020-12-02T13:40:41.972628Z",
     "iopub.status.busy": "2020-12-02T13:40:41.966595Z",
     "iopub.status.idle": "2020-12-02T13:40:41.975087Z",
     "shell.execute_reply": "2020-12-02T13:40:41.974505Z"
    }
   },
   "outputs": [],
   "source": [
    "traj_standard = standard_model.transform(data)\n",
    "traj_exact = exact_model.transform(data)"
   ]
  },
  {
   "cell_type": "markdown",
   "metadata": {},
   "source": [
    "A scatter plot reveals that all data points get mapped to the same two wells and the propagator was approximated almost perfectly."
   ]
  },
  {
   "cell_type": "code",
   "execution_count": null,
   "metadata": {
    "execution": {
     "iopub.execute_input": "2020-12-02T13:40:41.995272Z",
     "iopub.status.busy": "2020-12-02T13:40:41.994708Z",
     "iopub.status.idle": "2020-12-02T13:40:42.198148Z",
     "shell.execute_reply": "2020-12-02T13:40:42.197182Z"
    }
   },
   "outputs": [],
   "source": [
    "plt.scatter(*data.T, alpha=.5, marker='x', label='ground truth')\n",
    "plt.scatter(*np.real(traj_standard)[::5].T, marker='*',alpha=.5, label='standard DMD')\n",
    "plt.scatter(*np.real(traj_exact)[::5].T, alpha=.1, label='exact DMD')\n",
    "plt.legend();"
   ]
  },
  {
   "cell_type": "markdown",
   "metadata": {},
   "source": [
    "## Extended DMD\n",
    "\n",
    "For people already familiar with the method and interface, the [API docs](../api/generated/deeptime.decomposition.EDMD.rst).\n",
    "\n",
    "Similarly to DMD, extended DMD (EDMD) <cite data-cite=\"nbdmd-williams2015data\">(Williams, 2015)</cite> is a data-driven method to approximate the Koopman operator. The Koopman operator $\\mathcal{K}$ describes how an observable of an (potentially stochastic) dynamical system evolves in time. In a discrete-time setting with $x_{t+1} = T(x_t)$ and an observable $g$, the Koopman operator is defined as\n",
    "\n",
    "$$\n",
    "(\\mathcal{K} g)(x) = g(T(x)).\n",
    "$$\n",
    "\n",
    "Given observation data $X$ and $Y$, where $y_i = T(x_i)$ and a basis set of functions or observables\n",
    "\n",
    "$$\n",
    "B = \\{ \\psi_1,\\psi_2,\\ldots,\\psi_k \\},\n",
    "$$\n",
    "\n",
    "one can define the transformed data $\\Psi_X$ and $\\Psi_Y$ with \n",
    "\n",
    "$$(\\Psi_*)_i = (\\psi_1(*_i),\\ldots, \\psi_k(*_i))^\\top, $$\n",
    "\n",
    "yielding\n",
    "\n",
    "$$\n",
    "\\Psi_Y^\\top = \\Psi_X^\\top K.\n",
    "$$\n",
    "\n",
    "Here, $K^\\top\\in\\mathbb{R}^{k\\times k}$ acting from the left is the projection of the true Koopman operator $\\mathcal{K}$ into the basis $B$.\n",
    "\n",
    "Usually one performs rank-truncation or has over-/underdetermined systems. In such cases, $K$ is determined via the pseudo-inverse $K=\\Psi_Y\\Psi_X^\\dagger$.\n",
    "\n",
    "In case of a basis $B$ which just contains the identity, EDMD reduces back to DMD."
   ]
  },
  {
   "cell_type": "markdown",
   "metadata": {},
   "source": [
    "To demonstrate EDMD and deeptime's API, we consider a [two-dimensional triple-well potential](../api/generated/deeptime.data.triple_well_2d.rst#deeptime.data.triple_well_2d) <cite data-cite=\"nbdmd-schutte2013metastability\">(Schütte, 2013)</cite>. It is defined on $[-2,2]\\times [-1, 2]$ and looks like the following:"
   ]
  },
  {
   "cell_type": "code",
   "execution_count": null,
   "metadata": {
    "execution": {
     "iopub.execute_input": "2020-12-02T13:40:42.211907Z",
     "iopub.status.busy": "2020-12-02T13:40:42.210870Z",
     "iopub.status.idle": "2020-12-02T13:40:42.435097Z",
     "shell.execute_reply": "2020-12-02T13:40:42.435476Z"
    }
   },
   "outputs": [],
   "source": [
    "import numpy as np\n",
    "\n",
    "x = np.linspace(-2, 2, num=100)\n",
    "y = np.linspace(-1, 2, num=100)\n",
    "XX, YY = np.meshgrid(x, y)\n",
    "V = 3*np.exp(-(XX**2) - (YY - 1/3)**2) - 3*np.exp(-XX**2 - (YY - 5/3)**2) \\\n",
    "    - 5*np.exp(-(XX-1)**2 - YY**2) - 5*np.exp(-(XX+1)**2 - YY**2) \\\n",
    "    + (2/10)*XX**4 + (2/10)*(YY-1/3)**4\n",
    "\n",
    "plt.contourf(x, y, V, levels=np.linspace(-4.5, 4.5, 20), cmap='coolwarm');"
   ]
  },
  {
   "cell_type": "markdown",
   "metadata": {},
   "source": [
    "Inside this potential landscape we integrate particles subject to the stochastic differential equation\n",
    "\n",
    "$$ \\mathrm{d}X_t = \\nabla V(X_t) \\mathrm{d}t + \\sigma(t, X_t)\\mathrm{d}W_t $$\n",
    "\n",
    "with $\\sigma=1.09$, using an Euler-Maruyama integrator."
   ]
  },
  {
   "cell_type": "code",
   "execution_count": null,
   "metadata": {
    "execution": {
     "iopub.execute_input": "2020-12-02T13:40:42.991380Z",
     "iopub.status.busy": "2020-12-02T13:40:42.990441Z",
     "iopub.status.idle": "2020-12-02T13:40:43.172348Z",
     "shell.execute_reply": "2020-12-02T13:40:43.171818Z"
    }
   },
   "outputs": [],
   "source": [
    "import deeptime as dt\n",
    "\n",
    "system = dt.data.triple_well_2d()\n",
    "traj = system.trajectory(x0=[[-1, 0]], n_evaluations=200, seed=66)\n",
    "\n",
    "plt.contourf(x, y, V, levels=np.linspace(-4.5, 4.5, 20), cmap='coolwarm')\n",
    "plt.plot(*traj.T, c='black', lw=.5);"
   ]
  },
  {
   "cell_type": "markdown",
   "metadata": {},
   "source": [
    "To approximate the Koopman operator, we first select 25000 random points inside the domain and integrate them for 10000 steps under an integration step of $h=10^{-5}$:"
   ]
  },
  {
   "cell_type": "code",
   "execution_count": null,
   "metadata": {
    "execution": {
     "iopub.execute_input": "2020-12-02T13:40:43.176041Z",
     "iopub.status.busy": "2020-12-02T13:40:43.175377Z",
     "iopub.status.idle": "2020-12-02T13:40:56.202285Z",
     "shell.execute_reply": "2020-12-02T13:40:56.202619Z"
    }
   },
   "outputs": [],
   "source": [
    "N = 25000\n",
    "state = np.random.RandomState(seed=42)\n",
    "X = np.stack([state.uniform(-2, 2, size=(N,)), state.uniform(-1, 2, size=(N,))]).T\n",
    "Y = system(X, n_jobs=8)"
   ]
  },
  {
   "cell_type": "markdown",
   "metadata": {},
   "source": [
    "Now we pick a basis $B$ to be all monomials up to and including degree $\\mathrm{deg}=10$."
   ]
  },
  {
   "cell_type": "code",
   "execution_count": null,
   "metadata": {
    "execution": {
     "iopub.execute_input": "2020-12-02T13:40:56.205908Z",
     "iopub.status.busy": "2020-12-02T13:40:56.205419Z",
     "iopub.status.idle": "2020-12-02T13:40:56.207802Z",
     "shell.execute_reply": "2020-12-02T13:40:56.207238Z"
    }
   },
   "outputs": [],
   "source": [
    "basis = dt.basis.Monomials(10)"
   ]
  },
  {
   "cell_type": "markdown",
   "metadata": {},
   "source": [
    "Using this basis, we can fit an EDMD estimator and obtain the corresponding model."
   ]
  },
  {
   "cell_type": "code",
   "execution_count": null,
   "metadata": {
    "execution": {
     "iopub.execute_input": "2020-12-02T13:40:56.328062Z",
     "iopub.status.busy": "2020-12-02T13:40:56.327557Z",
     "iopub.status.idle": "2020-12-02T13:40:56.461487Z",
     "shell.execute_reply": "2020-12-02T13:40:56.462059Z"
    }
   },
   "outputs": [],
   "source": [
    "edmd_estimator = dt.decomposition.EDMD(basis, n_eigs=8)\n",
    "edmd_model = edmd_estimator.fit((X, Y)).fetch_model()"
   ]
  },
  {
   "cell_type": "markdown",
   "metadata": {},
   "source": [
    "We can obtain the dominant eigenvalues associated to processes in the system."
   ]
  },
  {
   "cell_type": "code",
   "execution_count": null,
   "metadata": {
    "execution": {
     "iopub.execute_input": "2020-12-02T13:40:56.477160Z",
     "iopub.status.busy": "2020-12-02T13:40:56.476591Z",
     "iopub.status.idle": "2020-12-02T13:40:56.625835Z",
     "shell.execute_reply": "2020-12-02T13:40:56.626269Z"
    }
   },
   "outputs": [],
   "source": [
    "plt.plot(np.real(edmd_model.eigenvalues), 'x')\n",
    "plt.title('Dominant eigenvalues');"
   ]
  },
  {
   "cell_type": "markdown",
   "metadata": {},
   "source": [
    "We project our input data $X$ using the eigenfunctions:"
   ]
  },
  {
   "cell_type": "code",
   "execution_count": null,
   "metadata": {
    "execution": {
     "iopub.execute_input": "2020-12-02T13:40:56.716746Z",
     "iopub.status.busy": "2020-12-02T13:40:56.715797Z",
     "iopub.status.idle": "2020-12-02T13:40:56.734319Z",
     "shell.execute_reply": "2020-12-02T13:40:56.734997Z"
    }
   },
   "outputs": [],
   "source": [
    "phi = np.real(edmd_model.transform(X))\n",
    "\n",
    "# normalize\n",
    "for i in range(len(edmd_model.eigenvalues)):\n",
    "    phi[:, i] = phi[:, i] / np.max(np.abs(phi[:, i]))"
   ]
  },
  {
   "cell_type": "markdown",
   "metadata": {},
   "source": [
    "And visualize the first four eigenfunctions. They contain information about metastable regions and slow transitions."
   ]
  },
  {
   "cell_type": "code",
   "execution_count": null,
   "metadata": {
    "execution": {
     "iopub.execute_input": "2020-12-02T13:40:56.755619Z",
     "iopub.status.busy": "2020-12-02T13:40:56.751184Z",
     "iopub.status.idle": "2020-12-02T13:40:58.890132Z",
     "shell.execute_reply": "2020-12-02T13:40:58.890535Z"
    }
   },
   "outputs": [],
   "source": [
    "fig = plt.figure(figsize=(8, 8))\n",
    "gs = fig.add_gridspec(ncols=2, nrows=2)\n",
    "\n",
    "ax = fig.add_subplot(gs[0, 0])\n",
    "ax.scatter(*X.T, c=phi[:, 0], cmap='coolwarm')\n",
    "ax.set_title('1st eigenfunction')\n",
    "\n",
    "ax = fig.add_subplot(gs[0, 1])\n",
    "ax.scatter(*X.T, c=phi[:, 1], cmap='coolwarm')\n",
    "ax.set_title('2nd eigenfunction')\n",
    "\n",
    "ax = fig.add_subplot(gs[1, 0])\n",
    "ax.scatter(*X.T, c=phi[:, 2], cmap='coolwarm')\n",
    "ax.set_title('3rd eigenfunction')\n",
    "\n",
    "ax = fig.add_subplot(gs[1, 1])\n",
    "ax.scatter(*X.T, c=phi[:, 3], cmap='coolwarm')\n",
    "ax.set_title('4th eigenfunction');"
   ]
  },
  {
   "cell_type": "markdown",
   "metadata": {},
   "source": [
    "Using a clustering can reveal temporally coherent structures."
   ]
  },
  {
   "cell_type": "code",
   "execution_count": null,
   "metadata": {
    "execution": {
     "iopub.execute_input": "2020-12-02T13:40:58.897077Z",
     "iopub.status.busy": "2020-12-02T13:40:58.896470Z",
     "iopub.status.idle": "2020-12-02T13:41:00.376166Z",
     "shell.execute_reply": "2020-12-02T13:41:00.376709Z"
    }
   },
   "outputs": [],
   "source": [
    "kmeans = dt.clustering.Kmeans(n_clusters=6, n_jobs=4).fit(np.real(phi)).fetch_model()\n",
    "c = kmeans.transform(np.real(phi))\n",
    "\n",
    "f, (ax1, ax2) = plt.subplots(1, 2, figsize=(12, 6))\n",
    "ax1.scatter(*X.T, c=c)\n",
    "ax1.set_title(r\"$t = 0$\")\n",
    "ax1.set_aspect('equal')\n",
    "ax1.set_xlim([-2.5, 2.5])\n",
    "ax1.set_ylim([-1.5, 2.5])\n",
    "ax1.contour(x, y, V, levels=np.linspace(-4.5, 4.5, 20), colors='black')\n",
    "\n",
    "ax2.scatter(*Y.T, c=c)\n",
    "ax2.set_title(r\"$t = 0.1$\")\n",
    "ax2.set_aspect('equal')\n",
    "ax2.set_xlim([-2.5, 2.5])\n",
    "ax2.set_ylim([-1.5, 2.5])\n",
    "ax2.contour(x, y, V, levels=np.linspace(-4.5, 4.5, 20), colors='black');"
   ]
  },
  {
   "cell_type": "raw",
   "metadata": {
    "raw_mimetype": "text/restructuredtext"
   },
   "source": [
    ".. rubric:: References\n",
    "\n",
    ".. bibliography:: /references.bib\n",
    "    :style: unsrt\n",
    "    :filter: docname in docnames\n",
    "    :keyprefix: nbdmd-"
   ]
  }
 ],
 "metadata": {
  "celltoolbar": "Raw Cell Format",
  "kernelspec": {
   "display_name": "Python 3",
   "language": "python",
   "name": "python3"
  },
  "language_info": {
   "codemirror_mode": {
    "name": "ipython",
    "version": 3
   },
   "file_extension": ".py",
   "mimetype": "text/x-python",
   "name": "python",
   "nbconvert_exporter": "python",
   "pygments_lexer": "ipython3",
   "version": "3.8.6"
  }
 },
 "nbformat": 4,
 "nbformat_minor": 4
}
