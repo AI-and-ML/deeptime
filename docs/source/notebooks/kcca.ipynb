{
 "cells": [
  {
   "cell_type": "markdown",
   "metadata": {},
   "source": [
    "# Kernel CCA\n",
    "\n",
    "This notebook illustrates how to use kernel canonical correlation analysis (kernel CCA) to compute coherent sets.\n",
    "\n",
    "CCA <cite data-cite=\"nbkcca-hotelling1992relations\">(Hotelling, 1992)</cite> was originally developed to maximize the correlation between two multidimensional random variables $X$ and $Y$. Kernel CCA is a nonlinear variant of CCA, where the standard inner products are replaced by a kernel function $k$ (using the well-known *kernel trick*). Popular kernel functions are the polynomial kernel $k(x, x^\\prime) = (c + x^\\top x^\\prime)^p$ and the Gaussian kernel $k(x, x^\\prime) = \\exp(-\\|x-x^\\prime\\|_2^2/2\\sigma^2)$, see also [deeptime.kernels](../api/index_kernels.rst). In our setting, $Y$ is a time-lagged version of $X$, i.e., we consider the process $Y_t = X_{t + \\tau}$. Here, $\\tau$ is a fixed lag time. The kernel CCA problem <cite data-cite=\"nbkcca-bach2002kernel\">(Bach, 2002)</cite> can be written as an optimization problem of the form\n",
    "$$\n",
    "    \\sup_{\\substack{ f \\in \\mathbb{H}_X \\\\ g \\in \\mathbb{H}_Y }} \\langle g, C_{YX} f \\rangle_{\\mathbb{H}_y} \\quad \\text{s.t.} \\quad\n",
    "    \\begin{cases}\n",
    "    \\langle f, C_{XX} f\\rangle_{\\mathbb{H}_X} = 1, \\\\\n",
    "    \\langle g, C_{YY} g\\rangle_{\\mathbb{H}_Y} = 1,\n",
    "    \\end{cases}\n",
    "$$\n",
    "where $C_{XX}$ and $C_{YY}$ are covariance operators associated with $X$ and $Y$, respectively, and $C_{YX}$ is the cross-covariance operator (these operators can be regarded as nonlinear versions of covariance and cross-covariance matrices). The solution of this optimization problem is given by the solution of a generalized eigenvalue problem, which can be simplified to\n",
    "$$\n",
    "    \\big(C_{XX} + \\varepsilon \\mathcal{I}\\big)^{-1} C_{XY} \\big(C_{YY} + \\varepsilon \\mathcal{I}\\big)^{-1} C_{YX} f = \\rho^2 f.\n",
    "$$\n",
    "Since the covariance operators are in general not invertible, we regularized the problem: $\\varepsilon$ is a regularization parameter and $\\mathcal{I}$ the identity operator. We estimate these operators using training data $\\{x_i\\}_{i=1}^n$ and $\\{y_i\\}_{i=1}^n$, where $y_i$ is the time-lagged version of $ x_i $. Eigenfunctions of this operator eigenvalue problem can be found by solving an auxiliary matrix eigenvalue problem: Let $ G_{XX} $ and $ G_{YY} $ denote the Gram matrices with entries $[G_{XX}]_{ij} = k(x_i, x_j)$ and $[G_{YY}]_{ij} = k(y_i, y_j)$ and $I$ the identity matrix. We solve\n",
    "$$\n",
    "  (G_{XX} + n \\varepsilon I)^{-1} G_{XX} G_{YY} (G_{YY} + n \\varepsilon I)^{-1} v = \\rho^2 v\n",
    "$$\n",
    "and obtain eigenfunctions $f = \\Phi v$, where $\\Phi = [k(x_1, \\cdot), \\dots, k(x_n, \\cdot)]$ is the feature matrix associated with $X$. There are many equivalent formulations, a detailed derivation can be found in <cite data-cite=\"nbkcca-klus2019coherent\">(Klus, 2019)</cite>.\n",
    "\n",
    "Kernel CCA applied to Lagrangian data computes eigenfunctions of a dynamical operator associated with the forward-backward dynamics, which can be interpreted in terms of coherent sets as defined, e.g., in <cite data-cite=\"nbkcca-froyland2010coherent\">(Froyland, 2010)</cite>. We will use the Bickley jet as a guiding example."
   ]
  },
  {
   "cell_type": "code",
   "execution_count": null,
   "metadata": {},
   "outputs": [],
   "source": [
    "import numpy as np\n",
    "import matplotlib.pyplot as plt\n",
    "import deeptime as dt\n",
    "\n",
    "from IPython.display import HTML"
   ]
  },
  {
   "cell_type": "markdown",
   "metadata": {},
   "source": [
    "First, we uniformly sample $n$ data points in $\\mathbb{X} = [0, 20] \\times [-3, 3]$. The domain is periodic in x-direction. The lag-time is defined to be $\\tau = 40$."
   ]
  },
  {
   "cell_type": "code",
   "execution_count": null,
   "metadata": {},
   "outputs": [],
   "source": [
    "n = 3000\n",
    "bickleyData = dt.data.bickley_jet(n_particles=n, n_jobs=8)\n",
    "dataset = bickleyData.endpoints_dataset()"
   ]
  },
  {
   "cell_type": "markdown",
   "metadata": {},
   "source": [
    "We choose the Gaussian kernel with bandwidth $\\sigma = 1$. Note that this kernel does not take the periodicity into account. However, the kernel could be easily adapted to be periodic in x-direction."
   ]
  },
  {
   "cell_type": "code",
   "execution_count": null,
   "metadata": {},
   "outputs": [],
   "source": [
    "sigma = 1\n",
    "kernel = dt.kernels.GaussianKernel(sigma)"
   ]
  },
  {
   "cell_type": "markdown",
   "metadata": {},
   "source": [
    "We then compute the first nine dominant eigenvalues and corresponding eigenvectors. The regularization parameter is set to $\\epsilon = 10^{-3}$."
   ]
  },
  {
   "cell_type": "code",
   "execution_count": null,
   "metadata": {},
   "outputs": [],
   "source": [
    "kcca_estimator = dt.decomposition.KernelCCA(kernel, n_eigs=9, epsilon=1e-3)\n",
    "kcca_model = kcca_estimator.fit((dataset.data, dataset.data_lagged)).fetch_model()\n",
    "ev_real = np.real(kcca_model.eigenvectors)"
   ]
  },
  {
   "cell_type": "markdown",
   "metadata": {},
   "source": [
    "Let us visualize a few dominant eigenfunctions."
   ]
  },
  {
   "cell_type": "code",
   "execution_count": null,
   "metadata": {
    "scrolled": false
   },
   "outputs": [],
   "source": [
    "fig = plt.figure(figsize=(12, 10))\n",
    "gs = fig.add_gridspec(ncols=2, nrows=3)\n",
    "\n",
    "ax = fig.add_subplot(gs[0, 0])\n",
    "ax.scatter(*dataset.data.T, c=ev_real[:, 0])\n",
    "ax.set_title('1st eigenfunction')\n",
    "\n",
    "ax = fig.add_subplot(gs[0, 1])\n",
    "ax.scatter(*dataset.data.T, c=ev_real[:, 1])\n",
    "ax.set_title('2nd eigenfunction')\n",
    "\n",
    "ax = fig.add_subplot(gs[1, 0])\n",
    "ax.scatter(*dataset.data.T, c=ev_real[:, 2])\n",
    "ax.set_title('3rd eigenfunction')\n",
    "\n",
    "ax = fig.add_subplot(gs[1, 1])\n",
    "ax.scatter(*dataset.data.T, c=ev_real[:, 3])\n",
    "ax.set_title('4th eigenfunction')\n",
    "\n",
    "ax = fig.add_subplot(gs[2, 0])\n",
    "ax.scatter(*dataset.data.T, c=ev_real[:, 4])\n",
    "ax.set_title('5th eigenfunction')\n",
    "\n",
    "ax = fig.add_subplot(gs[2, 1])\n",
    "ax.scatter(*dataset.data.T, c=ev_real[:, 5])\n",
    "ax.set_title('6th eigenfunction')"
   ]
  },
  {
   "cell_type": "markdown",
   "metadata": {},
   "source": [
    "The first eigenfunction distinguishes between the top and bottom half of the domain. The other eigenfunctions pick up combinations of the vortices.\n",
    "\n",
    "In order to find the corresponding coherent sets, we cluster the eigenvectors using $k$-means. Here, we compute 9 clusters."
   ]
  },
  {
   "cell_type": "code",
   "execution_count": null,
   "metadata": {},
   "outputs": [],
   "source": [
    "kmeans = dt.clustering.Kmeans(n_clusters=9, n_jobs=8).fit(ev_real).fetch_model()"
   ]
  },
  {
   "cell_type": "markdown",
   "metadata": {},
   "source": [
    "Clustering of the dominant eigenfunctions results in the expected coherent sets."
   ]
  },
  {
   "cell_type": "code",
   "execution_count": null,
   "metadata": {
    "scrolled": false
   },
   "outputs": [],
   "source": [
    "plt.figure(figsize=(10, 6))\n",
    "c = kmeans.transform(ev_real)\n",
    "plt.scatter(*dataset.data.T, c=c)\n",
    "plt.title('Clustering of the eigenfunctions')"
   ]
  },
  {
   "cell_type": "code",
   "execution_count": null,
   "metadata": {},
   "outputs": [],
   "source": [
    "ani = bickleyData.make_animation(s=100, c=c/9, stride=2)\n",
    "HTML(ani.to_html5_video())"
   ]
  },
  {
   "cell_type": "raw",
   "metadata": {
    "raw_mimetype": "text/restructuredtext"
   },
   "source": [
    ".. rubric:: References\n",
    "\n",
    ".. bibliography:: /references.bib\n",
    "    :style: unsrt\n",
    "    :filter: docname in docnames\n",
    "    :keyprefix: nbkcca-"
   ]
  }
 ],
 "metadata": {
  "kernelspec": {
   "display_name": "Python 3",
   "language": "python",
   "name": "python3"
  },
  "language_info": {
   "codemirror_mode": {
    "name": "ipython",
    "version": 3
   },
   "file_extension": ".py",
   "mimetype": "text/x-python",
   "name": "python",
   "nbconvert_exporter": "python",
   "pygments_lexer": "ipython3",
   "version": "3.7.8"
  }
 },
 "nbformat": 4,
 "nbformat_minor": 4
}
